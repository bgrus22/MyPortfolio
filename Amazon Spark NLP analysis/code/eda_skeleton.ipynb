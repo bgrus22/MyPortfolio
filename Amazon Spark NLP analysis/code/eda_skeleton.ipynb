{
 "cells": [
  {
   "attachments": {},
   "cell_type": "markdown",
   "metadata": {},
   "source": [
    "## What Value does Internet News Hold?"
   ]
  },
  {
   "attachments": {},
   "cell_type": "markdown",
   "metadata": {},
   "source": [
    "Although traditional media formats are still in vogue, the internet has increasingly become a means by which individuals gain news. This brings in several considerations as the sentiment of the news aritcles read affects user sentiment on the topics and the various media corporations compete to gain attention. Numerous platforms exist in this space, with varying levels of restrictions, but through examinining a less restrictive platform we believe that we may find underlying trends in the most popular stories of the internet on major news events of the world. "
   ]
  },
  {
   "attachments": {},
   "cell_type": "markdown",
   "metadata": {},
   "source": [
    "### Why R/worldnews"
   ]
  },
  {
   "attachments": {},
   "cell_type": "markdown",
   "metadata": {},
   "source": [
    "When considering the previously mentioned options for news consumption, reddit might not be the first that people jump to. That being said, Reddit as a platform gives a lot of discretion to the subreddits to determine what sort of constraints are placed on the content being posted. Therefore, R/worldnews seems like an obvious candidate for analysis given that its users are assumed to be more politicaly neutral than the other prominent subreddits, it is not exclusively U.S. centric, and has a very open policy regarding community behavior. Unlike subreddits where moderator interventions may significantly limit user behavior, aside from the laws of a country the user resides in, users on this subreddit need only worry about their karma scores, the reddit analogue to the like mechanism social media has universaly adopted."
   ]
  },
  {
   "attachments": {},
   "cell_type": "markdown",
   "metadata": {},
   "source": [
    "### Examining the Data"
   ]
  },
  {
   "attachments": {},
   "cell_type": "markdown",
   "metadata": {},
   "source": [
    "The posts which comprise this subreddit are largely comprised of url links which share the title of the stories they relate. Given this an obvious early question was to examine what sites were being shared the most and what interaction looked like."
   ]
  },
  {
   "cell_type": "code",
   "execution_count": null,
   "metadata": {},
   "outputs": [],
   "source": [
    "#table shown\n"
   ]
  },
  {
   "attachments": {},
   "cell_type": "markdown",
   "metadata": {},
   "source": [
    "Based on the average scores we can start seeing some underlying sentiment among users for the specific domains of the types of stories they may support. We can see from the table that alternative social media sites were not popular, with more posts than comments and an average score of near 1.0. Aside from the primary reporting networks, such as AP and reuters, british news appeared to be a driving voice on the subreddit. "
   ]
  },
  {
   "attachments": {},
   "cell_type": "markdown",
   "metadata": {},
   "source": [
    "While the score can provide a sentiment metric, we also so see interaction rates via the comment rates. Given these comments, we can potentially see a metric to examine where one could target advertising if they wished to capture this reddit user base. "
   ]
  },
  {
   "cell_type": "code",
   "execution_count": null,
   "metadata": {},
   "outputs": [],
   "source": [
    "#hyper active users?"
   ]
  },
  {
   "attachments": {},
   "cell_type": "markdown",
   "metadata": {},
   "source": [
    "(commentary on whether this validates or invalidates the use of comments as a metric)"
   ]
  },
  {
   "attachments": {},
   "cell_type": "markdown",
   "metadata": {},
   "source": [
    "#### Word Cloud"
   ]
  },
  {
   "cell_type": "markdown",
   "metadata": {},
   "source": []
  },
  {
   "cell_type": "code",
   "execution_count": null,
   "metadata": {},
   "outputs": [],
   "source": [
    "# Peijin world cloud\n"
   ]
  },
  {
   "attachments": {},
   "cell_type": "markdown",
   "metadata": {},
   "source": [
    "#### Integrating the ACLED"
   ]
  },
  {
   "attachments": {},
   "cell_type": "markdown",
   "metadata": {},
   "source": [
    "Given how prominent conflict coverage was in the data set we have chosen to merge data from the Armed Conflict Location & Event Data Project (ACLED) with our subreddit data. This allowed us to..."
   ]
  },
  {
   "cell_type": "code",
   "execution_count": null,
   "metadata": {},
   "outputs": [],
   "source": [
    "# Sonali code stuff here\n"
   ]
  }
 ],
 "metadata": {
  "language_info": {
   "name": "python"
  },
  "orig_nbformat": 4
 },
 "nbformat": 4,
 "nbformat_minor": 2
}
