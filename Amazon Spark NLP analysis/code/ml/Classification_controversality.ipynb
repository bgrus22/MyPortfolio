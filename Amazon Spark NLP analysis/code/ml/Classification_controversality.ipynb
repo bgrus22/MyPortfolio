{
 "cells": [
  {
   "cell_type": "code",
   "execution_count": 1,
   "id": "4c02fa18-b210-4470-b60d-10a2ffd1514e",
   "metadata": {},
   "outputs": [],
   "source": [
    "### Importing required libraries \n",
    "import findspark\n",
    "findspark.init()\n",
    "from pyspark.sql import SparkSession\n",
    "import pyspark.sql.functions as f\n",
    "from pyspark.sql.functions import isnan, when, count, col, lit\n",
    "from pyspark.sql.functions import col, explode, array, lit\n",
    "import pandas as pd\n",
    "\n",
    "from pyspark.sql.functions import year, month, dayofmonth\n",
    "from pyspark.sql.functions import date_format\n",
    "\n",
    "#For visualization\n",
    "import matplotlib.pyplot as plt\n",
    "import numpy as np\n",
    "import seaborn as sns\n",
    "import json\n",
    "import re \n",
    "\n",
    "### Importing spark nlp libraries\n",
    "from sparknlp.annotator import *\n",
    "from sparknlp.base import *\n",
    "import sparknlp\n",
    "from sparknlp.pretrained import PretrainedPipeline\n",
    "\n",
    "import pyspark.sql.functions as F\n",
    "from pyspark.sql import SparkSession\n",
    "from pyspark.sql.functions import explode, size, to_date\n",
    "from pyspark.sql.types import StringType, ArrayType\n",
    "from pyspark.ml.feature import CountVectorizer, IDF\n",
    "from pyspark.ml import Pipeline\n",
    "\n",
    "from pyspark.ml.classification import LogisticRegression\n",
    "from sklearn.metrics import confusion_matrix\n",
    "from pyspark.ml.evaluation import MulticlassClassificationEvaluator\n",
    "from pyspark.ml.classification import LinearSVC\n",
    "from pyspark.ml.classification import NaiveBayes \n",
    "from pyspark.mllib.evaluation import BinaryClassificationMetrics\n",
    "from pyspark.ml.tuning import CrossValidator, ParamGridBuilder, CrossValidatorModel"
   ]
  },
  {
   "cell_type": "code",
   "execution_count": 2,
   "id": "839d7470-b2bb-42d7-be4f-e456bc3c12cc",
   "metadata": {},
   "outputs": [
    {
     "name": "stdout",
     "output_type": "stream",
     "text": [
      "Collecting spark-nlp==4.2.1\n",
      "  Downloading spark_nlp-4.2.1-py2.py3-none-any.whl (643 kB)\n",
      "\u001b[K     |████████████████████████████████| 643 kB 33.4 MB/s eta 0:00:01\n",
      "\u001b[?25hInstalling collected packages: spark-nlp\n",
      "  Attempting uninstall: spark-nlp\n",
      "    Found existing installation: spark-nlp 4.4.0\n",
      "    Uninstalling spark-nlp-4.4.0:\n",
      "      Successfully uninstalled spark-nlp-4.4.0\n",
      "Successfully installed spark-nlp-4.2.1\n",
      "Collecting sparknlp\n",
      "  Downloading sparknlp-1.0.0-py3-none-any.whl (1.4 kB)\n",
      "Requirement already satisfied: spark-nlp in /mnt/miniconda/lib/python3.7/site-packages (from sparknlp) (4.2.1)\n",
      "Requirement already satisfied: numpy in /mnt/miniconda/lib/python3.7/site-packages (from sparknlp) (1.21.2)\n",
      "Installing collected packages: sparknlp\n",
      "Successfully installed sparknlp-1.0.0\n"
     ]
    }
   ],
   "source": [
    "!/mnt/miniconda/bin/pip install spark-nlp==4.2.1 --force\n",
    "!/mnt/miniconda/bin/pip install sparknlp"
   ]
  },
  {
   "cell_type": "code",
   "execution_count": 3,
   "id": "8b756aa0-7a91-409b-8d3c-4f1ba85a63c8",
   "metadata": {},
   "outputs": [
    {
     "name": "stderr",
     "output_type": "stream",
     "text": [
      "Ivy Default Cache set to: /home/hadoop/.ivy2/cache\n",
      "The jars for the packages stored in: /home/hadoop/.ivy2/jars\n",
      ":: loading settings :: url = jar:file:/usr/lib/spark/jars/ivy-2.4.0.jar!/org/apache/ivy/core/settings/ivysettings.xml\n",
      "com.johnsnowlabs.nlp#spark-nlp_2.12 added as a dependency\n",
      ":: resolving dependencies :: org.apache.spark#spark-submit-parent-896ecafd-23b8-4488-b0af-aee493498f0d;1.0\n",
      "\tconfs: [default]\n",
      "\tfound com.johnsnowlabs.nlp#spark-nlp_2.12;4.2.1 in central\n",
      "\tfound com.typesafe#config;1.4.2 in central\n",
      "\tfound org.rocksdb#rocksdbjni;6.29.5 in central\n",
      "\tfound com.amazonaws#aws-java-sdk-bundle;1.11.828 in central\n",
      "\tfound com.github.universal-automata#liblevenshtein;3.0.0 in central\n",
      "\tfound com.google.code.findbugs#annotations;3.0.1 in central\n",
      "\tfound net.jcip#jcip-annotations;1.0 in central\n",
      "\tfound com.google.code.findbugs#jsr305;3.0.1 in central\n",
      "\tfound com.google.protobuf#protobuf-java-util;3.0.0-beta-3 in central\n",
      "\tfound com.google.protobuf#protobuf-java;3.0.0-beta-3 in central\n",
      "\tfound com.google.code.gson#gson;2.3 in central\n",
      "\tfound it.unimi.dsi#fastutil;7.0.12 in central\n",
      "\tfound org.projectlombok#lombok;1.16.8 in central\n",
      "\tfound org.slf4j#slf4j-api;1.7.21 in central\n",
      "\tfound com.navigamez#greex;1.0 in central\n",
      "\tfound dk.brics.automaton#automaton;1.11-8 in central\n",
      "\tfound com.johnsnowlabs.nlp#tensorflow-cpu_2.12;0.4.3 in central\n",
      "downloading https://repo1.maven.org/maven2/com/johnsnowlabs/nlp/spark-nlp_2.12/4.2.1/spark-nlp_2.12-4.2.1.jar ...\n",
      "\t[SUCCESSFUL ] com.johnsnowlabs.nlp#spark-nlp_2.12;4.2.1!spark-nlp_2.12.jar (544ms)\n",
      "downloading https://repo1.maven.org/maven2/com/typesafe/config/1.4.2/config-1.4.2.jar ...\n",
      "\t[SUCCESSFUL ] com.typesafe#config;1.4.2!config.jar(bundle) (4ms)\n",
      "downloading https://repo1.maven.org/maven2/org/rocksdb/rocksdbjni/6.29.5/rocksdbjni-6.29.5.jar ...\n",
      "\t[SUCCESSFUL ] org.rocksdb#rocksdbjni;6.29.5!rocksdbjni.jar (321ms)\n",
      "downloading https://repo1.maven.org/maven2/com/amazonaws/aws-java-sdk-bundle/1.11.828/aws-java-sdk-bundle-1.11.828.jar ...\n",
      "\t[SUCCESSFUL ] com.amazonaws#aws-java-sdk-bundle;1.11.828!aws-java-sdk-bundle.jar (1042ms)\n",
      "downloading https://repo1.maven.org/maven2/com/github/universal-automata/liblevenshtein/3.0.0/liblevenshtein-3.0.0.jar ...\n",
      "\t[SUCCESSFUL ] com.github.universal-automata#liblevenshtein;3.0.0!liblevenshtein.jar (4ms)\n",
      "downloading https://repo1.maven.org/maven2/com/navigamez/greex/1.0/greex-1.0.jar ...\n",
      "\t[SUCCESSFUL ] com.navigamez#greex;1.0!greex.jar (2ms)\n",
      "downloading https://repo1.maven.org/maven2/com/johnsnowlabs/nlp/tensorflow-cpu_2.12/0.4.3/tensorflow-cpu_2.12-0.4.3.jar ...\n",
      "\t[SUCCESSFUL ] com.johnsnowlabs.nlp#tensorflow-cpu_2.12;0.4.3!tensorflow-cpu_2.12.jar (1694ms)\n",
      "downloading https://repo1.maven.org/maven2/com/google/code/findbugs/annotations/3.0.1/annotations-3.0.1.jar ...\n",
      "\t[SUCCESSFUL ] com.google.code.findbugs#annotations;3.0.1!annotations.jar (2ms)\n",
      "downloading https://repo1.maven.org/maven2/com/google/protobuf/protobuf-java-util/3.0.0-beta-3/protobuf-java-util-3.0.0-beta-3.jar ...\n",
      "\t[SUCCESSFUL ] com.google.protobuf#protobuf-java-util;3.0.0-beta-3!protobuf-java-util.jar(bundle) (2ms)\n",
      "downloading https://repo1.maven.org/maven2/com/google/protobuf/protobuf-java/3.0.0-beta-3/protobuf-java-3.0.0-beta-3.jar ...\n",
      "\t[SUCCESSFUL ] com.google.protobuf#protobuf-java;3.0.0-beta-3!protobuf-java.jar(bundle) (9ms)\n",
      "downloading https://repo1.maven.org/maven2/it/unimi/dsi/fastutil/7.0.12/fastutil-7.0.12.jar ...\n",
      "\t[SUCCESSFUL ] it.unimi.dsi#fastutil;7.0.12!fastutil.jar (112ms)\n",
      "downloading https://repo1.maven.org/maven2/org/projectlombok/lombok/1.16.8/lombok-1.16.8.jar ...\n",
      "\t[SUCCESSFUL ] org.projectlombok#lombok;1.16.8!lombok.jar (11ms)\n",
      "downloading https://repo1.maven.org/maven2/org/slf4j/slf4j-api/1.7.21/slf4j-api-1.7.21.jar ...\n",
      "\t[SUCCESSFUL ] org.slf4j#slf4j-api;1.7.21!slf4j-api.jar (3ms)\n",
      "downloading https://repo1.maven.org/maven2/net/jcip/jcip-annotations/1.0/jcip-annotations-1.0.jar ...\n",
      "\t[SUCCESSFUL ] net.jcip#jcip-annotations;1.0!jcip-annotations.jar (2ms)\n",
      "downloading https://repo1.maven.org/maven2/com/google/code/findbugs/jsr305/3.0.1/jsr305-3.0.1.jar ...\n",
      "\t[SUCCESSFUL ] com.google.code.findbugs#jsr305;3.0.1!jsr305.jar (2ms)\n",
      "downloading https://repo1.maven.org/maven2/com/google/code/gson/gson/2.3/gson-2.3.jar ...\n",
      "\t[SUCCESSFUL ] com.google.code.gson#gson;2.3!gson.jar (4ms)\n",
      "downloading https://repo1.maven.org/maven2/dk/brics/automaton/automaton/1.11-8/automaton-1.11-8.jar ...\n",
      "\t[SUCCESSFUL ] dk.brics.automaton#automaton;1.11-8!automaton.jar (4ms)\n",
      ":: resolution report :: resolve 1602ms :: artifacts dl 3771ms\n",
      "\t:: modules in use:\n",
      "\tcom.amazonaws#aws-java-sdk-bundle;1.11.828 from central in [default]\n",
      "\tcom.github.universal-automata#liblevenshtein;3.0.0 from central in [default]\n",
      "\tcom.google.code.findbugs#annotations;3.0.1 from central in [default]\n",
      "\tcom.google.code.findbugs#jsr305;3.0.1 from central in [default]\n",
      "\tcom.google.code.gson#gson;2.3 from central in [default]\n",
      "\tcom.google.protobuf#protobuf-java;3.0.0-beta-3 from central in [default]\n",
      "\tcom.google.protobuf#protobuf-java-util;3.0.0-beta-3 from central in [default]\n",
      "\tcom.johnsnowlabs.nlp#spark-nlp_2.12;4.2.1 from central in [default]\n",
      "\tcom.johnsnowlabs.nlp#tensorflow-cpu_2.12;0.4.3 from central in [default]\n",
      "\tcom.navigamez#greex;1.0 from central in [default]\n",
      "\tcom.typesafe#config;1.4.2 from central in [default]\n",
      "\tdk.brics.automaton#automaton;1.11-8 from central in [default]\n",
      "\tit.unimi.dsi#fastutil;7.0.12 from central in [default]\n",
      "\tnet.jcip#jcip-annotations;1.0 from central in [default]\n",
      "\torg.projectlombok#lombok;1.16.8 from central in [default]\n",
      "\torg.rocksdb#rocksdbjni;6.29.5 from central in [default]\n",
      "\torg.slf4j#slf4j-api;1.7.21 from central in [default]\n",
      "\t---------------------------------------------------------------------\n",
      "\t|                  |            modules            ||   artifacts   |\n",
      "\t|       conf       | number| search|dwnlded|evicted|| number|dwnlded|\n",
      "\t---------------------------------------------------------------------\n",
      "\t|      default     |   17  |   17  |   17  |   0   ||   17  |   17  |\n",
      "\t---------------------------------------------------------------------\n",
      ":: retrieving :: org.apache.spark#spark-submit-parent-896ecafd-23b8-4488-b0af-aee493498f0d\n",
      "\tconfs: [default]\n",
      "\t17 artifacts copied, 0 already retrieved (574487kB/348ms)\n",
      "Setting default log level to \"WARN\".\n",
      "To adjust logging level use sc.setLogLevel(newLevel). For SparkR, use setLogLevel(newLevel).\n",
      "23/04/14 00:01:26 WARN Client: Neither spark.yarn.jars nor spark.yarn.archive is set, falling back to uploading libraries under SPARK_HOME.\n",
      "23/04/14 00:01:30 WARN Client: Same path resource file:///home/hadoop/.ivy2/jars/com.johnsnowlabs.nlp_spark-nlp_2.12-4.2.1.jar added multiple times to distributed cache.\n",
      "23/04/14 00:01:30 WARN Client: Same path resource file:///home/hadoop/.ivy2/jars/com.typesafe_config-1.4.2.jar added multiple times to distributed cache.\n",
      "23/04/14 00:01:30 WARN Client: Same path resource file:///home/hadoop/.ivy2/jars/org.rocksdb_rocksdbjni-6.29.5.jar added multiple times to distributed cache.\n",
      "23/04/14 00:01:30 WARN Client: Same path resource file:///home/hadoop/.ivy2/jars/com.amazonaws_aws-java-sdk-bundle-1.11.828.jar added multiple times to distributed cache.\n",
      "23/04/14 00:01:30 WARN Client: Same path resource file:///home/hadoop/.ivy2/jars/com.github.universal-automata_liblevenshtein-3.0.0.jar added multiple times to distributed cache.\n",
      "23/04/14 00:01:30 WARN Client: Same path resource file:///home/hadoop/.ivy2/jars/com.navigamez_greex-1.0.jar added multiple times to distributed cache.\n",
      "23/04/14 00:01:30 WARN Client: Same path resource file:///home/hadoop/.ivy2/jars/com.johnsnowlabs.nlp_tensorflow-cpu_2.12-0.4.3.jar added multiple times to distributed cache.\n",
      "23/04/14 00:01:30 WARN Client: Same path resource file:///home/hadoop/.ivy2/jars/com.google.code.findbugs_annotations-3.0.1.jar added multiple times to distributed cache.\n",
      "23/04/14 00:01:30 WARN Client: Same path resource file:///home/hadoop/.ivy2/jars/com.google.protobuf_protobuf-java-util-3.0.0-beta-3.jar added multiple times to distributed cache.\n",
      "23/04/14 00:01:30 WARN Client: Same path resource file:///home/hadoop/.ivy2/jars/com.google.protobuf_protobuf-java-3.0.0-beta-3.jar added multiple times to distributed cache.\n",
      "23/04/14 00:01:30 WARN Client: Same path resource file:///home/hadoop/.ivy2/jars/it.unimi.dsi_fastutil-7.0.12.jar added multiple times to distributed cache.\n",
      "23/04/14 00:01:30 WARN Client: Same path resource file:///home/hadoop/.ivy2/jars/org.projectlombok_lombok-1.16.8.jar added multiple times to distributed cache.\n",
      "23/04/14 00:01:30 WARN Client: Same path resource file:///home/hadoop/.ivy2/jars/org.slf4j_slf4j-api-1.7.21.jar added multiple times to distributed cache.\n",
      "23/04/14 00:01:30 WARN Client: Same path resource file:///home/hadoop/.ivy2/jars/net.jcip_jcip-annotations-1.0.jar added multiple times to distributed cache.\n",
      "23/04/14 00:01:30 WARN Client: Same path resource file:///home/hadoop/.ivy2/jars/com.google.code.findbugs_jsr305-3.0.1.jar added multiple times to distributed cache.\n",
      "23/04/14 00:01:30 WARN Client: Same path resource file:///home/hadoop/.ivy2/jars/com.google.code.gson_gson-2.3.jar added multiple times to distributed cache.\n",
      "23/04/14 00:01:30 WARN Client: Same path resource file:///home/hadoop/.ivy2/jars/dk.brics.automaton_automaton-1.11-8.jar added multiple times to distributed cache.\n",
      "23/04/14 00:01:37 WARN YarnSchedulerBackend$YarnSchedulerEndpoint: Attempted to request executors before the AM has registered!\n"
     ]
    }
   ],
   "source": [
    "spark = SparkSession.builder \\\n",
    "        .appName(\"SparkNLP\") \\\n",
    "        .config(\"spark.serializer\", \"org.apache.spark.serializer.KryoSerializer\") \\\n",
    "        .config(\"spark.jars.packages\", \"com.johnsnowlabs.nlp:spark-nlp_2.12:4.2.1\") \\\n",
    "    .master('yarn') \\\n",
    "    .getOrCreate()"
   ]
  },
  {
   "cell_type": "code",
   "execution_count": 5,
   "id": "a35bec28-ab3a-4bd6-a134-e2efde72634b",
   "metadata": {},
   "outputs": [
    {
     "data": {
      "text/html": [
       "\n",
       "            <div>\n",
       "                <p><b>SparkSession - in-memory</b></p>\n",
       "                \n",
       "        <div>\n",
       "            <p><b>SparkContext</b></p>\n",
       "\n",
       "            <p><a href=\"http://ip-172-31-81-118.ec2.internal:4040\">Spark UI</a></p>\n",
       "\n",
       "            <dl>\n",
       "              <dt>Version</dt>\n",
       "                <dd><code>v3.0.0-amzn-0</code></dd>\n",
       "              <dt>Master</dt>\n",
       "                <dd><code>yarn</code></dd>\n",
       "              <dt>AppName</dt>\n",
       "                <dd><code>SparkNLP</code></dd>\n",
       "            </dl>\n",
       "        </div>\n",
       "        \n",
       "            </div>\n",
       "        "
      ],
      "text/plain": [
       "<pyspark.sql.session.SparkSession at 0x7fd4fa371210>"
      ]
     },
     "execution_count": 5,
     "metadata": {},
     "output_type": "execute_result"
    }
   ],
   "source": [
    "spark"
   ]
  },
  {
   "cell_type": "code",
   "execution_count": 6,
   "id": "3b417076-df6b-44b7-ba19-625c04f1564f",
   "metadata": {},
   "outputs": [
    {
     "name": "stderr",
     "output_type": "stream",
     "text": [
      "                                                                                \r"
     ]
    }
   ],
   "source": [
    "### Importing the data \n",
    "df_com = spark.read.parquet(\"s3a://final-pro-buck0/worldnews/preprocessed_comments/\")"
   ]
  },
  {
   "cell_type": "code",
   "execution_count": 7,
   "id": "b1206762-0e6d-4ed1-adfe-d2f3786e077f",
   "metadata": {},
   "outputs": [
    {
     "name": "stderr",
     "output_type": "stream",
     "text": [
      "[Stage 1:==================================================>      (33 + 4) / 37]\r"
     ]
    },
    {
     "name": "stdout",
     "output_type": "stream",
     "text": [
      "16171595\n",
      "root\n",
      " |-- id: string (nullable = true)\n",
      " |-- created_date: string (nullable = true)\n",
      " |-- date_clean: date (nullable = true)\n",
      " |-- body: string (nullable = true)\n",
      " |-- controversiality: long (nullable = true)\n",
      " |-- finished_clean: array (nullable = true)\n",
      " |    |-- element: string (containsNull = true)\n",
      "\n"
     ]
    },
    {
     "name": "stderr",
     "output_type": "stream",
     "text": [
      "                                                                                \r"
     ]
    }
   ],
   "source": [
    "### Viewing the specs\n",
    "print(df_com.count())\n",
    "df_com.printSchema()"
   ]
  },
  {
   "cell_type": "code",
   "execution_count": 8,
   "id": "c2866137-cf77-4ece-a575-01a843db7ca2",
   "metadata": {},
   "outputs": [
    {
     "name": "stderr",
     "output_type": "stream",
     "text": [
      "                                                                                \r"
     ]
    },
    {
     "name": "stdout",
     "output_type": "stream",
     "text": [
      "+----------------+--------+\n",
      "|controversiality|count   |\n",
      "+----------------+--------+\n",
      "|1               |854748  |\n",
      "|0               |15316847|\n",
      "+----------------+--------+\n",
      "\n"
     ]
    }
   ],
   "source": [
    "count_con = df_com.groupby(\"controversiality\").count().show(10, truncate = False)"
   ]
  },
  {
   "cell_type": "code",
   "execution_count": 9,
   "id": "05630673-9c27-4464-9768-4c6439552f11",
   "metadata": {},
   "outputs": [
    {
     "name": "stderr",
     "output_type": "stream",
     "text": [
      "                                                                                \r"
     ]
    }
   ],
   "source": [
    "#TF-IDF Vectorization\n",
    "tf = CountVectorizer(inputCol='finished_clean',\n",
    "                     outputCol='tf_features')\n",
    "#Fitting and transforming to get term-frequencies\n",
    "tf_model = tf.fit(df_com)\n",
    "tf_result = tf_model.transform(df_com)"
   ]
  },
  {
   "cell_type": "code",
   "execution_count": 10,
   "id": "a314af2e-be4a-43ad-b276-4aeb12bf47dd",
   "metadata": {},
   "outputs": [
    {
     "name": "stderr",
     "output_type": "stream",
     "text": [
      "23/04/14 00:03:35 WARN DAGScheduler: Broadcasting large task binary with size 3.7 MiB\n",
      "23/04/14 00:04:08 WARN DAGScheduler: Broadcasting large task binary with size 3.7 MiB\n",
      "                                                                                \r"
     ]
    }
   ],
   "source": [
    "#Inverse Document Frequency \n",
    "idf = IDF(inputCol='tf_features', \n",
    "          outputCol='tf_idf_features')\n",
    "\n",
    "#Fitting and transforming to get inverse document frequency\n",
    "idf_model = idf.fit(tf_result)\n",
    "tfidf_result = idf_model.transform(tf_result)"
   ]
  },
  {
   "cell_type": "code",
   "execution_count": 11,
   "id": "5611b815-2241-4f61-84a4-65db9476a119",
   "metadata": {},
   "outputs": [
    {
     "name": "stderr",
     "output_type": "stream",
     "text": [
      "23/04/14 00:04:10 WARN DAGScheduler: Broadcasting large task binary with size 7.6 MiB\n",
      "[Stage 15:>                                                         (0 + 1) / 1]\r"
     ]
    },
    {
     "name": "stdout",
     "output_type": "stream",
     "text": [
      "+-------+------------+----------+--------------------+----------------+--------------------+--------------------+--------------------+\n",
      "|     id|created_date|date_clean|                body|controversiality|      finished_clean|         tf_features|     tf_idf_features|\n",
      "+-------+------------+----------+--------------------+----------------+--------------------+--------------------+--------------------+\n",
      "|i0z8a7j|  03-17-2022|2022-03-17|Maybe you can ask...|               0|[connect, grid, t...|(262144,[14,61,23...|(262144,[14,61,23...|\n",
      "|i0z8ait|  03-17-2022|2022-03-17|Hopefully they’ll...|               0|[theyll, hide, so...|(262144,[12,578,6...|(262144,[12,578,6...|\n",
      "|i0z8al9|  03-17-2022|2022-03-17|Literally none of...|               1|[literally, relia...|(262144,[85,110,3...|(262144,[85,110,3...|\n",
      "|i0z8aoj|  03-17-2022|2022-03-17|Or the bog of ete...|               0|[bog, eternal, st...|(262144,[5316,588...|(262144,[5316,588...|\n",
      "|i0z8apf|  03-17-2022|2022-03-17|You tell us? Your...|               0|[post, add, conve...|(262144,[73,118,3...|(262144,[73,118,3...|\n",
      "|i0z8aqh|  03-17-2022|2022-03-17|         “Okay then”|               0|        [okay, then]|(262144,[7812,100...|(262144,[7812,100...|\n",
      "|i0z8are|  03-17-2022|2022-03-17|Explain\n",
      "\n",
      "Edited 1...|               0|[explain, edit, 1...|(262144,[137,258,...|(262144,[137,258,...|\n",
      "|i0z8aro|  03-17-2022|2022-03-17|              thanks|               0|                  []|      (262144,[],[])|      (262144,[],[])|\n",
      "|i0z8ave|  03-17-2022|2022-03-17|      Fuck this guy.|               1|         [fuck, guy]|(262144,[26,62],[...|(262144,[26,62],[...|\n",
      "|i0z8b3m|  03-17-2022|2022-03-17|Perhaps it’s time...|               1|[it, time, yo, fu...|(262144,[1,3,4,8,...|(262144,[1,3,4,8,...|\n",
      "|i0z8b61|  03-17-2022|2022-03-17|the chinese in th...|               0|[chinese, situati...|(262144,[6,8,29,3...|(262144,[6,8,29,3...|\n",
      "|i0z8b6j|  03-17-2022|2022-03-17|          ??????????|               0|                  []|      (262144,[],[])|      (262144,[],[])|\n",
      "|i0z8bbg|  03-17-2022|2022-03-17|Telling a story a...|               0|[tell, story, wro...|(262144,[14,95,15...|(262144,[14,95,15...|\n",
      "|i0z8bjh|  03-17-2022|2022-03-17|\"The killings of ...|               0|[killings, journa...|(262144,[11,161,2...|(262144,[11,161,2...|\n",
      "|i0z8bki|  03-17-2022|2022-03-17|Putins cum taste ...|               0|[putins, cum, tas...|(262144,[14,226,1...|(262144,[14,226,1...|\n",
      "|i0z8bpg|  03-17-2022|2022-03-17|Let's not make bi...|               0|[make, big, gener...|(262144,[5,51,109...|(262144,[5,51,109...|\n",
      "|i0z8bt8|  03-17-2022|2022-03-17|yep, I'm sad Ukra...|               0|[yep, sad, ukrain...|(262144,[3,4,32,6...|(262144,[3,4,32,6...|\n",
      "|i0z8bwa|  03-17-2022|2022-03-17|That name again, ...|               0|          [mr, plow]|(262144,[1419,947...|(262144,[1419,947...|\n",
      "|i0z8c0r|  03-17-2022|2022-03-17|No pressure for t...|               0|[pressure, inform...|(262144,[231,797,...|(262144,[231,797,...|\n",
      "|i0z8c4g|  03-17-2022|2022-03-17|I'm not saying th...|               0|[happen, wonder, ...|(262144,[5,29,41,...|(262144,[5,29,41,...|\n",
      "+-------+------------+----------+--------------------+----------------+--------------------+--------------------+--------------------+\n",
      "only showing top 20 rows\n",
      "\n"
     ]
    },
    {
     "name": "stderr",
     "output_type": "stream",
     "text": [
      "                                                                                \r"
     ]
    }
   ],
   "source": [
    "#Check intermediate results\n",
    "tfidf_result.show()"
   ]
  },
  {
   "cell_type": "code",
   "execution_count": 12,
   "id": "b5f76c3a-4e70-4ca3-b0f2-56bc27f3442d",
   "metadata": {},
   "outputs": [
    {
     "name": "stderr",
     "output_type": "stream",
     "text": [
      "23/04/14 00:04:14 WARN DAGScheduler: Broadcasting large task binary with size 7.6 MiB\n",
      "[Stage 16:>                                                         (0 + 1) / 1]\r"
     ]
    },
    {
     "name": "stdout",
     "output_type": "stream",
     "text": [
      "+----------------+-------------------------------------------------------------------------------------------------------------------------------------------------------------------------------------------------------------------------------------------------------------------------------------------------------------------------------------------------------------------------------------------------------------------------------------------+\n",
      "|controversiality|tf_idf_features                                                                                                                                                                                                                                                                                                                                                                                                                            |\n",
      "+----------------+-------------------------------------------------------------------------------------------------------------------------------------------------------------------------------------------------------------------------------------------------------------------------------------------------------------------------------------------------------------------------------------------------------------------------------------------+\n",
      "|0               |(262144,[14,61,237,1660,2174,2314],[3.2689585796920335,3.9188418194775747,9.56176401566918,6.676065156521406,7.178489832178228,7.127910151626144])                                                                                                                                                                                                                                                                                         |\n",
      "|0               |(262144,[12,578,693,1286,1292,1440],[3.3337119906815027,5.470298787962294,5.6552500442093985,6.405187708399631,6.355918457940089,6.574655933121472])                                                                                                                                                                                                                                                                                       |\n",
      "|1               |(262144,[85,110,344,484,881,1735,6649],[4.132910267041963,4.401200356745108,5.155598912427574,5.283122354799592,5.965414611950102,6.718292149754283,8.735884893339849])                                                                                                                                                                                                                                                                    |\n",
      "|0               |(262144,[5316,5880,16933],[8.35996576210979,8.555103575587395,10.55139474893506])                                                                                                                                                                                                                                                                                                                                                          |\n",
      "|0               |(262144,[73,118,307,407,498,599,683,1022,1349],[4.040918318945119,4.395984689909246,4.980833009319825,5.143449389631498,5.312842444652624,5.536701505609666,5.636725484023086,6.101703942283474,6.372978508597814])                                                                                                                                                                                                                        |\n",
      "|0               |(262144,[7812,10088],[9.017557101784991,9.516218358626038])                                                                                                                                                                                                                                                                                                                                                                                |\n",
      "|0               |(262144,[137,258,424,498,1017],[4.391395126719544,4.776835861597125,5.242740917259641,5.312842444652624,6.079688413104139])                                                                                                                                                                                                                                                                                                                |\n",
      "|0               |(262144,[],[])                                                                                                                                                                                                                                                                                                                                                                                                                             |\n",
      "|1               |(262144,[26,62],[3.5581625635936347,3.9741912059116062])                                                                                                                                                                                                                                                                                                                                                                                   |\n",
      "|1               |(262144,[1,3,4,8,10,12,15,20,22,26,32,78,243,365,1134,1441,2401,3066,7427],[2.31047535129072,2.59421494221586,2.6522193357193085,2.9333155979272063,3.1191389805019374,3.3337119906815027,7.157063037545669,3.4067002648273705,3.4948873279382178,3.5581625635936347,3.6111745683622747,4.1412976353280975,4.717448444668229,5.1180134767174605,6.284064164245365,6.474699106534165,7.127833089244108,7.484717216323442,8.936299112781102])|\n",
      "+----------------+-------------------------------------------------------------------------------------------------------------------------------------------------------------------------------------------------------------------------------------------------------------------------------------------------------------------------------------------------------------------------------------------------------------------------------------------+\n",
      "only showing top 10 rows\n",
      "\n"
     ]
    },
    {
     "name": "stderr",
     "output_type": "stream",
     "text": [
      "                                                                                \r"
     ]
    }
   ],
   "source": [
    "model_df = tfidf_result.select(\"controversiality\",\"tf_idf_features\")\n",
    "model_df.show(10, truncate = False)"
   ]
  },
  {
   "cell_type": "code",
   "execution_count": 49,
   "id": "1b9b1d0b-df68-45f1-9cce-6ca050538bb7",
   "metadata": {},
   "outputs": [
    {
     "name": "stderr",
     "output_type": "stream",
     "text": [
      "23/04/14 01:58:00 WARN DAGScheduler: Broadcasting large task binary with size 9.8 MiB\n",
      "[Stage 1060:>                                                       (0 + 1) / 1]\r"
     ]
    },
    {
     "name": "stdout",
     "output_type": "stream",
     "text": [
      "+----------------+---------------+\n",
      "|controversiality|tf_idf_features|\n",
      "+----------------+---------------+\n",
      "|0               |(262144,[],[]) |\n",
      "|0               |(262144,[],[]) |\n",
      "|0               |(262144,[],[]) |\n",
      "|0               |(262144,[],[]) |\n",
      "+----------------+---------------+\n",
      "only showing top 4 rows\n",
      "\n"
     ]
    },
    {
     "name": "stderr",
     "output_type": "stream",
     "text": [
      "                                                                                \r"
     ]
    }
   ],
   "source": [
    "#split the data \n",
    "training_df,test_df=model_df.randomSplit([0.75,0.25])\n",
    "training_df.show(4,truncate = False )"
   ]
  },
  {
   "cell_type": "markdown",
   "id": "cb1822e0-a545-47c8-a738-84d959beff2c",
   "metadata": {},
   "source": [
    "### Logistic Regression Model "
   ]
  },
  {
   "cell_type": "code",
   "execution_count": 15,
   "id": "96b1e499-af4a-4f73-a671-d841bc984d94",
   "metadata": {},
   "outputs": [
    {
     "name": "stderr",
     "output_type": "stream",
     "text": [
      "23/04/14 00:04:27 WARN DAGScheduler: Broadcasting large task binary with size 7.7 MiB\n",
      "23/04/14 00:05:10 WARN DAGScheduler: Broadcasting large task binary with size 7.7 MiB\n",
      "23/04/14 00:05:11 WARN DAGScheduler: Broadcasting large task binary with size 7.7 MiB\n",
      "23/04/14 00:05:15 WARN DAGScheduler: Broadcasting large task binary with size 7.7 MiB\n",
      "23/04/14 00:05:16 WARN BLAS: Failed to load implementation from: com.github.fommil.netlib.NativeSystemBLAS\n",
      "23/04/14 00:05:16 WARN BLAS: Failed to load implementation from: com.github.fommil.netlib.NativeRefBLAS\n",
      "23/04/14 00:05:16 WARN DAGScheduler: Broadcasting large task binary with size 7.7 MiB\n",
      "23/04/14 00:05:20 WARN DAGScheduler: Broadcasting large task binary with size 7.7 MiB\n",
      "23/04/14 00:05:20 WARN DAGScheduler: Broadcasting large task binary with size 7.7 MiB\n",
      "23/04/14 00:05:24 WARN DAGScheduler: Broadcasting large task binary with size 7.7 MiB\n",
      "23/04/14 00:05:24 WARN DAGScheduler: Broadcasting large task binary with size 7.7 MiB\n",
      "23/04/14 00:05:28 WARN DAGScheduler: Broadcasting large task binary with size 7.7 MiB\n",
      "23/04/14 00:05:28 WARN DAGScheduler: Broadcasting large task binary with size 7.7 MiB\n",
      "23/04/14 00:05:31 WARN DAGScheduler: Broadcasting large task binary with size 7.7 MiB\n",
      "23/04/14 00:05:32 WARN DAGScheduler: Broadcasting large task binary with size 7.7 MiB\n",
      "23/04/14 00:05:35 WARN DAGScheduler: Broadcasting large task binary with size 7.7 MiB\n",
      "23/04/14 00:05:36 WARN DAGScheduler: Broadcasting large task binary with size 7.7 MiB\n",
      "23/04/14 00:05:38 WARN DAGScheduler: Broadcasting large task binary with size 7.7 MiB\n",
      "                                                                                \r"
     ]
    }
   ],
   "source": [
    "#Apply the logistic regression model\n",
    "log_reg=LogisticRegression(featuresCol = \"tf_idf_features\",labelCol='controversiality',maxIter=5)\n",
    "trmodel = log_reg.fit(training_df)"
   ]
  },
  {
   "cell_type": "code",
   "execution_count": 16,
   "id": "5a2c7f01-fa26-4b6b-bc6e-296cfe7a0092",
   "metadata": {},
   "outputs": [
    {
     "name": "stderr",
     "output_type": "stream",
     "text": [
      "/usr/lib/spark/python/pyspark/sql/pandas/conversion.py:88: UserWarning: toPandas attempted Arrow optimization because 'spark.sql.execution.arrow.pyspark.enabled' is set to true; however, failed by the reason below:\n",
      "  Unsupported type in conversion to Arrow: VectorUDT\n",
      "Attempting non-optimization as 'spark.sql.execution.arrow.pyspark.fallback.enabled' is set to true.\n",
      "  warnings.warn(msg)\n",
      "23/04/14 00:05:40 WARN DAGScheduler: Broadcasting large task binary with size 9.7 MiB\n",
      "                                                                                \r"
     ]
    },
    {
     "data": {
      "text/html": [
       "<div>\n",
       "<style scoped>\n",
       "    .dataframe tbody tr th:only-of-type {\n",
       "        vertical-align: middle;\n",
       "    }\n",
       "\n",
       "    .dataframe tbody tr th {\n",
       "        vertical-align: top;\n",
       "    }\n",
       "\n",
       "    .dataframe thead th {\n",
       "        text-align: right;\n",
       "    }\n",
       "</style>\n",
       "<table border=\"1\" class=\"dataframe\">\n",
       "  <thead>\n",
       "    <tr style=\"text-align: right;\">\n",
       "      <th></th>\n",
       "      <th>controversiality</th>\n",
       "      <th>prediction</th>\n",
       "      <th>probability</th>\n",
       "    </tr>\n",
       "  </thead>\n",
       "  <tbody>\n",
       "    <tr>\n",
       "      <th>0</th>\n",
       "      <td>0</td>\n",
       "      <td>0.0</td>\n",
       "      <td>[0.9483688132471412, 0.05163118675285884]</td>\n",
       "    </tr>\n",
       "    <tr>\n",
       "      <th>1</th>\n",
       "      <td>0</td>\n",
       "      <td>0.0</td>\n",
       "      <td>[0.9483688132471412, 0.05163118675285884]</td>\n",
       "    </tr>\n",
       "    <tr>\n",
       "      <th>2</th>\n",
       "      <td>0</td>\n",
       "      <td>0.0</td>\n",
       "      <td>[0.9483688132471412, 0.05163118675285884]</td>\n",
       "    </tr>\n",
       "    <tr>\n",
       "      <th>3</th>\n",
       "      <td>0</td>\n",
       "      <td>0.0</td>\n",
       "      <td>[0.9483688132471412, 0.05163118675285884]</td>\n",
       "    </tr>\n",
       "    <tr>\n",
       "      <th>4</th>\n",
       "      <td>0</td>\n",
       "      <td>0.0</td>\n",
       "      <td>[0.9483688132471412, 0.05163118675285884]</td>\n",
       "    </tr>\n",
       "  </tbody>\n",
       "</table>\n",
       "</div>"
      ],
      "text/plain": [
       "   controversiality  prediction                                probability\n",
       "0                 0         0.0  [0.9483688132471412, 0.05163118675285884]\n",
       "1                 0         0.0  [0.9483688132471412, 0.05163118675285884]\n",
       "2                 0         0.0  [0.9483688132471412, 0.05163118675285884]\n",
       "3                 0         0.0  [0.9483688132471412, 0.05163118675285884]\n",
       "4                 0         0.0  [0.9483688132471412, 0.05163118675285884]"
      ]
     },
     "execution_count": 16,
     "metadata": {},
     "output_type": "execute_result"
    }
   ],
   "source": [
    "predictions = trmodel.transform(test_df)\n",
    "predictions.select('controversiality','prediction','probability').toPandas().head(5)"
   ]
  },
  {
   "cell_type": "markdown",
   "id": "80f5a2c4-ddd8-4cba-8566-461b6fdfa201",
   "metadata": {},
   "source": [
    "Confusion Matrix"
   ]
  },
  {
   "cell_type": "code",
   "execution_count": 17,
   "id": "94cf5cc0-8136-47ca-a2be-e905700c8544",
   "metadata": {},
   "outputs": [],
   "source": [
    "class_names=[1.0,0.0]\n",
    "import itertools\n",
    "def plot_confusion_matrix(cm, classes,\n",
    "                          normalize=False,\n",
    "                          title='Confusion matrix',\n",
    "                          cmap=plt.cm.Blues):\n",
    "    \"\"\"\n",
    "    This function prints and plots the confusion matrix.\n",
    "    Normalization can be applied by setting `normalize=True`.\n",
    "    \"\"\"\n",
    "    if normalize:\n",
    "        cm = cm.astype('float') / cm.sum(axis=1)[:, np.newaxis]\n",
    "        print(\"Normalized confusion matrix\")\n",
    "    else:\n",
    "        print('Confusion matrix, without normalization')\n",
    "\n",
    "    print(cm)\n",
    "\n",
    "    plt.imshow(cm, interpolation='nearest', cmap=cmap)\n",
    "    plt.title(title)\n",
    "    plt.colorbar()\n",
    "    tick_marks = np.arange(len(classes))\n",
    "    plt.xticks(tick_marks, classes, rotation=45)\n",
    "    plt.yticks(tick_marks, classes)\n",
    "\n",
    "    fmt = '.2f' if normalize else 'd'\n",
    "    thresh = cm.max() / 2.\n",
    "    for i, j in itertools.product(range(cm.shape[0]), range(cm.shape[1])):\n",
    "        plt.text(j, i, format(cm[i, j], fmt),\n",
    "                 horizontalalignment=\"center\",\n",
    "                 color=\"white\" if cm[i, j] > thresh else \"black\")\n",
    "\n",
    "    plt.tight_layout()\n",
    "    plt.ylabel('True label')\n",
    "    plt.xlabel('Predicted label')"
   ]
  },
  {
   "cell_type": "code",
   "execution_count": 18,
   "id": "3e7e0fd9-123a-4750-93a5-c5c26c0b12e4",
   "metadata": {},
   "outputs": [
    {
     "name": "stderr",
     "output_type": "stream",
     "text": [
      "23/04/14 00:07:19 WARN DAGScheduler: Broadcasting large task binary with size 7.6 MiB\n",
      "23/04/14 00:08:12 WARN DAGScheduler: Broadcasting large task binary with size 9.7 MiB\n",
      "                                                                                \r"
     ]
    },
    {
     "name": "stdout",
     "output_type": "stream",
     "text": [
      "Confusion matrix, without normalization\n",
      "[[   1114  212348]\n",
      " [   8721 3822318]]\n"
     ]
    },
    {
     "data": {
      "image/png": "[encoded data removed]",
      "text/plain": [
       "<Figure size 640x480 with 2 Axes>"
      ]
     },
     "metadata": {},
     "output_type": "display_data"
    }
   ],
   "source": [
    "y_true = predictions.select(\"controversiality\")\n",
    "y_true = y_true.toPandas()\n",
    "\n",
    "y_pred = predictions.select(\"prediction\")\n",
    "y_pred = y_pred.toPandas()\n",
    "\n",
    "cnf_matrix = confusion_matrix(y_true, y_pred,labels=class_names)\n",
    "#cnf_matrix\n",
    "plt.figure()\n",
    "plot_confusion_matrix(cnf_matrix, classes=class_names,\n",
    "                      title='Logistic Regression Confusion matrix')\n",
    "plt.savefig(\"LogisticM-ConfusionMatrix.png\")\n",
    "plt.show()"
   ]
  },
  {
   "cell_type": "markdown",
   "id": "ccffc7ab-b971-43bc-83b9-cf96d9cdceab",
   "metadata": {},
   "source": [
    "Accuracy"
   ]
  },
  {
   "cell_type": "code",
   "execution_count": 19,
   "id": "0fc2fa9a-e4bb-4312-aca0-1e6da52c825f",
   "metadata": {},
   "outputs": [
    {
     "name": "stderr",
     "output_type": "stream",
     "text": [
      "23/04/14 00:08:53 WARN DAGScheduler: Broadcasting large task binary with size 9.7 MiB\n",
      "23/04/14 00:09:31 WARN DAGScheduler: Broadcasting large task binary with size 9.7 MiB\n",
      "23/04/14 00:10:08 WARN DAGScheduler: Broadcasting large task binary with size 9.7 MiB\n",
      "23/04/14 00:10:45 WARN DAGScheduler: Broadcasting large task binary with size 9.7 MiB\n",
      "[Stage 43:====================================================>   (35 + 2) / 37]\r"
     ]
    },
    {
     "name": "stdout",
     "output_type": "stream",
     "text": [
      "Accuracy = 0.945341\n",
      "Test Error = 0.0546592\n",
      "Precision = 0.947369\n",
      "Recall = 0.997724\n",
      "F1 Score = 0.921126\n"
     ]
    },
    {
     "name": "stderr",
     "output_type": "stream",
     "text": [
      "                                                                                \r"
     ]
    },
    {
     "data": {
      "text/html": [
       "<div>\n",
       "<style scoped>\n",
       "    .dataframe tbody tr th:only-of-type {\n",
       "        vertical-align: middle;\n",
       "    }\n",
       "\n",
       "    .dataframe tbody tr th {\n",
       "        vertical-align: top;\n",
       "    }\n",
       "\n",
       "    .dataframe thead th {\n",
       "        text-align: right;\n",
       "    }\n",
       "</style>\n",
       "<table border=\"1\" class=\"dataframe\">\n",
       "  <thead>\n",
       "    <tr style=\"text-align: right;\">\n",
       "      <th></th>\n",
       "      <th>Accuracy</th>\n",
       "      <th>Precision</th>\n",
       "      <th>Recall</th>\n",
       "      <th>F1 Score</th>\n",
       "    </tr>\n",
       "  </thead>\n",
       "  <tbody>\n",
       "    <tr>\n",
       "      <th>0</th>\n",
       "      <td>0.945341</td>\n",
       "      <td>0.947369</td>\n",
       "      <td>0.997724</td>\n",
       "      <td>0.921126</td>\n",
       "    </tr>\n",
       "  </tbody>\n",
       "</table>\n",
       "</div>"
      ],
      "text/plain": [
       "   Accuracy  Precision    Recall  F1 Score\n",
       "0  0.945341   0.947369  0.997724  0.921126"
      ]
     },
     "execution_count": 19,
     "metadata": {},
     "output_type": "execute_result"
    }
   ],
   "source": [
    "### Getting the accuracy and printing it \n",
    "evaluator_cv = MulticlassClassificationEvaluator(labelCol = \"controversiality\", predictionCol = \"prediction\", metricName = \"accuracy\")\n",
    "accuracy_lr = evaluator_cv.evaluate(predictions)\n",
    "evaluator_cv_pre = MulticlassClassificationEvaluator(labelCol = \"controversiality\", predictionCol = \"prediction\", metricName = \"precisionByLabel\")\n",
    "precision_lr = evaluator_cv_pre.evaluate(predictions)\n",
    "evaluator_cv_rec = MulticlassClassificationEvaluator(labelCol = \"controversiality\", predictionCol = \"prediction\", metricName = \"recallByLabel\")\n",
    "recall_lr = evaluator_cv_rec.evaluate(predictions)\n",
    "evaluator_cv_f1 = MulticlassClassificationEvaluator(labelCol = \"controversiality\", predictionCol = \"prediction\", metricName = \"f1\")\n",
    "f1_lr = evaluator_cv_f1.evaluate(predictions)\n",
    "\n",
    "print(\"Accuracy = %g\" % accuracy_lr)\n",
    "print(\"Test Error = %g\" % (1.0 - accuracy_lr))\n",
    "print(\"Precision = %g\" % precision_lr)\n",
    "print(\"Recall = %g\" % recall_lr)\n",
    "print(\"F1 Score = %g\" % f1_lr)\n",
    "\n",
    "metrics_lr_dict = {\"Accuracy\" : [accuracy_lr],\n",
    "                   \"Precision\" : [precision_lr],\n",
    "                   \"Recall\" : [recall_lr], \n",
    "                   \"F1 Score\" : [f1_lr]}\n",
    "\n",
    "metrics_lr_df = pd.DataFrame(metrics_lr_dict)\n",
    "metrics_lr_df"
   ]
  },
  {
   "cell_type": "code",
   "execution_count": 20,
   "id": "212eeada-d513-4dd8-9179-4b440a93b70b",
   "metadata": {},
   "outputs": [
    {
     "name": "stderr",
     "output_type": "stream",
     "text": [
      "23/04/14 00:11:22 WARN DAGScheduler: Broadcasting large task binary with size 9.7 MiB\n",
      "                                                                                \r"
     ]
    },
    {
     "data": {
      "image/png": "[encoded data removed]",
      "text/plain": [
       "<Figure size 640x480 with 1 Axes>"
      ]
     },
     "metadata": {},
     "output_type": "display_data"
    },
    {
     "name": "stdout",
     "output_type": "stream",
     "text": [
      "Training set areaUnderROC: 0.6918447135139005\n"
     ]
    }
   ],
   "source": [
    "trainingSummary = trmodel.summary\n",
    "roc = trainingSummary.roc.toPandas()\n",
    "plt.plot(roc['FPR'],roc['TPR'])\n",
    "plt.ylabel('False Positive Rate')\n",
    "plt.xlabel('True Positive Rate')\n",
    "plt.title('Logistic Regression ROC Curve')\n",
    "plt.savefig(\"LogisticM-ROC.png\")\n",
    "plt.show()\n",
    "print('Training set areaUnderROC: ' + str(trainingSummary.areaUnderROC))"
   ]
  },
  {
   "cell_type": "markdown",
   "id": "202cd107-830d-45cf-8b6f-47750456479d",
   "metadata": {},
   "source": [
    "### Linear SVC Model "
   ]
  },
  {
   "cell_type": "code",
   "execution_count": 21,
   "id": "cf6c80aa-95d2-45ae-9f78-84178b6654c7",
   "metadata": {},
   "outputs": [
    {
     "name": "stderr",
     "output_type": "stream",
     "text": [
      "23/04/14 00:12:25 WARN DAGScheduler: Broadcasting large task binary with size 7.7 MiB\n",
      "23/04/14 00:13:07 WARN DAGScheduler: Broadcasting large task binary with size 7.7 MiB\n",
      "23/04/14 00:13:08 WARN DAGScheduler: Broadcasting large task binary with size 7.7 MiB\n",
      "23/04/14 00:13:12 WARN DAGScheduler: Broadcasting large task binary with size 7.7 MiB\n",
      "23/04/14 00:13:13 WARN DAGScheduler: Broadcasting large task binary with size 7.7 MiB\n",
      "23/04/14 00:13:16 WARN DAGScheduler: Broadcasting large task binary with size 7.7 MiB\n",
      "23/04/14 00:13:17 WARN DAGScheduler: Broadcasting large task binary with size 7.7 MiB\n",
      "23/04/14 00:13:20 WARN DAGScheduler: Broadcasting large task binary with size 7.7 MiB\n",
      "23/04/14 00:13:21 WARN DAGScheduler: Broadcasting large task binary with size 7.7 MiB\n",
      "23/04/14 00:13:24 WARN DAGScheduler: Broadcasting large task binary with size 7.7 MiB\n",
      "23/04/14 00:13:24 WARN DAGScheduler: Broadcasting large task binary with size 7.7 MiB\n",
      "23/04/14 00:13:27 WARN DAGScheduler: Broadcasting large task binary with size 7.7 MiB\n",
      "23/04/14 00:13:28 WARN DAGScheduler: Broadcasting large task binary with size 7.7 MiB\n",
      "23/04/14 00:13:31 WARN DAGScheduler: Broadcasting large task binary with size 7.7 MiB\n",
      "23/04/14 00:13:32 WARN DAGScheduler: Broadcasting large task binary with size 7.7 MiB\n",
      "23/04/14 00:13:35 WARN DAGScheduler: Broadcasting large task binary with size 7.7 MiB\n",
      "23/04/14 00:13:35 WARN DAGScheduler: Broadcasting large task binary with size 7.7 MiB\n",
      "23/04/14 00:13:38 WARN DAGScheduler: Broadcasting large task binary with size 7.7 MiB\n",
      "23/04/14 00:13:39 WARN DAGScheduler: Broadcasting large task binary with size 7.7 MiB\n",
      "23/04/14 00:13:42 WARN DAGScheduler: Broadcasting large task binary with size 7.7 MiB\n",
      "23/04/14 00:13:43 WARN DAGScheduler: Broadcasting large task binary with size 7.7 MiB\n",
      "23/04/14 00:13:46 WARN DAGScheduler: Broadcasting large task binary with size 7.7 MiB\n",
      "23/04/14 00:13:47 WARN DAGScheduler: Broadcasting large task binary with size 7.7 MiB\n",
      "23/04/14 00:13:49 WARN DAGScheduler: Broadcasting large task binary with size 7.7 MiB\n",
      "23/04/14 00:13:50 WARN DAGScheduler: Broadcasting large task binary with size 7.7 MiB\n",
      "23/04/14 00:13:53 WARN DAGScheduler: Broadcasting large task binary with size 7.7 MiB\n",
      "23/04/14 00:13:54 WARN DAGScheduler: Broadcasting large task binary with size 7.7 MiB\n",
      "23/04/14 00:13:57 WARN DAGScheduler: Broadcasting large task binary with size 7.7 MiB\n",
      "23/04/14 00:13:57 WARN DAGScheduler: Broadcasting large task binary with size 7.7 MiB\n",
      "23/04/14 00:14:00 WARN DAGScheduler: Broadcasting large task binary with size 7.7 MiB\n",
      "23/04/14 00:14:01 WARN DAGScheduler: Broadcasting large task binary with size 7.7 MiB\n",
      "23/04/14 00:14:04 WARN DAGScheduler: Broadcasting large task binary with size 7.7 MiB\n",
      "23/04/14 00:14:05 WARN DAGScheduler: Broadcasting large task binary with size 7.7 MiB\n",
      "23/04/14 00:14:07 WARN DAGScheduler: Broadcasting large task binary with size 7.7 MiB\n",
      "23/04/14 00:14:08 WARN DAGScheduler: Broadcasting large task binary with size 7.7 MiB\n",
      "23/04/14 00:14:11 WARN DAGScheduler: Broadcasting large task binary with size 7.7 MiB\n",
      "23/04/14 00:14:12 WARN DAGScheduler: Broadcasting large task binary with size 7.7 MiB\n",
      "23/04/14 00:14:15 WARN DAGScheduler: Broadcasting large task binary with size 7.7 MiB\n",
      "23/04/14 00:14:16 WARN DAGScheduler: Broadcasting large task binary with size 7.7 MiB\n",
      "23/04/14 00:14:18 WARN DAGScheduler: Broadcasting large task binary with size 7.7 MiB\n",
      "23/04/14 00:14:19 WARN DAGScheduler: Broadcasting large task binary with size 7.7 MiB\n",
      "23/04/14 00:14:22 WARN DAGScheduler: Broadcasting large task binary with size 7.7 MiB\n",
      "23/04/14 00:14:23 WARN DAGScheduler: Broadcasting large task binary with size 7.7 MiB\n",
      "23/04/14 00:14:26 WARN DAGScheduler: Broadcasting large task binary with size 7.7 MiB\n",
      "23/04/14 00:14:27 WARN DAGScheduler: Broadcasting large task binary with size 7.7 MiB\n",
      "23/04/14 00:14:29 WARN DAGScheduler: Broadcasting large task binary with size 7.7 MiB\n",
      "23/04/14 00:14:30 WARN DAGScheduler: Broadcasting large task binary with size 7.7 MiB\n",
      "23/04/14 00:14:33 WARN DAGScheduler: Broadcasting large task binary with size 7.7 MiB\n",
      "23/04/14 00:14:34 WARN DAGScheduler: Broadcasting large task binary with size 7.7 MiB\n",
      "23/04/14 00:14:37 WARN DAGScheduler: Broadcasting large task binary with size 7.7 MiB\n",
      "23/04/14 00:14:37 WARN DAGScheduler: Broadcasting large task binary with size 7.7 MiB\n",
      "23/04/14 00:14:40 WARN DAGScheduler: Broadcasting large task binary with size 7.7 MiB\n",
      "23/04/14 00:14:41 WARN DAGScheduler: Broadcasting large task binary with size 7.7 MiB\n",
      "23/04/14 00:14:44 WARN DAGScheduler: Broadcasting large task binary with size 7.7 MiB\n",
      "23/04/14 00:14:45 WARN DAGScheduler: Broadcasting large task binary with size 7.7 MiB\n",
      "23/04/14 00:14:47 WARN DAGScheduler: Broadcasting large task binary with size 7.7 MiB\n",
      "23/04/14 00:14:48 WARN DAGScheduler: Broadcasting large task binary with size 7.7 MiB\n",
      "23/04/14 00:14:51 WARN DAGScheduler: Broadcasting large task binary with size 7.7 MiB\n",
      "23/04/14 00:14:51 WARN DAGScheduler: Broadcasting large task binary with size 7.7 MiB\n",
      "23/04/14 00:14:54 WARN DAGScheduler: Broadcasting large task binary with size 7.7 MiB\n",
      "23/04/14 00:14:56 WARN DAGScheduler: Broadcasting large task binary with size 7.7 MiB\n",
      "23/04/14 00:14:58 WARN DAGScheduler: Broadcasting large task binary with size 7.7 MiB\n",
      "23/04/14 00:14:59 WARN DAGScheduler: Broadcasting large task binary with size 7.7 MiB\n",
      "23/04/14 00:15:02 WARN DAGScheduler: Broadcasting large task binary with size 7.7 MiB\n",
      "23/04/14 00:15:03 WARN DAGScheduler: Broadcasting large task binary with size 7.7 MiB\n",
      "23/04/14 00:15:05 WARN DAGScheduler: Broadcasting large task binary with size 7.7 MiB\n",
      "23/04/14 00:15:06 WARN DAGScheduler: Broadcasting large task binary with size 7.7 MiB\n",
      "23/04/14 00:15:09 WARN DAGScheduler: Broadcasting large task binary with size 7.7 MiB\n",
      "23/04/14 00:15:10 WARN DAGScheduler: Broadcasting large task binary with size 7.7 MiB\n",
      "23/04/14 00:15:13 WARN DAGScheduler: Broadcasting large task binary with size 7.7 MiB\n",
      "23/04/14 00:15:13 WARN DAGScheduler: Broadcasting large task binary with size 7.7 MiB\n",
      "23/04/14 00:15:16 WARN DAGScheduler: Broadcasting large task binary with size 7.7 MiB\n",
      "23/04/14 00:15:17 WARN DAGScheduler: Broadcasting large task binary with size 7.7 MiB\n",
      "23/04/14 00:15:20 WARN DAGScheduler: Broadcasting large task binary with size 7.7 MiB\n",
      "23/04/14 00:15:21 WARN DAGScheduler: Broadcasting large task binary with size 7.7 MiB\n",
      "23/04/14 00:15:24 WARN DAGScheduler: Broadcasting large task binary with size 7.7 MiB\n",
      "23/04/14 00:15:24 WARN DAGScheduler: Broadcasting large task binary with size 7.7 MiB\n",
      "23/04/14 00:15:27 WARN DAGScheduler: Broadcasting large task binary with size 7.7 MiB\n",
      "23/04/14 00:15:28 WARN DAGScheduler: Broadcasting large task binary with size 7.7 MiB\n",
      "23/04/14 00:15:30 WARN DAGScheduler: Broadcasting large task binary with size 7.7 MiB\n",
      "23/04/14 00:15:31 WARN DAGScheduler: Broadcasting large task binary with size 7.7 MiB\n",
      "23/04/14 00:15:34 WARN DAGScheduler: Broadcasting large task binary with size 7.7 MiB\n",
      "23/04/14 00:15:35 WARN DAGScheduler: Broadcasting large task binary with size 7.7 MiB\n",
      "23/04/14 00:15:38 WARN DAGScheduler: Broadcasting large task binary with size 7.7 MiB\n",
      "23/04/14 00:15:39 WARN DAGScheduler: Broadcasting large task binary with size 7.7 MiB\n",
      "23/04/14 00:15:41 WARN DAGScheduler: Broadcasting large task binary with size 7.7 MiB\n",
      "23/04/14 00:15:42 WARN DAGScheduler: Broadcasting large task binary with size 7.7 MiB\n",
      "23/04/14 00:15:45 WARN DAGScheduler: Broadcasting large task binary with size 7.7 MiB\n",
      "23/04/14 00:15:46 WARN DAGScheduler: Broadcasting large task binary with size 7.7 MiB\n",
      "23/04/14 00:15:49 WARN DAGScheduler: Broadcasting large task binary with size 7.7 MiB\n",
      "23/04/14 00:15:49 WARN DAGScheduler: Broadcasting large task binary with size 7.7 MiB\n",
      "23/04/14 00:15:52 WARN DAGScheduler: Broadcasting large task binary with size 7.7 MiB\n",
      "23/04/14 00:15:53 WARN DAGScheduler: Broadcasting large task binary with size 7.7 MiB\n",
      "23/04/14 00:15:56 WARN DAGScheduler: Broadcasting large task binary with size 7.7 MiB\n",
      "23/04/14 00:15:57 WARN DAGScheduler: Broadcasting large task binary with size 7.7 MiB\n",
      "23/04/14 00:15:59 WARN DAGScheduler: Broadcasting large task binary with size 7.7 MiB\n",
      "23/04/14 00:16:00 WARN DAGScheduler: Broadcasting large task binary with size 7.7 MiB\n",
      "23/04/14 00:16:03 WARN DAGScheduler: Broadcasting large task binary with size 7.7 MiB\n",
      "23/04/14 00:16:04 WARN DAGScheduler: Broadcasting large task binary with size 7.7 MiB\n",
      "23/04/14 00:16:06 WARN DAGScheduler: Broadcasting large task binary with size 7.7 MiB\n",
      "23/04/14 00:16:07 WARN DAGScheduler: Broadcasting large task binary with size 7.7 MiB\n",
      "23/04/14 00:16:10 WARN DAGScheduler: Broadcasting large task binary with size 7.7 MiB\n",
      "23/04/14 00:16:11 WARN DAGScheduler: Broadcasting large task binary with size 7.7 MiB\n",
      "23/04/14 00:16:13 WARN DAGScheduler: Broadcasting large task binary with size 7.7 MiB\n",
      "23/04/14 00:16:14 WARN DAGScheduler: Broadcasting large task binary with size 7.7 MiB\n",
      "23/04/14 00:16:17 WARN DAGScheduler: Broadcasting large task binary with size 7.7 MiB\n",
      "23/04/14 00:16:18 WARN DAGScheduler: Broadcasting large task binary with size 7.7 MiB\n",
      "23/04/14 00:16:20 WARN DAGScheduler: Broadcasting large task binary with size 7.7 MiB\n",
      "23/04/14 00:16:21 WARN DAGScheduler: Broadcasting large task binary with size 7.7 MiB\n",
      "23/04/14 00:16:24 WARN DAGScheduler: Broadcasting large task binary with size 7.7 MiB\n",
      "23/04/14 00:16:25 WARN DAGScheduler: Broadcasting large task binary with size 7.7 MiB\n",
      "23/04/14 00:16:27 WARN DAGScheduler: Broadcasting large task binary with size 7.7 MiB\n",
      "23/04/14 00:16:28 WARN DAGScheduler: Broadcasting large task binary with size 7.7 MiB\n",
      "23/04/14 00:16:31 WARN DAGScheduler: Broadcasting large task binary with size 7.7 MiB\n",
      "23/04/14 00:16:32 WARN DAGScheduler: Broadcasting large task binary with size 7.7 MiB\n",
      "23/04/14 00:16:34 WARN DAGScheduler: Broadcasting large task binary with size 7.7 MiB\n",
      "23/04/14 00:16:35 WARN DAGScheduler: Broadcasting large task binary with size 7.7 MiB\n",
      "23/04/14 00:16:38 WARN DAGScheduler: Broadcasting large task binary with size 7.7 MiB\n",
      "23/04/14 00:16:39 WARN DAGScheduler: Broadcasting large task binary with size 7.7 MiB\n",
      "23/04/14 00:16:42 WARN DAGScheduler: Broadcasting large task binary with size 7.7 MiB\n",
      "23/04/14 00:16:42 WARN DAGScheduler: Broadcasting large task binary with size 7.7 MiB\n",
      "23/04/14 00:16:46 WARN DAGScheduler: Broadcasting large task binary with size 7.7 MiB\n",
      "23/04/14 00:16:46 WARN DAGScheduler: Broadcasting large task binary with size 7.7 MiB\n",
      "23/04/14 00:16:49 WARN DAGScheduler: Broadcasting large task binary with size 7.7 MiB\n",
      "23/04/14 00:16:50 WARN DAGScheduler: Broadcasting large task binary with size 7.7 MiB\n",
      "23/04/14 00:16:53 WARN DAGScheduler: Broadcasting large task binary with size 7.7 MiB\n",
      "23/04/14 00:16:53 WARN DAGScheduler: Broadcasting large task binary with size 7.7 MiB\n",
      "23/04/14 00:16:56 WARN DAGScheduler: Broadcasting large task binary with size 7.7 MiB\n",
      "23/04/14 00:16:57 WARN DAGScheduler: Broadcasting large task binary with size 7.7 MiB\n",
      "23/04/14 00:17:00 WARN DAGScheduler: Broadcasting large task binary with size 7.7 MiB\n",
      "23/04/14 00:17:00 WARN DAGScheduler: Broadcasting large task binary with size 7.7 MiB\n",
      "23/04/14 00:17:03 WARN DAGScheduler: Broadcasting large task binary with size 7.7 MiB\n",
      "23/04/14 00:17:04 WARN DAGScheduler: Broadcasting large task binary with size 7.7 MiB\n",
      "23/04/14 00:17:07 WARN DAGScheduler: Broadcasting large task binary with size 7.7 MiB\n",
      "23/04/14 00:17:08 WARN DAGScheduler: Broadcasting large task binary with size 7.7 MiB\n",
      "23/04/14 00:17:11 WARN DAGScheduler: Broadcasting large task binary with size 7.7 MiB\n",
      "23/04/14 00:17:12 WARN DAGScheduler: Broadcasting large task binary with size 7.7 MiB\n",
      "23/04/14 00:17:15 WARN DAGScheduler: Broadcasting large task binary with size 7.7 MiB\n",
      "23/04/14 00:17:15 WARN DAGScheduler: Broadcasting large task binary with size 7.7 MiB\n",
      "23/04/14 00:17:18 WARN DAGScheduler: Broadcasting large task binary with size 7.7 MiB\n",
      "23/04/14 00:17:19 WARN DAGScheduler: Broadcasting large task binary with size 7.7 MiB\n",
      "23/04/14 00:17:22 WARN DAGScheduler: Broadcasting large task binary with size 7.7 MiB\n",
      "23/04/14 00:17:23 WARN DAGScheduler: Broadcasting large task binary with size 7.7 MiB\n",
      "23/04/14 00:17:25 WARN DAGScheduler: Broadcasting large task binary with size 7.7 MiB\n",
      "23/04/14 00:17:26 WARN DAGScheduler: Broadcasting large task binary with size 7.7 MiB\n",
      "23/04/14 00:17:29 WARN DAGScheduler: Broadcasting large task binary with size 7.7 MiB\n",
      "23/04/14 00:17:30 WARN DAGScheduler: Broadcasting large task binary with size 7.7 MiB\n",
      "23/04/14 00:17:32 WARN DAGScheduler: Broadcasting large task binary with size 7.7 MiB\n",
      "23/04/14 00:17:33 WARN DAGScheduler: Broadcasting large task binary with size 7.7 MiB\n",
      "23/04/14 00:17:36 WARN DAGScheduler: Broadcasting large task binary with size 7.7 MiB\n",
      "23/04/14 00:17:37 WARN DAGScheduler: Broadcasting large task binary with size 7.7 MiB\n",
      "23/04/14 00:17:39 WARN DAGScheduler: Broadcasting large task binary with size 7.7 MiB\n",
      "23/04/14 00:17:40 WARN DAGScheduler: Broadcasting large task binary with size 7.7 MiB\n",
      "23/04/14 00:17:43 WARN DAGScheduler: Broadcasting large task binary with size 7.7 MiB\n",
      "23/04/14 00:17:43 WARN DAGScheduler: Broadcasting large task binary with size 7.7 MiB\n",
      "23/04/14 00:17:46 WARN DAGScheduler: Broadcasting large task binary with size 7.7 MiB\n",
      "23/04/14 00:17:47 WARN DAGScheduler: Broadcasting large task binary with size 7.7 MiB\n",
      "23/04/14 00:17:50 WARN DAGScheduler: Broadcasting large task binary with size 7.7 MiB\n",
      "23/04/14 00:17:51 WARN DAGScheduler: Broadcasting large task binary with size 7.7 MiB\n",
      "23/04/14 00:17:54 WARN DAGScheduler: Broadcasting large task binary with size 7.7 MiB\n",
      "23/04/14 00:17:54 WARN DAGScheduler: Broadcasting large task binary with size 7.7 MiB\n",
      "23/04/14 00:17:57 WARN DAGScheduler: Broadcasting large task binary with size 7.7 MiB\n",
      "23/04/14 00:17:58 WARN DAGScheduler: Broadcasting large task binary with size 7.7 MiB\n",
      "23/04/14 00:18:01 WARN DAGScheduler: Broadcasting large task binary with size 7.7 MiB\n",
      "23/04/14 00:18:02 WARN DAGScheduler: Broadcasting large task binary with size 7.7 MiB\n",
      "23/04/14 00:18:04 WARN DAGScheduler: Broadcasting large task binary with size 7.7 MiB\n",
      "23/04/14 00:18:05 WARN DAGScheduler: Broadcasting large task binary with size 7.7 MiB\n",
      "23/04/14 00:18:08 WARN DAGScheduler: Broadcasting large task binary with size 7.7 MiB\n",
      "23/04/14 00:18:09 WARN DAGScheduler: Broadcasting large task binary with size 7.7 MiB\n",
      "23/04/14 00:18:11 WARN DAGScheduler: Broadcasting large task binary with size 7.7 MiB\n",
      "23/04/14 00:18:12 WARN DAGScheduler: Broadcasting large task binary with size 7.7 MiB\n",
      "23/04/14 00:18:15 WARN DAGScheduler: Broadcasting large task binary with size 7.7 MiB\n",
      "23/04/14 00:18:16 WARN DAGScheduler: Broadcasting large task binary with size 7.7 MiB\n",
      "23/04/14 00:18:18 WARN DAGScheduler: Broadcasting large task binary with size 7.7 MiB\n",
      "23/04/14 00:18:19 WARN DAGScheduler: Broadcasting large task binary with size 7.7 MiB\n",
      "23/04/14 00:18:22 WARN DAGScheduler: Broadcasting large task binary with size 7.7 MiB\n",
      "23/04/14 00:18:23 WARN DAGScheduler: Broadcasting large task binary with size 7.7 MiB\n",
      "23/04/14 00:18:25 WARN DAGScheduler: Broadcasting large task binary with size 7.7 MiB\n",
      "23/04/14 00:18:26 WARN DAGScheduler: Broadcasting large task binary with size 7.7 MiB\n",
      "23/04/14 00:18:29 WARN DAGScheduler: Broadcasting large task binary with size 7.7 MiB\n",
      "23/04/14 00:18:30 WARN DAGScheduler: Broadcasting large task binary with size 7.7 MiB\n",
      "23/04/14 00:18:32 WARN DAGScheduler: Broadcasting large task binary with size 7.7 MiB\n",
      "23/04/14 00:18:33 WARN DAGScheduler: Broadcasting large task binary with size 7.7 MiB\n",
      "23/04/14 00:18:36 WARN DAGScheduler: Broadcasting large task binary with size 7.7 MiB\n",
      "23/04/14 00:18:37 WARN DAGScheduler: Broadcasting large task binary with size 7.7 MiB\n",
      "23/04/14 00:18:40 WARN DAGScheduler: Broadcasting large task binary with size 7.7 MiB\n",
      "23/04/14 00:18:40 WARN DAGScheduler: Broadcasting large task binary with size 7.7 MiB\n",
      "23/04/14 00:18:43 WARN DAGScheduler: Broadcasting large task binary with size 7.7 MiB\n",
      "23/04/14 00:18:44 WARN DAGScheduler: Broadcasting large task binary with size 7.7 MiB\n",
      "23/04/14 00:18:47 WARN DAGScheduler: Broadcasting large task binary with size 7.7 MiB\n",
      "23/04/14 00:18:48 WARN DAGScheduler: Broadcasting large task binary with size 7.7 MiB\n",
      "23/04/14 00:18:50 WARN DAGScheduler: Broadcasting large task binary with size 7.7 MiB\n",
      "23/04/14 00:18:51 WARN DAGScheduler: Broadcasting large task binary with size 7.7 MiB\n",
      "23/04/14 00:18:54 WARN DAGScheduler: Broadcasting large task binary with size 7.7 MiB\n",
      "23/04/14 00:18:55 WARN DAGScheduler: Broadcasting large task binary with size 7.7 MiB\n",
      "23/04/14 00:18:57 WARN DAGScheduler: Broadcasting large task binary with size 7.7 MiB\n",
      "23/04/14 00:18:58 WARN DAGScheduler: Broadcasting large task binary with size 7.7 MiB\n",
      "23/04/14 00:19:01 WARN DAGScheduler: Broadcasting large task binary with size 7.7 MiB\n",
      "23/04/14 00:19:02 WARN DAGScheduler: Broadcasting large task binary with size 7.7 MiB\n",
      "23/04/14 00:19:05 WARN DAGScheduler: Broadcasting large task binary with size 7.7 MiB\n",
      "23/04/14 00:19:05 WARN DAGScheduler: Broadcasting large task binary with size 7.7 MiB\n",
      "23/04/14 00:19:08 WARN DAGScheduler: Broadcasting large task binary with size 7.7 MiB\n",
      "23/04/14 00:19:09 WARN DAGScheduler: Broadcasting large task binary with size 7.7 MiB\n",
      "23/04/14 00:19:12 WARN DAGScheduler: Broadcasting large task binary with size 7.7 MiB\n",
      "23/04/14 00:19:12 WARN DAGScheduler: Broadcasting large task binary with size 7.7 MiB\n",
      "23/04/14 00:19:15 WARN DAGScheduler: Broadcasting large task binary with size 7.7 MiB\n",
      "23/04/14 00:19:16 WARN DAGScheduler: Broadcasting large task binary with size 7.7 MiB\n",
      "23/04/14 00:19:19 WARN DAGScheduler: Broadcasting large task binary with size 7.7 MiB\n",
      "23/04/14 00:19:19 WARN DAGScheduler: Broadcasting large task binary with size 7.7 MiB\n",
      "23/04/14 00:19:22 WARN DAGScheduler: Broadcasting large task binary with size 7.7 MiB\n",
      "23/04/14 00:19:23 WARN DAGScheduler: Broadcasting large task binary with size 7.7 MiB\n",
      "23/04/14 00:19:26 WARN DAGScheduler: Broadcasting large task binary with size 7.7 MiB\n",
      "23/04/14 00:19:26 WARN DAGScheduler: Broadcasting large task binary with size 7.7 MiB\n",
      "23/04/14 00:19:29 WARN DAGScheduler: Broadcasting large task binary with size 7.7 MiB\n",
      "23/04/14 00:19:30 WARN DAGScheduler: Broadcasting large task binary with size 7.7 MiB\n",
      "23/04/14 00:19:32 WARN DAGScheduler: Broadcasting large task binary with size 7.7 MiB\n",
      "23/04/14 00:19:33 WARN DAGScheduler: Broadcasting large task binary with size 7.7 MiB\n",
      "23/04/14 00:19:36 WARN DAGScheduler: Broadcasting large task binary with size 7.7 MiB\n",
      "                                                                                \r"
     ]
    }
   ],
   "source": [
    "lsvc = LinearSVC(featuresCol = \"tf_idf_features\",labelCol='controversiality', maxIter=50)\n",
    "lsvc = lsvc.fit(training_df)"
   ]
  },
  {
   "cell_type": "code",
   "execution_count": 22,
   "id": "9e395d60-0fa1-4ee3-abeb-a6ff99fdfa52",
   "metadata": {},
   "outputs": [
    {
     "name": "stderr",
     "output_type": "stream",
     "text": [
      "23/04/14 00:19:37 WARN DAGScheduler: Broadcasting large task binary with size 9.7 MiB\n",
      "[Stage 277:>                                                        (0 + 1) / 1]\r"
     ]
    },
    {
     "name": "stdout",
     "output_type": "stream",
     "text": [
      "+----------------+---------------+--------------------+----------+\n",
      "|controversiality|tf_idf_features|       rawPrediction|prediction|\n",
      "+----------------+---------------+--------------------+----------+\n",
      "|               0| (262144,[],[])|[1.00010398556288...|       0.0|\n",
      "|               0| (262144,[],[])|[1.00010398556288...|       0.0|\n",
      "|               0| (262144,[],[])|[1.00010398556288...|       0.0|\n",
      "+----------------+---------------+--------------------+----------+\n",
      "only showing top 3 rows\n",
      "\n"
     ]
    },
    {
     "name": "stderr",
     "output_type": "stream",
     "text": [
      "                                                                                \r"
     ]
    }
   ],
   "source": [
    "pred = lsvc.transform(test_df)\n",
    "pred.show(3)"
   ]
  },
  {
   "cell_type": "code",
   "execution_count": 23,
   "id": "4308b8ff-afea-406a-8538-88c6ca2caebf",
   "metadata": {},
   "outputs": [
    {
     "name": "stderr",
     "output_type": "stream",
     "text": [
      "23/04/14 00:19:49 WARN DAGScheduler: Broadcasting large task binary with size 9.7 MiB\n",
      "                                                                                \r"
     ]
    },
    {
     "data": {
      "text/html": [
       "<div>\n",
       "<style scoped>\n",
       "    .dataframe tbody tr th:only-of-type {\n",
       "        vertical-align: middle;\n",
       "    }\n",
       "\n",
       "    .dataframe tbody tr th {\n",
       "        vertical-align: top;\n",
       "    }\n",
       "\n",
       "    .dataframe thead th {\n",
       "        text-align: right;\n",
       "    }\n",
       "</style>\n",
       "<table border=\"1\" class=\"dataframe\">\n",
       "  <thead>\n",
       "    <tr style=\"text-align: right;\">\n",
       "      <th></th>\n",
       "      <th>controversiality</th>\n",
       "      <th>prediction</th>\n",
       "    </tr>\n",
       "  </thead>\n",
       "  <tbody>\n",
       "    <tr>\n",
       "      <th>0</th>\n",
       "      <td>0</td>\n",
       "      <td>0.0</td>\n",
       "    </tr>\n",
       "    <tr>\n",
       "      <th>1</th>\n",
       "      <td>0</td>\n",
       "      <td>0.0</td>\n",
       "    </tr>\n",
       "    <tr>\n",
       "      <th>2</th>\n",
       "      <td>0</td>\n",
       "      <td>0.0</td>\n",
       "    </tr>\n",
       "    <tr>\n",
       "      <th>3</th>\n",
       "      <td>0</td>\n",
       "      <td>0.0</td>\n",
       "    </tr>\n",
       "    <tr>\n",
       "      <th>4</th>\n",
       "      <td>0</td>\n",
       "      <td>0.0</td>\n",
       "    </tr>\n",
       "  </tbody>\n",
       "</table>\n",
       "</div>"
      ],
      "text/plain": [
       "   controversiality  prediction\n",
       "0                 0         0.0\n",
       "1                 0         0.0\n",
       "2                 0         0.0\n",
       "3                 0         0.0\n",
       "4                 0         0.0"
      ]
     },
     "execution_count": 23,
     "metadata": {},
     "output_type": "execute_result"
    }
   ],
   "source": [
    "pred.select('controversiality','prediction').toPandas().head(5)"
   ]
  },
  {
   "cell_type": "code",
   "execution_count": 24,
   "id": "022e73f4-b98c-4d8a-8b20-000ef46e66fc",
   "metadata": {},
   "outputs": [
    {
     "name": "stderr",
     "output_type": "stream",
     "text": [
      "23/04/14 00:20:30 WARN DAGScheduler: Broadcasting large task binary with size 7.6 MiB\n",
      "23/04/14 00:21:07 WARN DAGScheduler: Broadcasting large task binary with size 9.7 MiB\n",
      "                                                                                \r"
     ]
    },
    {
     "name": "stdout",
     "output_type": "stream",
     "text": [
      "Confusion matrix, without normalization\n",
      "[[    396  213066]\n",
      " [   4314 3826725]]\n"
     ]
    },
    {
     "data": {
      "image/png": "[encoded data removed]",
      "text/plain": [
       "<Figure size 640x480 with 2 Axes>"
      ]
     },
     "metadata": {},
     "output_type": "display_data"
    }
   ],
   "source": [
    "y_true = pred.select(\"controversiality\")\n",
    "y_true = y_true.toPandas()\n",
    "\n",
    "y_pred = pred.select(\"prediction\")\n",
    "y_pred = y_pred.toPandas()\n",
    "\n",
    "cnf_matrix = confusion_matrix(y_true, y_pred,labels=class_names)\n",
    "#cnf_matrix\n",
    "plt.figure()\n",
    "plot_confusion_matrix(cnf_matrix, classes=class_names,\n",
    "                      title='LinearSVC Confusion matrix')\n",
    "plt.savefig(\"LinearSVC-ConfusionMatrix.png\")\n",
    "plt.show()"
   ]
  },
  {
   "cell_type": "code",
   "execution_count": 25,
   "id": "7897a27f-ee2c-4676-abc9-03f5f8fd5afc",
   "metadata": {},
   "outputs": [
    {
     "name": "stderr",
     "output_type": "stream",
     "text": [
      "23/04/14 00:21:50 WARN DAGScheduler: Broadcasting large task binary with size 9.7 MiB\n",
      "23/04/14 00:22:26 WARN DAGScheduler: Broadcasting large task binary with size 9.7 MiB\n",
      "23/04/14 00:23:03 WARN DAGScheduler: Broadcasting large task binary with size 9.7 MiB\n",
      "23/04/14 00:23:39 WARN DAGScheduler: Broadcasting large task binary with size 9.7 MiB\n",
      "[Stage 287:=====================================================> (36 + 1) / 37]\r"
     ]
    },
    {
     "name": "stdout",
     "output_type": "stream",
     "text": [
      "Accuracy = 0.946253\n",
      "Test Error = 0.0537471\n",
      "Precision = 0.947258\n",
      "Recall = 0.998874\n",
      "F1 Score = 0.921252\n"
     ]
    },
    {
     "name": "stderr",
     "output_type": "stream",
     "text": [
      "                                                                                \r"
     ]
    },
    {
     "data": {
      "text/html": [
       "<div>\n",
       "<style scoped>\n",
       "    .dataframe tbody tr th:only-of-type {\n",
       "        vertical-align: middle;\n",
       "    }\n",
       "\n",
       "    .dataframe tbody tr th {\n",
       "        vertical-align: top;\n",
       "    }\n",
       "\n",
       "    .dataframe thead th {\n",
       "        text-align: right;\n",
       "    }\n",
       "</style>\n",
       "<table border=\"1\" class=\"dataframe\">\n",
       "  <thead>\n",
       "    <tr style=\"text-align: right;\">\n",
       "      <th></th>\n",
       "      <th>Accuracy</th>\n",
       "      <th>Precision</th>\n",
       "      <th>Recall</th>\n",
       "      <th>F1 Score</th>\n",
       "    </tr>\n",
       "  </thead>\n",
       "  <tbody>\n",
       "    <tr>\n",
       "      <th>0</th>\n",
       "      <td>0.946253</td>\n",
       "      <td>0.947258</td>\n",
       "      <td>0.998874</td>\n",
       "      <td>0.921252</td>\n",
       "    </tr>\n",
       "  </tbody>\n",
       "</table>\n",
       "</div>"
      ],
      "text/plain": [
       "   Accuracy  Precision    Recall  F1 Score\n",
       "0  0.946253   0.947258  0.998874  0.921252"
      ]
     },
     "execution_count": 25,
     "metadata": {},
     "output_type": "execute_result"
    }
   ],
   "source": [
    "evaluator_cv_svc = MulticlassClassificationEvaluator(labelCol = \"controversiality\", predictionCol = \"prediction\", metricName = \"accuracy\")\n",
    "accuracy_svc = evaluator_cv_svc.evaluate(pred)\n",
    "evaluator_svc_pre = MulticlassClassificationEvaluator(labelCol = \"controversiality\", predictionCol = \"prediction\", metricName = \"precisionByLabel\")\n",
    "precision_svc = evaluator_svc_pre.evaluate(pred)\n",
    "evaluator_svc_rec = MulticlassClassificationEvaluator(labelCol = \"controversiality\", predictionCol = \"prediction\", metricName = \"recallByLabel\")\n",
    "recall_svc = evaluator_svc_rec.evaluate(pred)\n",
    "evaluator_svc_f1 = MulticlassClassificationEvaluator(labelCol = \"controversiality\", predictionCol = \"prediction\", metricName = \"f1\")\n",
    "f1_svc = evaluator_svc_f1.evaluate(pred)\n",
    "\n",
    "\n",
    "print(\"Accuracy = %g\" % accuracy_svc)\n",
    "print(\"Test Error = %g\" % (1.0 - accuracy_svc))\n",
    "print(\"Precision = %g\" % precision_svc)\n",
    "print(\"Recall = %g\" % recall_svc)\n",
    "print(\"F1 Score = %g\" % f1_svc)\n",
    "\n",
    "metrics_svc_dict = {\"Accuracy\" : [accuracy_svc],\n",
    "                   \"Precision\" : [precision_svc],\n",
    "                   \"Recall\" : [recall_svc], \n",
    "                   \"F1 Score\" : [f1_svc]}\n",
    "\n",
    "metrics_svc_df = pd.DataFrame(metrics_svc_dict)\n",
    "metrics_svc_df"
   ]
  },
  {
   "cell_type": "code",
   "execution_count": 26,
   "id": "3a660191-39cc-43fe-bade-de5b185dcccd",
   "metadata": {},
   "outputs": [],
   "source": [
    "class CurveMetrics(BinaryClassificationMetrics):\n",
    "    \"\"\"\"\n",
    "    This class gets the roc curve for models which lack a model summary.\n",
    "    \"\"\"\n",
    "    def __init__(self, *args):\n",
    "        super(CurveMetrics, self).__init__(*args)\n",
    "    def _to_list(self, rdd):\n",
    "        points = []\n",
    "        for row in rdd.collect():\n",
    "            points += [(float(row._1()), float(row._2()))]\n",
    "        return points\n",
    "\n",
    "    def get_curve(self, method):\n",
    "        rdd = getattr(self._java_model, method)().toJavaRDD()\n",
    "        return self._to_list(rdd)"
   ]
  },
  {
   "cell_type": "code",
   "execution_count": 27,
   "id": "14868fba-4547-479e-b5b0-aaa195f2a6f7",
   "metadata": {},
   "outputs": [
    {
     "name": "stderr",
     "output_type": "stream",
     "text": [
      "23/04/14 00:24:14 WARN DAGScheduler: Broadcasting large task binary with size 9.7 MiB\n",
      "23/04/14 00:24:26 WARN DAGScheduler: Broadcasting large task binary with size 9.7 MiB\n",
      "                                                                                \r"
     ]
    },
    {
     "data": {
      "image/png": "[encoded data removed]",
      "text/plain": [
       "<Figure size 640x480 with 1 Axes>"
      ]
     },
     "metadata": {},
     "output_type": "display_data"
    }
   ],
   "source": [
    "# Create a Pipeline estimator and fit on train DF, predict on test DF\n",
    "# model = estimator.fit(train)\n",
    "# predictions = model.transform(test)\n",
    "\n",
    "# Returns as a list (false positive rate, true positive rate)\n",
    "preds = pred.select('controversiality','rawPrediction').rdd.map(lambda row: (float(row['rawPrediction'][1]), float(row['controversiality'])))\n",
    "points = CurveMetrics(preds).get_curve('roc')\n",
    "\n",
    "plt.figure()\n",
    "x_val = [x[0] for x in points]\n",
    "y_val = [x[1] for x in points]\n",
    "plt.title('LinearSVC ROC Curve')\n",
    "plt.xlabel('True Positive Rate')\n",
    "plt.ylabel('False Positive Rate')\n",
    "plt.plot(x_val, y_val)\n",
    "#plt.savefig(\"LinearSVC-ROC.png\")\n",
    "plt.show()"
   ]
  },
  {
   "cell_type": "markdown",
   "id": "e68a6923-3ca5-4270-9195-1a20af0e5e6f",
   "metadata": {},
   "source": [
    "### Naïve Bayes classifier"
   ]
  },
  {
   "cell_type": "code",
   "execution_count": 29,
   "id": "1f2ecda5-0c86-4aca-b7a2-7f02146556e6",
   "metadata": {},
   "outputs": [
    {
     "name": "stderr",
     "output_type": "stream",
     "text": [
      "23/04/14 00:25:20 WARN DAGScheduler: Broadcasting large task binary with size 7.7 MiB\n",
      "23/04/14 00:26:01 WARN DAGScheduler: Broadcasting large task binary with size 7.7 MiB\n",
      "23/04/14 00:26:02 WARN DAGScheduler: Broadcasting large task binary with size 7.7 MiB\n",
      "23/04/14 00:26:05 WARN DAGScheduler: Broadcasting large task binary with size 7.7 MiB\n",
      "23/04/14 00:26:05 WARN DAGScheduler: Broadcasting large task binary with size 7.7 MiB\n",
      "23/04/14 00:26:08 WARN DAGScheduler: Broadcasting large task binary with size 7.7 MiB\n",
      "23/04/14 00:26:09 WARN DAGScheduler: Broadcasting large task binary with size 7.7 MiB\n",
      "23/04/14 00:26:11 WARN DAGScheduler: Broadcasting large task binary with size 7.7 MiB\n",
      "23/04/14 00:26:12 WARN DAGScheduler: Broadcasting large task binary with size 7.7 MiB\n",
      "23/04/14 00:26:15 WARN DAGScheduler: Broadcasting large task binary with size 7.7 MiB\n",
      "23/04/14 00:26:15 WARN DAGScheduler: Broadcasting large task binary with size 7.7 MiB\n",
      "23/04/14 00:26:18 WARN DAGScheduler: Broadcasting large task binary with size 7.7 MiB\n",
      "23/04/14 00:26:19 WARN DAGScheduler: Broadcasting large task binary with size 7.7 MiB\n",
      "23/04/14 00:26:22 WARN DAGScheduler: Broadcasting large task binary with size 7.7 MiB\n",
      "23/04/14 00:26:22 WARN DAGScheduler: Broadcasting large task binary with size 7.7 MiB\n",
      "23/04/14 00:26:25 WARN DAGScheduler: Broadcasting large task binary with size 7.7 MiB\n",
      "23/04/14 00:26:26 WARN DAGScheduler: Broadcasting large task binary with size 7.7 MiB\n",
      "23/04/14 00:26:28 WARN DAGScheduler: Broadcasting large task binary with size 7.7 MiB\n",
      "23/04/14 00:26:29 WARN DAGScheduler: Broadcasting large task binary with size 7.7 MiB\n",
      "23/04/14 00:26:31 WARN DAGScheduler: Broadcasting large task binary with size 7.7 MiB\n",
      "23/04/14 00:26:32 WARN DAGScheduler: Broadcasting large task binary with size 7.7 MiB\n",
      "23/04/14 00:26:34 WARN DAGScheduler: Broadcasting large task binary with size 7.7 MiB\n",
      "23/04/14 00:26:35 WARN DAGScheduler: Broadcasting large task binary with size 7.7 MiB\n",
      "23/04/14 00:26:38 WARN DAGScheduler: Broadcasting large task binary with size 7.7 MiB\n",
      "23/04/14 00:26:38 WARN DAGScheduler: Broadcasting large task binary with size 7.7 MiB\n",
      "23/04/14 00:26:40 WARN DAGScheduler: Broadcasting large task binary with size 7.7 MiB\n",
      "23/04/14 00:26:41 WARN DAGScheduler: Broadcasting large task binary with size 7.7 MiB\n",
      "23/04/14 00:26:44 WARN DAGScheduler: Broadcasting large task binary with size 7.7 MiB\n",
      "23/04/14 00:26:44 WARN DAGScheduler: Broadcasting large task binary with size 7.7 MiB\n",
      "23/04/14 00:26:46 WARN DAGScheduler: Broadcasting large task binary with size 7.7 MiB\n",
      "23/04/14 00:26:47 WARN DAGScheduler: Broadcasting large task binary with size 7.7 MiB\n",
      "23/04/14 00:26:49 WARN DAGScheduler: Broadcasting large task binary with size 7.7 MiB\n",
      "23/04/14 00:26:50 WARN DAGScheduler: Broadcasting large task binary with size 7.7 MiB\n",
      "23/04/14 00:26:52 WARN DAGScheduler: Broadcasting large task binary with size 7.7 MiB\n",
      "23/04/14 00:26:53 WARN DAGScheduler: Broadcasting large task binary with size 7.7 MiB\n",
      "23/04/14 00:26:55 WARN DAGScheduler: Broadcasting large task binary with size 7.7 MiB\n",
      "23/04/14 00:26:56 WARN DAGScheduler: Broadcasting large task binary with size 7.7 MiB\n",
      "23/04/14 00:26:59 WARN DAGScheduler: Broadcasting large task binary with size 7.7 MiB\n",
      "23/04/14 00:26:59 WARN DAGScheduler: Broadcasting large task binary with size 7.7 MiB\n",
      "23/04/14 00:27:02 WARN DAGScheduler: Broadcasting large task binary with size 7.7 MiB\n",
      "23/04/14 00:27:02 WARN DAGScheduler: Broadcasting large task binary with size 7.7 MiB\n",
      "23/04/14 00:27:05 WARN DAGScheduler: Broadcasting large task binary with size 7.7 MiB\n",
      "23/04/14 00:27:06 WARN DAGScheduler: Broadcasting large task binary with size 7.7 MiB\n",
      "23/04/14 00:27:08 WARN DAGScheduler: Broadcasting large task binary with size 7.7 MiB\n",
      "23/04/14 00:27:09 WARN DAGScheduler: Broadcasting large task binary with size 7.7 MiB\n",
      "23/04/14 00:27:11 WARN DAGScheduler: Broadcasting large task binary with size 7.7 MiB\n",
      "23/04/14 00:27:12 WARN DAGScheduler: Broadcasting large task binary with size 7.7 MiB\n",
      "23/04/14 00:27:14 WARN DAGScheduler: Broadcasting large task binary with size 7.7 MiB\n",
      "23/04/14 00:27:14 WARN DAGScheduler: Broadcasting large task binary with size 7.7 MiB\n",
      "23/04/14 00:27:17 WARN DAGScheduler: Broadcasting large task binary with size 7.7 MiB\n",
      "23/04/14 00:27:17 WARN DAGScheduler: Broadcasting large task binary with size 7.7 MiB\n",
      "23/04/14 00:27:20 WARN DAGScheduler: Broadcasting large task binary with size 7.7 MiB\n",
      "23/04/14 00:27:21 WARN DAGScheduler: Broadcasting large task binary with size 7.7 MiB\n",
      "23/04/14 00:27:23 WARN DAGScheduler: Broadcasting large task binary with size 7.7 MiB\n",
      "23/04/14 00:27:23 WARN DAGScheduler: Broadcasting large task binary with size 7.7 MiB\n",
      "23/04/14 00:27:26 WARN DAGScheduler: Broadcasting large task binary with size 7.7 MiB\n",
      "23/04/14 00:27:26 WARN DAGScheduler: Broadcasting large task binary with size 7.7 MiB\n",
      "23/04/14 00:27:29 WARN DAGScheduler: Broadcasting large task binary with size 7.7 MiB\n",
      "23/04/14 00:27:30 WARN DAGScheduler: Broadcasting large task binary with size 7.7 MiB\n",
      "23/04/14 00:27:32 WARN DAGScheduler: Broadcasting large task binary with size 7.7 MiB\n",
      "23/04/14 00:27:33 WARN DAGScheduler: Broadcasting large task binary with size 7.7 MiB\n",
      "23/04/14 00:27:35 WARN DAGScheduler: Broadcasting large task binary with size 7.7 MiB\n",
      "23/04/14 00:27:36 WARN DAGScheduler: Broadcasting large task binary with size 7.7 MiB\n",
      "23/04/14 00:27:38 WARN DAGScheduler: Broadcasting large task binary with size 7.7 MiB\n",
      "23/04/14 00:27:39 WARN DAGScheduler: Broadcasting large task binary with size 7.7 MiB\n",
      "23/04/14 00:27:42 WARN DAGScheduler: Broadcasting large task binary with size 7.7 MiB\n",
      "23/04/14 00:27:42 WARN DAGScheduler: Broadcasting large task binary with size 7.7 MiB\n",
      "23/04/14 00:27:45 WARN DAGScheduler: Broadcasting large task binary with size 7.7 MiB\n",
      "23/04/14 00:27:45 WARN DAGScheduler: Broadcasting large task binary with size 7.7 MiB\n",
      "23/04/14 00:27:48 WARN DAGScheduler: Broadcasting large task binary with size 7.7 MiB\n",
      "23/04/14 00:27:48 WARN DAGScheduler: Broadcasting large task binary with size 7.7 MiB\n",
      "23/04/14 00:27:51 WARN DAGScheduler: Broadcasting large task binary with size 7.7 MiB\n",
      "23/04/14 00:27:51 WARN DAGScheduler: Broadcasting large task binary with size 7.7 MiB\n",
      "23/04/14 00:27:54 WARN DAGScheduler: Broadcasting large task binary with size 7.7 MiB\n",
      "23/04/14 00:27:55 WARN DAGScheduler: Broadcasting large task binary with size 7.7 MiB\n",
      "23/04/14 00:27:58 WARN DAGScheduler: Broadcasting large task binary with size 7.7 MiB\n",
      "23/04/14 00:27:58 WARN DAGScheduler: Broadcasting large task binary with size 7.7 MiB\n",
      "23/04/14 00:28:00 WARN DAGScheduler: Broadcasting large task binary with size 7.7 MiB\n",
      "23/04/14 00:28:01 WARN DAGScheduler: Broadcasting large task binary with size 7.7 MiB\n",
      "23/04/14 00:28:04 WARN DAGScheduler: Broadcasting large task binary with size 7.7 MiB\n",
      "23/04/14 00:28:04 WARN DAGScheduler: Broadcasting large task binary with size 7.7 MiB\n",
      "23/04/14 00:28:07 WARN DAGScheduler: Broadcasting large task binary with size 7.7 MiB\n",
      "23/04/14 00:28:08 WARN DAGScheduler: Broadcasting large task binary with size 7.7 MiB\n",
      "23/04/14 00:28:10 WARN DAGScheduler: Broadcasting large task binary with size 7.7 MiB\n",
      "23/04/14 00:28:11 WARN DAGScheduler: Broadcasting large task binary with size 7.7 MiB\n",
      "23/04/14 00:28:13 WARN DAGScheduler: Broadcasting large task binary with size 7.7 MiB\n",
      "23/04/14 00:28:14 WARN DAGScheduler: Broadcasting large task binary with size 7.7 MiB\n",
      "23/04/14 00:28:16 WARN DAGScheduler: Broadcasting large task binary with size 7.7 MiB\n",
      "23/04/14 00:28:17 WARN DAGScheduler: Broadcasting large task binary with size 7.7 MiB\n",
      "23/04/14 00:28:20 WARN DAGScheduler: Broadcasting large task binary with size 7.7 MiB\n",
      "23/04/14 00:28:20 WARN DAGScheduler: Broadcasting large task binary with size 7.7 MiB\n",
      "23/04/14 00:28:23 WARN DAGScheduler: Broadcasting large task binary with size 7.7 MiB\n",
      "23/04/14 00:28:23 WARN DAGScheduler: Broadcasting large task binary with size 7.7 MiB\n",
      "23/04/14 00:28:26 WARN DAGScheduler: Broadcasting large task binary with size 7.7 MiB\n",
      "23/04/14 00:28:27 WARN DAGScheduler: Broadcasting large task binary with size 7.7 MiB\n",
      "23/04/14 00:28:29 WARN DAGScheduler: Broadcasting large task binary with size 7.7 MiB\n",
      "23/04/14 00:28:30 WARN DAGScheduler: Broadcasting large task binary with size 7.7 MiB\n",
      "23/04/14 00:28:32 WARN DAGScheduler: Broadcasting large task binary with size 7.7 MiB\n",
      "23/04/14 00:28:33 WARN DAGScheduler: Broadcasting large task binary with size 7.7 MiB\n",
      "23/04/14 00:28:35 WARN DAGScheduler: Broadcasting large task binary with size 7.7 MiB\n",
      "23/04/14 00:28:36 WARN DAGScheduler: Broadcasting large task binary with size 7.7 MiB\n",
      "23/04/14 00:28:39 WARN DAGScheduler: Broadcasting large task binary with size 7.7 MiB\n",
      "23/04/14 00:28:39 WARN DAGScheduler: Broadcasting large task binary with size 7.7 MiB\n",
      "23/04/14 00:28:42 WARN DAGScheduler: Broadcasting large task binary with size 7.7 MiB\n",
      "23/04/14 00:28:43 WARN DAGScheduler: Broadcasting large task binary with size 7.7 MiB\n",
      "23/04/14 00:28:45 WARN DAGScheduler: Broadcasting large task binary with size 7.7 MiB\n",
      "23/04/14 00:28:46 WARN DAGScheduler: Broadcasting large task binary with size 7.7 MiB\n",
      "23/04/14 00:28:48 WARN DAGScheduler: Broadcasting large task binary with size 7.7 MiB\n",
      "23/04/14 00:28:49 WARN DAGScheduler: Broadcasting large task binary with size 7.7 MiB\n",
      "23/04/14 00:28:51 WARN DAGScheduler: Broadcasting large task binary with size 7.7 MiB\n",
      "23/04/14 00:28:52 WARN DAGScheduler: Broadcasting large task binary with size 7.7 MiB\n",
      "23/04/14 00:28:55 WARN DAGScheduler: Broadcasting large task binary with size 7.7 MiB\n",
      "23/04/14 00:28:55 WARN DAGScheduler: Broadcasting large task binary with size 7.7 MiB\n",
      "23/04/14 00:28:58 WARN DAGScheduler: Broadcasting large task binary with size 7.7 MiB\n",
      "23/04/14 00:28:58 WARN DAGScheduler: Broadcasting large task binary with size 7.7 MiB\n",
      "23/04/14 00:29:01 WARN DAGScheduler: Broadcasting large task binary with size 7.7 MiB\n",
      "23/04/14 00:29:01 WARN DAGScheduler: Broadcasting large task binary with size 7.7 MiB\n",
      "23/04/14 00:29:04 WARN DAGScheduler: Broadcasting large task binary with size 7.7 MiB\n",
      "23/04/14 00:29:04 WARN DAGScheduler: Broadcasting large task binary with size 7.7 MiB\n",
      "23/04/14 00:29:07 WARN DAGScheduler: Broadcasting large task binary with size 7.7 MiB\n",
      "23/04/14 00:29:07 WARN DAGScheduler: Broadcasting large task binary with size 7.7 MiB\n",
      "23/04/14 00:29:10 WARN DAGScheduler: Broadcasting large task binary with size 7.7 MiB\n",
      "23/04/14 00:29:11 WARN DAGScheduler: Broadcasting large task binary with size 7.7 MiB\n",
      "23/04/14 00:29:13 WARN DAGScheduler: Broadcasting large task binary with size 7.7 MiB\n",
      "23/04/14 00:29:13 WARN DAGScheduler: Broadcasting large task binary with size 7.7 MiB\n",
      "23/04/14 00:29:16 WARN DAGScheduler: Broadcasting large task binary with size 7.7 MiB\n",
      "23/04/14 00:29:17 WARN DAGScheduler: Broadcasting large task binary with size 7.7 MiB\n",
      "23/04/14 00:29:19 WARN DAGScheduler: Broadcasting large task binary with size 7.7 MiB\n",
      "23/04/14 00:29:19 WARN DAGScheduler: Broadcasting large task binary with size 7.7 MiB\n",
      "23/04/14 00:29:22 WARN DAGScheduler: Broadcasting large task binary with size 7.7 MiB\n",
      "23/04/14 00:29:23 WARN DAGScheduler: Broadcasting large task binary with size 7.7 MiB\n",
      "23/04/14 00:29:25 WARN DAGScheduler: Broadcasting large task binary with size 7.7 MiB\n",
      "23/04/14 00:29:26 WARN DAGScheduler: Broadcasting large task binary with size 7.7 MiB\n",
      "23/04/14 00:29:28 WARN DAGScheduler: Broadcasting large task binary with size 7.7 MiB\n",
      "23/04/14 00:29:29 WARN DAGScheduler: Broadcasting large task binary with size 7.7 MiB\n",
      "23/04/14 00:29:31 WARN DAGScheduler: Broadcasting large task binary with size 7.7 MiB\n",
      "23/04/14 00:29:32 WARN DAGScheduler: Broadcasting large task binary with size 7.7 MiB\n",
      "23/04/14 00:29:34 WARN DAGScheduler: Broadcasting large task binary with size 7.7 MiB\n",
      "23/04/14 00:29:35 WARN DAGScheduler: Broadcasting large task binary with size 7.7 MiB\n",
      "23/04/14 00:29:38 WARN DAGScheduler: Broadcasting large task binary with size 7.7 MiB\n",
      "23/04/14 00:29:38 WARN DAGScheduler: Broadcasting large task binary with size 7.7 MiB\n",
      "23/04/14 00:29:41 WARN DAGScheduler: Broadcasting large task binary with size 7.7 MiB\n",
      "23/04/14 00:29:41 WARN DAGScheduler: Broadcasting large task binary with size 7.7 MiB\n",
      "23/04/14 00:29:44 WARN DAGScheduler: Broadcasting large task binary with size 7.7 MiB\n",
      "23/04/14 00:29:44 WARN DAGScheduler: Broadcasting large task binary with size 7.7 MiB\n",
      "23/04/14 00:29:47 WARN DAGScheduler: Broadcasting large task binary with size 7.7 MiB\n",
      "23/04/14 00:29:47 WARN DAGScheduler: Broadcasting large task binary with size 7.7 MiB\n",
      "23/04/14 00:29:50 WARN DAGScheduler: Broadcasting large task binary with size 7.7 MiB\n",
      "23/04/14 00:29:50 WARN DAGScheduler: Broadcasting large task binary with size 7.7 MiB\n",
      "23/04/14 00:29:53 WARN DAGScheduler: Broadcasting large task binary with size 7.7 MiB\n",
      "23/04/14 00:29:53 WARN DAGScheduler: Broadcasting large task binary with size 7.7 MiB\n",
      "23/04/14 00:29:56 WARN DAGScheduler: Broadcasting large task binary with size 7.7 MiB\n",
      "23/04/14 00:29:57 WARN DAGScheduler: Broadcasting large task binary with size 7.7 MiB\n",
      "23/04/14 00:29:59 WARN DAGScheduler: Broadcasting large task binary with size 7.7 MiB\n",
      "23/04/14 00:30:00 WARN DAGScheduler: Broadcasting large task binary with size 7.7 MiB\n",
      "23/04/14 00:30:02 WARN DAGScheduler: Broadcasting large task binary with size 7.7 MiB\n",
      "23/04/14 00:30:03 WARN DAGScheduler: Broadcasting large task binary with size 7.7 MiB\n",
      "23/04/14 00:30:05 WARN DAGScheduler: Broadcasting large task binary with size 7.7 MiB\n",
      "23/04/14 00:30:06 WARN DAGScheduler: Broadcasting large task binary with size 7.7 MiB\n",
      "23/04/14 00:30:08 WARN DAGScheduler: Broadcasting large task binary with size 7.7 MiB\n",
      "23/04/14 00:30:09 WARN DAGScheduler: Broadcasting large task binary with size 7.7 MiB\n",
      "23/04/14 00:30:11 WARN DAGScheduler: Broadcasting large task binary with size 7.7 MiB\n",
      "23/04/14 00:30:12 WARN DAGScheduler: Broadcasting large task binary with size 7.7 MiB\n",
      "23/04/14 00:30:14 WARN DAGScheduler: Broadcasting large task binary with size 7.7 MiB\n",
      "23/04/14 00:30:15 WARN DAGScheduler: Broadcasting large task binary with size 7.7 MiB\n",
      "23/04/14 00:30:17 WARN DAGScheduler: Broadcasting large task binary with size 7.7 MiB\n",
      "23/04/14 00:30:18 WARN DAGScheduler: Broadcasting large task binary with size 7.7 MiB\n",
      "23/04/14 00:30:20 WARN DAGScheduler: Broadcasting large task binary with size 7.7 MiB\n",
      "23/04/14 00:30:21 WARN DAGScheduler: Broadcasting large task binary with size 7.7 MiB\n",
      "23/04/14 00:30:23 WARN DAGScheduler: Broadcasting large task binary with size 7.7 MiB\n",
      "23/04/14 00:30:24 WARN DAGScheduler: Broadcasting large task binary with size 7.7 MiB\n",
      "23/04/14 00:30:26 WARN DAGScheduler: Broadcasting large task binary with size 7.7 MiB\n",
      "23/04/14 00:30:27 WARN DAGScheduler: Broadcasting large task binary with size 7.7 MiB\n",
      "23/04/14 00:30:30 WARN DAGScheduler: Broadcasting large task binary with size 7.7 MiB\n",
      "23/04/14 00:30:30 WARN DAGScheduler: Broadcasting large task binary with size 7.7 MiB\n",
      "23/04/14 00:30:33 WARN DAGScheduler: Broadcasting large task binary with size 7.7 MiB\n",
      "23/04/14 00:30:34 WARN DAGScheduler: Broadcasting large task binary with size 7.7 MiB\n",
      "23/04/14 00:30:36 WARN DAGScheduler: Broadcasting large task binary with size 7.7 MiB\n",
      "23/04/14 00:30:37 WARN DAGScheduler: Broadcasting large task binary with size 7.7 MiB\n",
      "23/04/14 00:30:39 WARN DAGScheduler: Broadcasting large task binary with size 7.7 MiB\n",
      "23/04/14 00:30:40 WARN DAGScheduler: Broadcasting large task binary with size 7.7 MiB\n",
      "23/04/14 00:30:42 WARN DAGScheduler: Broadcasting large task binary with size 7.7 MiB\n",
      "23/04/14 00:30:43 WARN DAGScheduler: Broadcasting large task binary with size 7.7 MiB\n",
      "23/04/14 00:30:45 WARN DAGScheduler: Broadcasting large task binary with size 7.7 MiB\n",
      "23/04/14 00:30:46 WARN DAGScheduler: Broadcasting large task binary with size 7.7 MiB\n",
      "23/04/14 00:30:48 WARN DAGScheduler: Broadcasting large task binary with size 7.7 MiB\n",
      "23/04/14 00:30:49 WARN DAGScheduler: Broadcasting large task binary with size 7.7 MiB\n",
      "23/04/14 00:30:52 WARN DAGScheduler: Broadcasting large task binary with size 7.7 MiB\n",
      "23/04/14 00:30:52 WARN DAGScheduler: Broadcasting large task binary with size 7.7 MiB\n",
      "23/04/14 00:30:54 WARN DAGScheduler: Broadcasting large task binary with size 7.7 MiB\n",
      "23/04/14 00:30:55 WARN DAGScheduler: Broadcasting large task binary with size 7.7 MiB\n",
      "23/04/14 00:30:58 WARN DAGScheduler: Broadcasting large task binary with size 7.7 MiB\n",
      "23/04/14 00:30:58 WARN DAGScheduler: Broadcasting large task binary with size 7.7 MiB\n",
      "23/04/14 00:31:01 WARN DAGScheduler: Broadcasting large task binary with size 7.7 MiB\n",
      "23/04/14 00:31:01 WARN DAGScheduler: Broadcasting large task binary with size 7.7 MiB\n",
      "23/04/14 00:31:04 WARN DAGScheduler: Broadcasting large task binary with size 7.7 MiB\n",
      "23/04/14 00:31:05 WARN DAGScheduler: Broadcasting large task binary with size 7.7 MiB\n",
      "23/04/14 00:31:07 WARN DAGScheduler: Broadcasting large task binary with size 7.7 MiB\n",
      "23/04/14 00:31:08 WARN DAGScheduler: Broadcasting large task binary with size 7.7 MiB\n",
      "23/04/14 00:31:11 WARN DAGScheduler: Broadcasting large task binary with size 7.7 MiB\n",
      "23/04/14 00:31:12 WARN DAGScheduler: Broadcasting large task binary with size 7.7 MiB\n",
      "23/04/14 00:31:14 WARN DAGScheduler: Broadcasting large task binary with size 7.7 MiB\n",
      "23/04/14 00:31:15 WARN DAGScheduler: Broadcasting large task binary with size 7.7 MiB\n",
      "23/04/14 00:31:17 WARN DAGScheduler: Broadcasting large task binary with size 7.7 MiB\n",
      "23/04/14 00:31:18 WARN DAGScheduler: Broadcasting large task binary with size 7.7 MiB\n",
      "23/04/14 00:31:20 WARN DAGScheduler: Broadcasting large task binary with size 7.7 MiB\n",
      "23/04/14 00:31:21 WARN DAGScheduler: Broadcasting large task binary with size 7.7 MiB\n",
      "23/04/14 00:31:23 WARN DAGScheduler: Broadcasting large task binary with size 7.7 MiB\n",
      "23/04/14 00:31:24 WARN DAGScheduler: Broadcasting large task binary with size 7.7 MiB\n",
      "23/04/14 00:31:27 WARN DAGScheduler: Broadcasting large task binary with size 7.7 MiB\n",
      "23/04/14 00:31:27 WARN DAGScheduler: Broadcasting large task binary with size 7.7 MiB\n",
      "23/04/14 00:31:30 WARN DAGScheduler: Broadcasting large task binary with size 7.7 MiB\n",
      "                                                                                \r"
     ]
    }
   ],
   "source": [
    "lsvc = LinearSVC(featuresCol = \"tf_idf_features\",labelCol='controversiality', maxIter=50)\n",
    "lsvc = lsvc.fit(training_df)"
   ]
  },
  {
   "cell_type": "code",
   "execution_count": 30,
   "id": "17831b1c-a825-40d0-b1bb-9e7217256bb8",
   "metadata": {},
   "outputs": [
    {
     "name": "stderr",
     "output_type": "stream",
     "text": [
      "23/04/14 00:31:31 WARN DAGScheduler: Broadcasting large task binary with size 7.7 MiB\n",
      "23/04/14 00:32:09 WARN DAGScheduler: Broadcasting large task binary with size 7.6 MiB\n",
      "                                                                                \r"
     ]
    }
   ],
   "source": [
    "nb = NaiveBayes(featuresCol = \"tf_idf_features\",labelCol='controversiality',modelType=\"multinomial\")\n",
    "nbmodel = nb.fit(training_df)"
   ]
  },
  {
   "cell_type": "code",
   "execution_count": 31,
   "id": "2e448f41-1ea3-41e2-bcdc-eb6bdb26ac2c",
   "metadata": {},
   "outputs": [
    {
     "name": "stderr",
     "output_type": "stream",
     "text": [
      "23/04/14 00:32:10 WARN DAGScheduler: Broadcasting large task binary with size 11.7 MiB\n",
      "[Stage 519:>                                                        (0 + 1) / 1]\r"
     ]
    },
    {
     "name": "stdout",
     "output_type": "stream",
     "text": [
      "+----------------+---------------+--------------------+--------------------+----------+\n",
      "|controversiality|tf_idf_features|       rawPrediction|         probability|prediction|\n",
      "+----------------+---------------+--------------------+--------------------+----------+\n",
      "|               0| (262144,[],[])|[-0.0543300144990...|[0.94711949175631...|       0.0|\n",
      "|               0| (262144,[],[])|[-0.0543300144990...|[0.94711949175631...|       0.0|\n",
      "|               0| (262144,[],[])|[-0.0543300144990...|[0.94711949175631...|       0.0|\n",
      "|               0| (262144,[],[])|[-0.0543300144990...|[0.94711949175631...|       0.0|\n",
      "|               0| (262144,[],[])|[-0.0543300144990...|[0.94711949175631...|       0.0|\n",
      "+----------------+---------------+--------------------+--------------------+----------+\n",
      "only showing top 5 rows\n",
      "\n"
     ]
    },
    {
     "name": "stderr",
     "output_type": "stream",
     "text": [
      "                                                                                \r"
     ]
    }
   ],
   "source": [
    "predictions_df = nbmodel.transform(test_df)\n",
    "predictions_df.show(5, True)"
   ]
  },
  {
   "cell_type": "code",
   "execution_count": 32,
   "id": "bcd5b956-cdce-432c-856f-cc9788bebed2",
   "metadata": {},
   "outputs": [
    {
     "name": "stderr",
     "output_type": "stream",
     "text": [
      "23/04/14 00:32:21 WARN DAGScheduler: Broadcasting large task binary with size 7.6 MiB\n",
      "23/04/14 00:32:53 WARN DAGScheduler: Broadcasting large task binary with size 11.7 MiB\n",
      "                                                                                \r"
     ]
    },
    {
     "name": "stdout",
     "output_type": "stream",
     "text": [
      "Confusion matrix, without normalization\n",
      "[[  91155  122307]\n",
      " [ 894720 2936319]]\n"
     ]
    },
    {
     "data": {
      "image/png": "[encoded data removed]",
      "text/plain": [
       "<Figure size 640x480 with 2 Axes>"
      ]
     },
     "metadata": {},
     "output_type": "display_data"
    }
   ],
   "source": [
    "y_true = predictions_df.select(\"controversiality\")\n",
    "y_true = y_true.toPandas()\n",
    "\n",
    "y_pred = predictions_df.select(\"prediction\")\n",
    "y_pred = y_pred.toPandas()\n",
    "\n",
    "cnf_matrix = confusion_matrix(y_true, y_pred,labels=class_names)\n",
    "#cnf_matrix\n",
    "plt.figure()\n",
    "plot_confusion_matrix(cnf_matrix, classes=class_names,\n",
    "                      title='NaiveBayes Confusion matrix')\n",
    "plt.savefig(\"NaiveBayes-ConfusionMatrix.png\")\n",
    "plt.show()"
   ]
  },
  {
   "cell_type": "code",
   "execution_count": 33,
   "id": "f93cf4a0-8f58-4658-941b-157792dbf91a",
   "metadata": {},
   "outputs": [
    {
     "name": "stderr",
     "output_type": "stream",
     "text": [
      "23/04/14 00:33:30 WARN DAGScheduler: Broadcasting large task binary with size 11.7 MiB\n",
      "23/04/14 00:34:04 WARN DAGScheduler: Broadcasting large task binary with size 11.7 MiB\n",
      "23/04/14 00:34:36 WARN DAGScheduler: Broadcasting large task binary with size 11.7 MiB\n",
      "23/04/14 00:35:08 WARN DAGScheduler: Broadcasting large task binary with size 11.7 MiB\n",
      "[Stage 528:=====================================================> (36 + 1) / 37]\r"
     ]
    },
    {
     "name": "stdout",
     "output_type": "stream",
     "text": [
      "Accuracy = 0.748541\n",
      "Test Error = 0.251459\n",
      "Precision = 0.960012\n",
      "Recall = 0.766455\n",
      "F1 Score = 0.815419\n"
     ]
    },
    {
     "name": "stderr",
     "output_type": "stream",
     "text": [
      "                                                                                \r"
     ]
    },
    {
     "data": {
      "text/html": [
       "<div>\n",
       "<style scoped>\n",
       "    .dataframe tbody tr th:only-of-type {\n",
       "        vertical-align: middle;\n",
       "    }\n",
       "\n",
       "    .dataframe tbody tr th {\n",
       "        vertical-align: top;\n",
       "    }\n",
       "\n",
       "    .dataframe thead th {\n",
       "        text-align: right;\n",
       "    }\n",
       "</style>\n",
       "<table border=\"1\" class=\"dataframe\">\n",
       "  <thead>\n",
       "    <tr style=\"text-align: right;\">\n",
       "      <th></th>\n",
       "      <th>Accuracy</th>\n",
       "      <th>Precision</th>\n",
       "      <th>Recall</th>\n",
       "      <th>F1 Score</th>\n",
       "    </tr>\n",
       "  </thead>\n",
       "  <tbody>\n",
       "    <tr>\n",
       "      <th>0</th>\n",
       "      <td>0.748541</td>\n",
       "      <td>0.960012</td>\n",
       "      <td>0.766455</td>\n",
       "      <td>0.815419</td>\n",
       "    </tr>\n",
       "  </tbody>\n",
       "</table>\n",
       "</div>"
      ],
      "text/plain": [
       "   Accuracy  Precision    Recall  F1 Score\n",
       "0  0.748541   0.960012  0.766455  0.815419"
      ]
     },
     "execution_count": 33,
     "metadata": {},
     "output_type": "execute_result"
    }
   ],
   "source": [
    "## Evaluating the metrics \n",
    "evaluator_nb = MulticlassClassificationEvaluator(labelCol = \"controversiality\", predictionCol = \"prediction\", metricName = \"accuracy\")\n",
    "accuracy_nb = evaluator_nb.evaluate(predictions_df)\n",
    "evaluator_nb_pre = MulticlassClassificationEvaluator(labelCol = \"controversiality\", predictionCol = \"prediction\", metricName = \"precisionByLabel\")\n",
    "precision_nb = evaluator_nb_pre.evaluate(predictions_df)\n",
    "evaluator_nb_rec = MulticlassClassificationEvaluator(labelCol = \"controversiality\", predictionCol = \"prediction\", metricName = \"recallByLabel\")\n",
    "recall_nb = evaluator_nb_rec.evaluate(predictions_df)\n",
    "evaluator_nb_f1 = MulticlassClassificationEvaluator(labelCol = \"controversiality\", predictionCol = \"prediction\", metricName = \"f1\")\n",
    "f1_nb = evaluator_nb_f1.evaluate(predictions_df)\n",
    "\n",
    "print(\"Accuracy = %g\" % accuracy_nb)\n",
    "print(\"Test Error = %g\" % (1.0 - accuracy_nb))\n",
    "print(\"Precision = %g\" % precision_nb)\n",
    "print(\"Recall = %g\" % recall_nb)\n",
    "print(\"F1 Score = %g\" % f1_nb)\n",
    "\n",
    "metrics_nb_dict = {\"Accuracy\" : [accuracy_nb],\n",
    "                   \"Precision\" : [precision_nb],\n",
    "                   \"Recall\" : [recall_nb], \n",
    "                   \"F1 Score\" : [f1_nb]}\n",
    "\n",
    "metrics_nb_df = pd.DataFrame(metrics_nb_dict)\n",
    "metrics_nb_df"
   ]
  },
  {
   "cell_type": "code",
   "execution_count": 34,
   "id": "320a505e-512d-468c-8366-b87f5689e61a",
   "metadata": {},
   "outputs": [
    {
     "name": "stderr",
     "output_type": "stream",
     "text": [
      "23/04/14 00:35:41 WARN DAGScheduler: Broadcasting large task binary with size 11.7 MiB\n",
      "23/04/14 00:35:51 WARN DAGScheduler: Broadcasting large task binary with size 11.7 MiB\n",
      "                                                                                \r"
     ]
    },
    {
     "data": {
      "image/png": "[encoded data removed]",
      "text/plain": [
       "<Figure size 640x480 with 1 Axes>"
      ]
     },
     "metadata": {},
     "output_type": "display_data"
    }
   ],
   "source": [
    "preds = predictions_df.select('controversiality','rawPrediction').rdd.map(lambda row: (float(row['rawPrediction'][1]), float(row['controversiality'])))\n",
    "points = CurveMetrics(preds).get_curve('roc')\n",
    "\n",
    "plt.figure()\n",
    "x_val = [x[0] for x in points]\n",
    "y_val = [x[1] for x in points]\n",
    "plt.title('NaiveBayes ROC Curve')\n",
    "plt.xlabel('True Positive Rate')\n",
    "plt.ylabel('False Positive Rate')\n",
    "plt.plot(x_val, y_val)\n",
    "plt.savefig(\"NaiveBayes-ROC.png\")\n",
    "plt.show()"
   ]
  },
  {
   "cell_type": "code",
   "execution_count": 56,
   "id": "8f272a2f-5c74-4b09-9805-d176e1cf4feb",
   "metadata": {},
   "outputs": [
    {
     "name": "stderr",
     "output_type": "stream",
     "text": [
      "23/04/14 02:13:31 WARN DAGScheduler: Broadcasting large task binary with size 13.9 MiB\n",
      "23/04/14 02:13:34 WARN DAGScheduler: Broadcasting large task binary with size 13.9 MiB\n",
      "23/04/14 02:13:51 WARN DAGScheduler: Broadcasting large task binary with size 11.9 MiB\n",
      "23/04/14 02:13:54 WARN DAGScheduler: Broadcasting large task binary with size 11.9 MiB\n",
      "                                                                                \r"
     ]
    },
    {
     "data": {
      "image/png": "[encoded data removed]",
      "text/plain": [
       "<Figure size 640x480 with 1 Axes>"
      ]
     },
     "metadata": {},
     "output_type": "display_data"
    }
   ],
   "source": [
    "## integrate all roc \n",
    "## nb \n",
    "preds = predictions_df.select('controversiality','rawPrediction').rdd.map(lambda row: (float(row['rawPrediction'][1]), float(row['controversiality'])))\n",
    "points = CurveMetrics(preds).get_curve('roc')\n",
    "\n",
    "plt.figure()\n",
    "x_val = [x[0] for x in points]\n",
    "y_val = [x[1] for x in points]\n",
    "plt.title('ROC Curve')\n",
    "plt.xlabel('True Positive Rate')\n",
    "plt.ylabel('False Positive Rate')\n",
    "plt.plot(x_val, y_val,label=\"Naïve Bayes\")\n",
    "\n",
    "## LogisticM\n",
    "trainingSummary = trmodel.summary\n",
    "roc = trainingSummary.roc.toPandas()\n",
    "plt.plot(roc['FPR'],roc['TPR'],label=\"Logistic Regression\")\n",
    "\n",
    "## LinearSVC\n",
    "preds = pred.select('controversiality','rawPrediction').rdd.map(lambda row: (float(row['rawPrediction'][1]), float(row['controversiality'])))\n",
    "points_svc = CurveMetrics(preds).get_curve('roc')\n",
    "x_val_svc = [x[0] for x in points_svc]\n",
    "y_val_svc = [x[1] for x in points_svc]\n",
    "plt.plot(x_val_svc, y_val_svc,label=\"LinearSVC\")\n",
    "#add legend\n",
    "plt.legend()\n",
    "#plt.savefig(\"ALL-ROC.png\")\n",
    "plt.show()"
   ]
  },
  {
   "cell_type": "code",
   "execution_count": 41,
   "id": "7cf060cc-c2a7-4ea9-8aec-1c73d43136dc",
   "metadata": {},
   "outputs": [],
   "source": [
    "metrics = [metrics_lr_df, metrics_nb_df, metrics_svc_df]\n",
    "\n",
    "metrics_df = pd.concat(metrics)\n",
    "metrics_df.index = [\"Logistic Regression\", \"Mulitnomial Naive Bayes\", \"LinearSVC\"]\n",
    "metrics_df = metrics_df.round(2)\n",
    "### Saving to csv \n",
    "metrics_df.to_csv(\"Controversiality_metrics.csv\")"
   ]
  },
  {
   "cell_type": "markdown",
   "id": "1e172325-7f3d-4059-9f5b-4160a0c13d6a",
   "metadata": {},
   "source": [
    "## Oversampling & Undersampling"
   ]
  },
  {
   "cell_type": "code",
   "execution_count": 35,
   "id": "acd21ba2-12b4-4fd7-92db-edbb2f5df2b1",
   "metadata": {},
   "outputs": [
    {
     "name": "stdout",
     "output_type": "stream",
     "text": [
      "root\n",
      " |-- id: string (nullable = true)\n",
      " |-- created_date: string (nullable = true)\n",
      " |-- date_clean: date (nullable = true)\n",
      " |-- body: string (nullable = true)\n",
      " |-- controversiality: long (nullable = true)\n",
      " |-- finished_clean: array (nullable = true)\n",
      " |    |-- element: string (containsNull = true)\n",
      "\n"
     ]
    }
   ],
   "source": [
    "df_com.printSchema()"
   ]
  },
  {
   "cell_type": "code",
   "execution_count": 36,
   "id": "0b130f4f-3796-48c7-8a0c-2ebeec0a0dc8",
   "metadata": {},
   "outputs": [
    {
     "name": "stderr",
     "output_type": "stream",
     "text": [
      "[Stage 542:====================================================>  (35 + 2) / 37]\r"
     ]
    },
    {
     "name": "stdout",
     "output_type": "stream",
     "text": [
      "+----------------+--------+\n",
      "|controversiality|count   |\n",
      "+----------------+--------+\n",
      "|1               |854748  |\n",
      "|0               |15316847|\n",
      "+----------------+--------+\n",
      "\n"
     ]
    },
    {
     "name": "stderr",
     "output_type": "stream",
     "text": [
      "                                                                                \r"
     ]
    }
   ],
   "source": [
    "df_com.groupby(\"controversiality\").count().show(10, truncate = False)"
   ]
  },
  {
   "cell_type": "code",
   "execution_count": 37,
   "id": "7a765102-9bb2-4477-be3d-c5a88caa0747",
   "metadata": {},
   "outputs": [
    {
     "name": "stderr",
     "output_type": "stream",
     "text": [
      "[Stage 550:====================================================>  (35 + 2) / 37]\r"
     ]
    },
    {
     "name": "stdout",
     "output_type": "stream",
     "text": [
      "ratio: 17\n"
     ]
    },
    {
     "name": "stderr",
     "output_type": "stream",
     "text": [
      "                                                                                \r"
     ]
    }
   ],
   "source": [
    "major_df = df_com.filter(col(\"controversiality\") == 0)\n",
    "minor_df = df_com.filter(col(\"controversiality\") == 1)\n",
    "ratio = int(major_df.count()/minor_df.count())\n",
    "print(\"ratio: {}\".format(ratio))\n",
    "a = range(ratio)"
   ]
  },
  {
   "cell_type": "code",
   "execution_count": 38,
   "id": "6094d651-c0e4-4fb8-85f7-43798c4065ac",
   "metadata": {},
   "outputs": [
    {
     "name": "stderr",
     "output_type": "stream",
     "text": [
      "[Stage 553:======================================================>(73 + 1) / 74]\r"
     ]
    },
    {
     "name": "stdout",
     "output_type": "stream",
     "text": [
      "+----------------+--------+\n",
      "|controversiality|count   |\n",
      "+----------------+--------+\n",
      "|1               |14530716|\n",
      "|0               |15316847|\n",
      "+----------------+--------+\n",
      "\n"
     ]
    },
    {
     "name": "stderr",
     "output_type": "stream",
     "text": [
      "                                                                                \r"
     ]
    }
   ],
   "source": [
    "### Oversampling\n",
    "# duplicate the minority rows\n",
    "oversampled_df = minor_df.withColumn(\"dummy\", explode(array([lit(x) for x in a]))).drop('dummy')\n",
    "# combine both oversampled minority rows and previous majority rows \n",
    "combined_df = major_df.unionAll(oversampled_df)\n",
    "combined_df.groupby(\"controversiality\").count().show(10, truncate = False)"
   ]
  },
  {
   "cell_type": "code",
   "execution_count": 39,
   "id": "54e41e3a-1f08-4e1a-a7a6-3aa05e323522",
   "metadata": {},
   "outputs": [
    {
     "name": "stderr",
     "output_type": "stream",
     "text": [
      "[Stage 558:======================================================>(73 + 1) / 74]\r"
     ]
    },
    {
     "name": "stdout",
     "output_type": "stream",
     "text": [
      "+----------------+------+\n",
      "|controversiality|count |\n",
      "+----------------+------+\n",
      "|1               |854748|\n",
      "|0               |901719|\n",
      "+----------------+------+\n",
      "\n"
     ]
    },
    {
     "name": "stderr",
     "output_type": "stream",
     "text": [
      "                                                                                \r"
     ]
    }
   ],
   "source": [
    "### Undersampling\n",
    "sampled_majority_df = major_df.sample(False, 1/ratio)\n",
    "combined_df_2 = sampled_majority_df.unionAll(minor_df)\n",
    "combined_df_2.groupby(\"controversiality\").count().show(10, truncate = False)"
   ]
  },
  {
   "cell_type": "markdown",
   "id": "b0db6346-2cd7-4bf7-a14f-3642a4da11d8",
   "metadata": {},
   "source": [
    "#### Oversampling"
   ]
  },
  {
   "cell_type": "code",
   "execution_count": 40,
   "id": "387c825b-c4d3-4a79-a691-2cc4bf52bc45",
   "metadata": {},
   "outputs": [
    {
     "name": "stdout",
     "output_type": "stream",
     "text": [
      "root\n",
      " |-- id: string (nullable = true)\n",
      " |-- created_date: string (nullable = true)\n",
      " |-- date_clean: date (nullable = true)\n",
      " |-- body: string (nullable = true)\n",
      " |-- controversiality: long (nullable = true)\n",
      " |-- finished_clean: array (nullable = true)\n",
      " |    |-- element: string (containsNull = true)\n",
      "\n"
     ]
    }
   ],
   "source": [
    "combined_df.printSchema()"
   ]
  },
  {
   "cell_type": "code",
   "execution_count": 41,
   "id": "626abdca-67ba-47f5-8a26-5a34d7bad285",
   "metadata": {},
   "outputs": [
    {
     "name": "stderr",
     "output_type": "stream",
     "text": [
      "23/04/14 00:37:31 WARN DAGScheduler: Broadcasting large task binary with size 5.3 MiB\n",
      "23/04/14 00:38:22 WARN DAGScheduler: Broadcasting large task binary with size 5.3 MiB\n",
      "                                                                                \r"
     ]
    }
   ],
   "source": [
    "#TF-IDF Vectorization\n",
    "tf = CountVectorizer(inputCol='finished_clean',\n",
    "                     outputCol='tf_features')\n",
    "#Fitting and transforming to get term-frequencies\n",
    "tf_model = tf.fit(combined_df)\n",
    "tf_result = tf_model.transform(combined_df)\n",
    "\n",
    "#Inverse Document Frequency \n",
    "\n",
    "idf = IDF(inputCol='tf_features', \n",
    "          outputCol='tf_idf_features')\n",
    "\n",
    "#Fitting and transforming to get inverse document frequency\n",
    "idf_model = idf.fit(tf_result)\n",
    "tfidf_result = idf_model.transform(tf_result)"
   ]
  },
  {
   "cell_type": "code",
   "execution_count": 42,
   "id": "691b46de-2335-48ef-9ce7-491e341536a8",
   "metadata": {},
   "outputs": [
    {
     "name": "stderr",
     "output_type": "stream",
     "text": [
      "23/04/14 00:38:23 WARN DAGScheduler: Broadcasting large task binary with size 9.3 MiB\n",
      "[Stage 569:>                                                        (0 + 1) / 1]\r"
     ]
    },
    {
     "name": "stdout",
     "output_type": "stream",
     "text": [
      "+----------------+---------------+\n",
      "|controversiality|tf_idf_features|\n",
      "+----------------+---------------+\n",
      "|0               |(262144,[],[]) |\n",
      "|0               |(262144,[],[]) |\n",
      "|0               |(262144,[],[]) |\n",
      "|0               |(262144,[],[]) |\n",
      "+----------------+---------------+\n",
      "only showing top 4 rows\n",
      "\n"
     ]
    },
    {
     "name": "stderr",
     "output_type": "stream",
     "text": [
      "                                                                                \r"
     ]
    }
   ],
   "source": [
    "model_df = tfidf_result.select(\"controversiality\",\"tf_idf_features\")\n",
    "#model_df.show(10, truncate = False)\n",
    "\n",
    "#split the data \n",
    "training_df,test_df=model_df.randomSplit([0.75,0.25])\n",
    "training_df.show(4,truncate = False )"
   ]
  },
  {
   "cell_type": "code",
   "execution_count": 43,
   "id": "26a79adf-c292-4e4a-acb7-ca8be606b232",
   "metadata": {},
   "outputs": [
    {
     "name": "stderr",
     "output_type": "stream",
     "text": [
      "23/04/14 00:38:35 WARN DAGScheduler: Broadcasting large task binary with size 9.3 MiB\n",
      "23/04/14 00:39:37 WARN DAGScheduler: Broadcasting large task binary with size 9.3 MiB\n",
      "23/04/14 00:39:38 WARN DAGScheduler: Broadcasting large task binary with size 9.3 MiB\n",
      "23/04/14 00:39:44 WARN DAGScheduler: Broadcasting large task binary with size 9.3 MiB\n",
      "23/04/14 00:39:45 WARN DAGScheduler: Broadcasting large task binary with size 9.3 MiB\n",
      "23/04/14 00:39:50 WARN DAGScheduler: Broadcasting large task binary with size 9.3 MiB\n",
      "23/04/14 00:39:50 WARN DAGScheduler: Broadcasting large task binary with size 9.3 MiB\n",
      "23/04/14 00:39:56 WARN DAGScheduler: Broadcasting large task binary with size 9.3 MiB\n",
      "23/04/14 00:39:56 WARN DAGScheduler: Broadcasting large task binary with size 9.3 MiB\n",
      "23/04/14 00:40:02 WARN DAGScheduler: Broadcasting large task binary with size 9.3 MiB\n",
      "23/04/14 00:40:03 WARN DAGScheduler: Broadcasting large task binary with size 9.3 MiB\n",
      "23/04/14 00:40:08 WARN DAGScheduler: Broadcasting large task binary with size 9.3 MiB\n",
      "23/04/14 00:40:09 WARN DAGScheduler: Broadcasting large task binary with size 9.3 MiB\n",
      "23/04/14 00:40:14 WARN DAGScheduler: Broadcasting large task binary with size 9.3 MiB\n",
      "23/04/14 00:40:15 WARN DAGScheduler: Broadcasting large task binary with size 9.3 MiB\n",
      "23/04/14 00:40:20 WARN DAGScheduler: Broadcasting large task binary with size 9.3 MiB\n",
      "/usr/lib/spark/python/pyspark/sql/pandas/conversion.py:88: UserWarning: toPandas attempted Arrow optimization because 'spark.sql.execution.arrow.pyspark.enabled' is set to true; however, failed by the reason below:\n",
      "  Unsupported type in conversion to Arrow: VectorUDT\n",
      "Attempting non-optimization as 'spark.sql.execution.arrow.pyspark.fallback.enabled' is set to true.\n",
      "  warnings.warn(msg)\n",
      "23/04/14 00:40:23 WARN DAGScheduler: Broadcasting large task binary with size 11.3 MiB\n",
      "23/04/14 00:42:34 WARN DAGScheduler: Broadcasting large task binary with size 11.3 MiB\n",
      "23/04/14 00:43:25 WARN DAGScheduler: Broadcasting large task binary with size 9.3 MiB\n",
      "[Stage 590:======================================================>(73 + 1) / 74]\r"
     ]
    },
    {
     "name": "stdout",
     "output_type": "stream",
     "text": [
      "LogisticRegression Accuracy :  0.6511206030029495\n"
     ]
    },
    {
     "name": "stderr",
     "output_type": "stream",
     "text": [
      "                                                                                \r"
     ]
    }
   ],
   "source": [
    "#Apply the logistic regression model\n",
    "log_reg=LogisticRegression(featuresCol = \"tf_idf_features\",labelCol='controversiality',maxIter=5)\n",
    "trmodel = log_reg.fit(training_df)\n",
    "predictions = trmodel.transform(test_df)\n",
    "predictions.select('controversiality','prediction','probability').toPandas().head(5)\n",
    "accuracy = predictions.filter(predictions.controversiality == predictions.prediction).count() / float(predictions.count())\n",
    "print(\"LogisticRegression Accuracy : \",accuracy)"
   ]
  },
  {
   "cell_type": "code",
   "execution_count": 44,
   "id": "c20ca168-cb9a-403b-80bc-8495ee699e31",
   "metadata": {},
   "outputs": [
    {
     "name": "stderr",
     "output_type": "stream",
     "text": [
      "23/04/14 00:44:14 WARN DAGScheduler: Broadcasting large task binary with size 9.3 MiB\n",
      "23/04/14 00:45:09 WARN DAGScheduler: Broadcasting large task binary with size 9.3 MiB\n",
      "23/04/14 00:45:10 WARN DAGScheduler: Broadcasting large task binary with size 9.3 MiB\n",
      "23/04/14 00:45:14 WARN DAGScheduler: Broadcasting large task binary with size 9.3 MiB\n",
      "23/04/14 00:45:15 WARN DAGScheduler: Broadcasting large task binary with size 9.3 MiB\n",
      "23/04/14 00:45:19 WARN DAGScheduler: Broadcasting large task binary with size 9.3 MiB\n",
      "23/04/14 00:45:20 WARN DAGScheduler: Broadcasting large task binary with size 9.3 MiB\n",
      "23/04/14 00:45:24 WARN DAGScheduler: Broadcasting large task binary with size 9.3 MiB\n",
      "23/04/14 00:45:25 WARN DAGScheduler: Broadcasting large task binary with size 9.3 MiB\n",
      "23/04/14 00:45:29 WARN DAGScheduler: Broadcasting large task binary with size 9.3 MiB\n",
      "23/04/14 00:45:30 WARN DAGScheduler: Broadcasting large task binary with size 9.3 MiB\n",
      "23/04/14 00:45:34 WARN DAGScheduler: Broadcasting large task binary with size 9.3 MiB\n",
      "23/04/14 00:45:35 WARN DAGScheduler: Broadcasting large task binary with size 9.3 MiB\n",
      "23/04/14 00:45:39 WARN DAGScheduler: Broadcasting large task binary with size 9.3 MiB\n",
      "23/04/14 00:45:40 WARN DAGScheduler: Broadcasting large task binary with size 9.3 MiB\n",
      "23/04/14 00:45:44 WARN DAGScheduler: Broadcasting large task binary with size 9.3 MiB\n",
      "23/04/14 00:45:45 WARN DAGScheduler: Broadcasting large task binary with size 9.3 MiB\n",
      "23/04/14 00:45:50 WARN DAGScheduler: Broadcasting large task binary with size 9.3 MiB\n",
      "23/04/14 00:45:50 WARN DAGScheduler: Broadcasting large task binary with size 9.3 MiB\n",
      "23/04/14 00:45:55 WARN DAGScheduler: Broadcasting large task binary with size 9.3 MiB\n",
      "23/04/14 00:45:55 WARN DAGScheduler: Broadcasting large task binary with size 9.3 MiB\n",
      "23/04/14 00:46:00 WARN DAGScheduler: Broadcasting large task binary with size 9.3 MiB\n",
      "23/04/14 00:46:00 WARN DAGScheduler: Broadcasting large task binary with size 9.3 MiB\n",
      "23/04/14 00:46:04 WARN DAGScheduler: Broadcasting large task binary with size 9.3 MiB\n",
      "23/04/14 00:46:05 WARN DAGScheduler: Broadcasting large task binary with size 9.3 MiB\n",
      "23/04/14 00:46:09 WARN DAGScheduler: Broadcasting large task binary with size 9.3 MiB\n",
      "23/04/14 00:46:10 WARN DAGScheduler: Broadcasting large task binary with size 9.3 MiB\n",
      "23/04/14 00:46:14 WARN DAGScheduler: Broadcasting large task binary with size 9.3 MiB\n",
      "23/04/14 00:46:15 WARN DAGScheduler: Broadcasting large task binary with size 9.3 MiB\n",
      "23/04/14 00:46:19 WARN DAGScheduler: Broadcasting large task binary with size 9.3 MiB\n",
      "23/04/14 00:46:20 WARN DAGScheduler: Broadcasting large task binary with size 9.3 MiB\n",
      "23/04/14 00:46:24 WARN DAGScheduler: Broadcasting large task binary with size 9.3 MiB\n",
      "23/04/14 00:46:24 WARN DAGScheduler: Broadcasting large task binary with size 9.3 MiB\n",
      "23/04/14 00:46:29 WARN DAGScheduler: Broadcasting large task binary with size 9.3 MiB\n",
      "23/04/14 00:46:30 WARN DAGScheduler: Broadcasting large task binary with size 9.3 MiB\n",
      "23/04/14 00:46:34 WARN DAGScheduler: Broadcasting large task binary with size 9.3 MiB\n",
      "23/04/14 00:46:34 WARN DAGScheduler: Broadcasting large task binary with size 9.3 MiB\n",
      "23/04/14 00:46:38 WARN DAGScheduler: Broadcasting large task binary with size 9.3 MiB\n",
      "23/04/14 00:46:39 WARN DAGScheduler: Broadcasting large task binary with size 9.3 MiB\n",
      "23/04/14 00:46:43 WARN DAGScheduler: Broadcasting large task binary with size 9.3 MiB\n",
      "23/04/14 00:46:44 WARN DAGScheduler: Broadcasting large task binary with size 9.3 MiB\n",
      "23/04/14 00:46:49 WARN DAGScheduler: Broadcasting large task binary with size 9.3 MiB\n",
      "23/04/14 00:46:49 WARN DAGScheduler: Broadcasting large task binary with size 9.3 MiB\n",
      "23/04/14 00:46:54 WARN DAGScheduler: Broadcasting large task binary with size 9.3 MiB\n",
      "23/04/14 00:46:54 WARN DAGScheduler: Broadcasting large task binary with size 9.3 MiB\n",
      "23/04/14 00:46:58 WARN DAGScheduler: Broadcasting large task binary with size 9.3 MiB\n",
      "23/04/14 00:46:59 WARN DAGScheduler: Broadcasting large task binary with size 9.3 MiB\n",
      "23/04/14 00:47:03 WARN DAGScheduler: Broadcasting large task binary with size 9.3 MiB\n",
      "23/04/14 00:47:04 WARN DAGScheduler: Broadcasting large task binary with size 9.3 MiB\n",
      "23/04/14 00:47:08 WARN DAGScheduler: Broadcasting large task binary with size 9.3 MiB\n",
      "23/04/14 00:47:09 WARN DAGScheduler: Broadcasting large task binary with size 9.3 MiB\n",
      "23/04/14 00:47:13 WARN DAGScheduler: Broadcasting large task binary with size 9.3 MiB\n",
      "23/04/14 00:47:14 WARN DAGScheduler: Broadcasting large task binary with size 9.3 MiB\n",
      "23/04/14 00:47:18 WARN DAGScheduler: Broadcasting large task binary with size 9.3 MiB\n",
      "23/04/14 00:47:19 WARN DAGScheduler: Broadcasting large task binary with size 9.3 MiB\n",
      "23/04/14 00:47:23 WARN DAGScheduler: Broadcasting large task binary with size 9.3 MiB\n",
      "23/04/14 00:47:24 WARN DAGScheduler: Broadcasting large task binary with size 9.3 MiB\n",
      "23/04/14 00:47:28 WARN DAGScheduler: Broadcasting large task binary with size 9.3 MiB\n",
      "23/04/14 00:47:29 WARN DAGScheduler: Broadcasting large task binary with size 9.3 MiB\n",
      "23/04/14 00:47:33 WARN DAGScheduler: Broadcasting large task binary with size 9.3 MiB\n",
      "23/04/14 00:47:34 WARN DAGScheduler: Broadcasting large task binary with size 9.3 MiB\n",
      "23/04/14 00:47:38 WARN DAGScheduler: Broadcasting large task binary with size 9.3 MiB\n",
      "23/04/14 00:47:39 WARN DAGScheduler: Broadcasting large task binary with size 9.3 MiB\n",
      "23/04/14 00:47:43 WARN DAGScheduler: Broadcasting large task binary with size 9.3 MiB\n",
      "23/04/14 00:47:44 WARN DAGScheduler: Broadcasting large task binary with size 9.3 MiB\n",
      "23/04/14 00:47:48 WARN DAGScheduler: Broadcasting large task binary with size 9.3 MiB\n",
      "23/04/14 00:47:49 WARN DAGScheduler: Broadcasting large task binary with size 9.3 MiB\n",
      "23/04/14 00:47:53 WARN DAGScheduler: Broadcasting large task binary with size 9.3 MiB\n",
      "23/04/14 00:47:53 WARN DAGScheduler: Broadcasting large task binary with size 9.3 MiB\n",
      "23/04/14 00:47:58 WARN DAGScheduler: Broadcasting large task binary with size 9.3 MiB\n",
      "23/04/14 00:47:58 WARN DAGScheduler: Broadcasting large task binary with size 9.3 MiB\n",
      "23/04/14 00:48:02 WARN DAGScheduler: Broadcasting large task binary with size 9.3 MiB\n",
      "23/04/14 00:48:03 WARN DAGScheduler: Broadcasting large task binary with size 9.3 MiB\n",
      "23/04/14 00:48:07 WARN DAGScheduler: Broadcasting large task binary with size 9.3 MiB\n",
      "23/04/14 00:48:08 WARN DAGScheduler: Broadcasting large task binary with size 9.3 MiB\n",
      "23/04/14 00:48:12 WARN DAGScheduler: Broadcasting large task binary with size 9.3 MiB\n",
      "23/04/14 00:48:13 WARN DAGScheduler: Broadcasting large task binary with size 9.3 MiB\n",
      "23/04/14 00:48:17 WARN DAGScheduler: Broadcasting large task binary with size 9.3 MiB\n",
      "23/04/14 00:48:18 WARN DAGScheduler: Broadcasting large task binary with size 9.3 MiB\n",
      "23/04/14 00:48:22 WARN DAGScheduler: Broadcasting large task binary with size 9.3 MiB\n",
      "23/04/14 00:48:23 WARN DAGScheduler: Broadcasting large task binary with size 9.3 MiB\n",
      "23/04/14 00:48:27 WARN DAGScheduler: Broadcasting large task binary with size 9.3 MiB\n",
      "23/04/14 00:48:28 WARN DAGScheduler: Broadcasting large task binary with size 9.3 MiB\n",
      "23/04/14 00:48:32 WARN DAGScheduler: Broadcasting large task binary with size 9.3 MiB\n",
      "23/04/14 00:48:33 WARN DAGScheduler: Broadcasting large task binary with size 9.3 MiB\n",
      "23/04/14 00:48:37 WARN DAGScheduler: Broadcasting large task binary with size 9.3 MiB\n",
      "23/04/14 00:48:37 WARN DAGScheduler: Broadcasting large task binary with size 9.3 MiB\n",
      "23/04/14 00:48:42 WARN DAGScheduler: Broadcasting large task binary with size 9.3 MiB\n",
      "23/04/14 00:48:43 WARN DAGScheduler: Broadcasting large task binary with size 9.3 MiB\n",
      "23/04/14 00:48:47 WARN DAGScheduler: Broadcasting large task binary with size 9.3 MiB\n",
      "23/04/14 00:48:48 WARN DAGScheduler: Broadcasting large task binary with size 9.3 MiB\n",
      "23/04/14 00:48:52 WARN DAGScheduler: Broadcasting large task binary with size 9.3 MiB\n",
      "23/04/14 00:48:52 WARN DAGScheduler: Broadcasting large task binary with size 9.3 MiB\n",
      "23/04/14 00:48:56 WARN DAGScheduler: Broadcasting large task binary with size 9.3 MiB\n",
      "23/04/14 00:48:57 WARN DAGScheduler: Broadcasting large task binary with size 9.3 MiB\n",
      "23/04/14 00:49:02 WARN DAGScheduler: Broadcasting large task binary with size 9.3 MiB\n",
      "23/04/14 00:49:02 WARN DAGScheduler: Broadcasting large task binary with size 9.3 MiB\n",
      "23/04/14 00:49:07 WARN DAGScheduler: Broadcasting large task binary with size 9.3 MiB\n",
      "23/04/14 00:49:08 WARN DAGScheduler: Broadcasting large task binary with size 9.3 MiB\n",
      "23/04/14 00:49:13 WARN DAGScheduler: Broadcasting large task binary with size 9.3 MiB\n",
      "23/04/14 00:49:13 WARN DAGScheduler: Broadcasting large task binary with size 9.3 MiB\n",
      "23/04/14 00:49:18 WARN DAGScheduler: Broadcasting large task binary with size 9.3 MiB\n",
      "23/04/14 00:49:18 WARN DAGScheduler: Broadcasting large task binary with size 9.3 MiB\n",
      "23/04/14 00:49:23 WARN DAGScheduler: Broadcasting large task binary with size 9.3 MiB\n",
      "23/04/14 00:49:23 WARN DAGScheduler: Broadcasting large task binary with size 9.3 MiB\n",
      "23/04/14 00:49:27 WARN DAGScheduler: Broadcasting large task binary with size 9.3 MiB\n",
      "23/04/14 00:49:28 WARN DAGScheduler: Broadcasting large task binary with size 9.3 MiB\n",
      "23/04/14 00:49:32 WARN DAGScheduler: Broadcasting large task binary with size 9.3 MiB\n",
      "23/04/14 00:49:33 WARN DAGScheduler: Broadcasting large task binary with size 9.3 MiB\n",
      "23/04/14 00:49:37 WARN DAGScheduler: Broadcasting large task binary with size 9.3 MiB\n",
      "23/04/14 00:49:38 WARN DAGScheduler: Broadcasting large task binary with size 9.3 MiB\n",
      "23/04/14 00:49:42 WARN DAGScheduler: Broadcasting large task binary with size 9.3 MiB\n",
      "23/04/14 00:49:43 WARN DAGScheduler: Broadcasting large task binary with size 9.3 MiB\n",
      "23/04/14 00:49:47 WARN DAGScheduler: Broadcasting large task binary with size 9.3 MiB\n",
      "23/04/14 00:49:48 WARN DAGScheduler: Broadcasting large task binary with size 9.3 MiB\n",
      "23/04/14 00:49:52 WARN DAGScheduler: Broadcasting large task binary with size 9.3 MiB\n",
      "23/04/14 00:49:52 WARN DAGScheduler: Broadcasting large task binary with size 9.3 MiB\n",
      "23/04/14 00:49:57 WARN DAGScheduler: Broadcasting large task binary with size 9.3 MiB\n",
      "23/04/14 00:49:57 WARN DAGScheduler: Broadcasting large task binary with size 9.3 MiB\n",
      "23/04/14 00:50:02 WARN DAGScheduler: Broadcasting large task binary with size 9.3 MiB\n",
      "23/04/14 00:50:02 WARN DAGScheduler: Broadcasting large task binary with size 9.3 MiB\n",
      "23/04/14 00:50:07 WARN DAGScheduler: Broadcasting large task binary with size 9.3 MiB\n",
      "23/04/14 00:50:07 WARN DAGScheduler: Broadcasting large task binary with size 9.3 MiB\n",
      "23/04/14 00:50:12 WARN DAGScheduler: Broadcasting large task binary with size 9.3 MiB\n",
      "23/04/14 00:50:12 WARN DAGScheduler: Broadcasting large task binary with size 9.3 MiB\n",
      "23/04/14 00:50:17 WARN DAGScheduler: Broadcasting large task binary with size 9.3 MiB\n",
      "23/04/14 00:50:17 WARN DAGScheduler: Broadcasting large task binary with size 9.3 MiB\n",
      "23/04/14 00:50:22 WARN DAGScheduler: Broadcasting large task binary with size 9.3 MiB\n",
      "23/04/14 00:50:22 WARN DAGScheduler: Broadcasting large task binary with size 9.3 MiB\n",
      "23/04/14 00:50:27 WARN DAGScheduler: Broadcasting large task binary with size 9.3 MiB\n",
      "23/04/14 00:50:27 WARN DAGScheduler: Broadcasting large task binary with size 9.3 MiB\n",
      "23/04/14 00:50:31 WARN DAGScheduler: Broadcasting large task binary with size 9.3 MiB\n",
      "23/04/14 00:50:32 WARN DAGScheduler: Broadcasting large task binary with size 9.3 MiB\n",
      "23/04/14 00:50:36 WARN DAGScheduler: Broadcasting large task binary with size 9.3 MiB\n",
      "23/04/14 00:50:37 WARN DAGScheduler: Broadcasting large task binary with size 9.3 MiB\n",
      "23/04/14 00:50:42 WARN DAGScheduler: Broadcasting large task binary with size 9.3 MiB\n",
      "23/04/14 00:50:42 WARN DAGScheduler: Broadcasting large task binary with size 9.3 MiB\n",
      "23/04/14 00:50:46 WARN DAGScheduler: Broadcasting large task binary with size 9.3 MiB\n",
      "23/04/14 00:50:47 WARN DAGScheduler: Broadcasting large task binary with size 9.3 MiB\n",
      "23/04/14 00:50:52 WARN DAGScheduler: Broadcasting large task binary with size 9.3 MiB\n",
      "23/04/14 00:50:52 WARN DAGScheduler: Broadcasting large task binary with size 9.3 MiB\n",
      "23/04/14 00:50:56 WARN DAGScheduler: Broadcasting large task binary with size 9.3 MiB\n",
      "23/04/14 00:50:57 WARN DAGScheduler: Broadcasting large task binary with size 9.3 MiB\n",
      "23/04/14 00:51:01 WARN DAGScheduler: Broadcasting large task binary with size 9.3 MiB\n",
      "23/04/14 00:51:02 WARN DAGScheduler: Broadcasting large task binary with size 9.3 MiB\n",
      "23/04/14 00:51:06 WARN DAGScheduler: Broadcasting large task binary with size 9.3 MiB\n",
      "23/04/14 00:51:07 WARN DAGScheduler: Broadcasting large task binary with size 9.3 MiB\n",
      "23/04/14 00:51:11 WARN DAGScheduler: Broadcasting large task binary with size 9.3 MiB\n",
      "23/04/14 00:51:12 WARN DAGScheduler: Broadcasting large task binary with size 9.3 MiB\n",
      "23/04/14 00:51:16 WARN DAGScheduler: Broadcasting large task binary with size 9.3 MiB\n",
      "23/04/14 00:51:16 WARN DAGScheduler: Broadcasting large task binary with size 9.3 MiB\n",
      "23/04/14 00:51:20 WARN DAGScheduler: Broadcasting large task binary with size 9.3 MiB\n",
      "23/04/14 00:51:21 WARN DAGScheduler: Broadcasting large task binary with size 9.3 MiB\n",
      "23/04/14 00:51:26 WARN DAGScheduler: Broadcasting large task binary with size 9.3 MiB\n",
      "23/04/14 00:51:26 WARN DAGScheduler: Broadcasting large task binary with size 9.3 MiB\n",
      "23/04/14 00:51:31 WARN DAGScheduler: Broadcasting large task binary with size 9.3 MiB\n",
      "23/04/14 00:51:31 WARN DAGScheduler: Broadcasting large task binary with size 9.3 MiB\n",
      "23/04/14 00:51:35 WARN DAGScheduler: Broadcasting large task binary with size 9.3 MiB\n",
      "23/04/14 00:51:36 WARN DAGScheduler: Broadcasting large task binary with size 9.3 MiB\n",
      "23/04/14 00:51:40 WARN DAGScheduler: Broadcasting large task binary with size 9.3 MiB\n",
      "23/04/14 00:51:41 WARN DAGScheduler: Broadcasting large task binary with size 9.3 MiB\n",
      "23/04/14 00:51:45 WARN DAGScheduler: Broadcasting large task binary with size 9.3 MiB\n",
      "23/04/14 00:51:46 WARN DAGScheduler: Broadcasting large task binary with size 9.3 MiB\n",
      "23/04/14 00:51:50 WARN DAGScheduler: Broadcasting large task binary with size 9.3 MiB\n",
      "23/04/14 00:51:50 WARN DAGScheduler: Broadcasting large task binary with size 9.3 MiB\n",
      "23/04/14 00:51:55 WARN DAGScheduler: Broadcasting large task binary with size 9.3 MiB\n",
      "23/04/14 00:51:55 WARN DAGScheduler: Broadcasting large task binary with size 9.3 MiB\n",
      "23/04/14 00:52:00 WARN DAGScheduler: Broadcasting large task binary with size 9.3 MiB\n",
      "23/04/14 00:52:01 WARN DAGScheduler: Broadcasting large task binary with size 9.3 MiB\n",
      "23/04/14 00:52:05 WARN DAGScheduler: Broadcasting large task binary with size 9.3 MiB\n",
      "23/04/14 00:52:05 WARN DAGScheduler: Broadcasting large task binary with size 9.3 MiB\n",
      "23/04/14 00:52:10 WARN DAGScheduler: Broadcasting large task binary with size 9.3 MiB\n",
      "23/04/14 00:52:11 WARN DAGScheduler: Broadcasting large task binary with size 9.3 MiB\n",
      "23/04/14 00:52:15 WARN DAGScheduler: Broadcasting large task binary with size 9.3 MiB\n",
      "23/04/14 00:52:15 WARN DAGScheduler: Broadcasting large task binary with size 9.3 MiB\n",
      "23/04/14 00:52:19 WARN DAGScheduler: Broadcasting large task binary with size 9.3 MiB\n",
      "23/04/14 00:52:20 WARN DAGScheduler: Broadcasting large task binary with size 9.3 MiB\n",
      "23/04/14 00:52:24 WARN DAGScheduler: Broadcasting large task binary with size 9.3 MiB\n",
      "23/04/14 00:52:25 WARN DAGScheduler: Broadcasting large task binary with size 9.3 MiB\n",
      "23/04/14 00:52:29 WARN DAGScheduler: Broadcasting large task binary with size 9.3 MiB\n",
      "23/04/14 00:52:30 WARN DAGScheduler: Broadcasting large task binary with size 9.3 MiB\n",
      "23/04/14 00:52:34 WARN DAGScheduler: Broadcasting large task binary with size 9.3 MiB\n",
      "23/04/14 00:52:35 WARN DAGScheduler: Broadcasting large task binary with size 9.3 MiB\n",
      "23/04/14 00:52:39 WARN DAGScheduler: Broadcasting large task binary with size 9.3 MiB\n",
      "23/04/14 00:52:40 WARN DAGScheduler: Broadcasting large task binary with size 9.3 MiB\n",
      "23/04/14 00:52:44 WARN DAGScheduler: Broadcasting large task binary with size 9.3 MiB\n",
      "23/04/14 00:52:44 WARN DAGScheduler: Broadcasting large task binary with size 9.3 MiB\n",
      "23/04/14 00:52:49 WARN DAGScheduler: Broadcasting large task binary with size 9.3 MiB\n",
      "23/04/14 00:52:50 WARN DAGScheduler: Broadcasting large task binary with size 9.3 MiB\n",
      "23/04/14 00:52:54 WARN DAGScheduler: Broadcasting large task binary with size 9.3 MiB\n",
      "23/04/14 00:52:54 WARN DAGScheduler: Broadcasting large task binary with size 9.3 MiB\n",
      "23/04/14 00:52:58 WARN DAGScheduler: Broadcasting large task binary with size 9.3 MiB\n",
      "23/04/14 00:52:59 WARN DAGScheduler: Broadcasting large task binary with size 9.3 MiB\n",
      "23/04/14 00:53:03 WARN DAGScheduler: Broadcasting large task binary with size 9.3 MiB\n",
      "23/04/14 00:53:04 WARN DAGScheduler: Broadcasting large task binary with size 9.3 MiB\n",
      "23/04/14 00:53:08 WARN DAGScheduler: Broadcasting large task binary with size 9.3 MiB\n",
      "23/04/14 00:53:09 WARN DAGScheduler: Broadcasting large task binary with size 9.3 MiB\n",
      "23/04/14 00:53:13 WARN DAGScheduler: Broadcasting large task binary with size 9.3 MiB\n",
      "23/04/14 00:53:14 WARN DAGScheduler: Broadcasting large task binary with size 9.3 MiB\n",
      "23/04/14 00:53:18 WARN DAGScheduler: Broadcasting large task binary with size 9.3 MiB\n",
      "23/04/14 00:53:19 WARN DAGScheduler: Broadcasting large task binary with size 9.3 MiB\n",
      "23/04/14 00:53:23 WARN DAGScheduler: Broadcasting large task binary with size 9.3 MiB\n",
      "23/04/14 00:53:23 WARN DAGScheduler: Broadcasting large task binary with size 9.3 MiB\n",
      "23/04/14 00:53:28 WARN DAGScheduler: Broadcasting large task binary with size 9.3 MiB\n",
      "23/04/14 00:53:29 WARN DAGScheduler: Broadcasting large task binary with size 11.3 MiB\n",
      "23/04/14 00:54:22 WARN DAGScheduler: Broadcasting large task binary with size 9.3 MiB\n",
      "[Stage 800:======================================================>(73 + 1) / 74]\r"
     ]
    },
    {
     "name": "stdout",
     "output_type": "stream",
     "text": [
      "LinearSVC Accuracy :  0.6452849305835029\n"
     ]
    },
    {
     "name": "stderr",
     "output_type": "stream",
     "text": [
      "                                                                                \r"
     ]
    }
   ],
   "source": [
    "#Apply the LinearSVC regression model\n",
    "lsvc = LinearSVC(featuresCol = \"tf_idf_features\",labelCol='controversiality', maxIter=50)\n",
    "lsvc = lsvc.fit(training_df)\n",
    "pred = lsvc.transform(test_df)\n",
    "accuracy_LinearSVC = pred.filter(pred.controversiality == pred.prediction).count() / float(pred.count())\n",
    "print(\"LinearSVC Accuracy : \",accuracy_LinearSVC)"
   ]
  },
  {
   "cell_type": "code",
   "execution_count": 45,
   "id": "c9d3c9fc-0902-4e66-b2f2-bc421c5c49b4",
   "metadata": {},
   "outputs": [
    {
     "name": "stderr",
     "output_type": "stream",
     "text": [
      "23/04/14 00:55:12 WARN DAGScheduler: Broadcasting large task binary with size 9.3 MiB\n",
      "23/04/14 00:56:05 WARN DAGScheduler: Broadcasting large task binary with size 9.3 MiB\n",
      "23/04/14 00:56:06 WARN DAGScheduler: Broadcasting large task binary with size 13.3 MiB\n",
      "23/04/14 00:56:56 WARN DAGScheduler: Broadcasting large task binary with size 9.3 MiB\n",
      "[Stage 809:=====================================================> (72 + 2) / 74]\r"
     ]
    },
    {
     "name": "stdout",
     "output_type": "stream",
     "text": [
      "NaiveBayes Accuracy :  0.6416140243819062\n"
     ]
    },
    {
     "name": "stderr",
     "output_type": "stream",
     "text": [
      "                                                                                \r"
     ]
    }
   ],
   "source": [
    "nb = NaiveBayes(featuresCol = \"tf_idf_features\",labelCol='controversiality',modelType=\"multinomial\")\n",
    "nbmodel = nb.fit(training_df)\n",
    "predictions_df = nbmodel.transform(test_df)\n",
    "accuracy_NaiveBayes = predictions_df.filter(predictions_df.controversiality == predictions_df.prediction).count() / float(predictions_df.count())\n",
    "print(\"NaiveBayes Accuracy : \",accuracy_NaiveBayes)"
   ]
  },
  {
   "cell_type": "markdown",
   "id": "3609c4f4-0b45-4fcb-a00b-92e445ce31d2",
   "metadata": {},
   "source": [
    "#### Undersampling"
   ]
  },
  {
   "cell_type": "code",
   "execution_count": 46,
   "id": "adcd3dbf-afbc-487e-bfa5-172242539cc0",
   "metadata": {},
   "outputs": [
    {
     "name": "stderr",
     "output_type": "stream",
     "text": [
      "23/04/14 00:57:59 WARN DAGScheduler: Broadcasting large task binary with size 5.8 MiB\n",
      "23/04/14 00:58:16 WARN DAGScheduler: Broadcasting large task binary with size 5.8 MiB\n",
      "                                                                                \r"
     ]
    }
   ],
   "source": [
    "#TF-IDF Vectorization\n",
    "tf = CountVectorizer(inputCol='finished_clean',\n",
    "                     outputCol='tf_features')\n",
    "#Fitting and transforming to get term-frequencies\n",
    "tf_model = tf.fit(combined_df_2)\n",
    "tf_result = tf_model.transform(combined_df_2)\n",
    "\n",
    "#Inverse Document Frequency \n",
    "\n",
    "idf = IDF(inputCol='tf_features', \n",
    "          outputCol='tf_idf_features')\n",
    "\n",
    "#Fitting and transforming to get inverse document frequency\n",
    "idf_model = idf.fit(tf_result)\n",
    "tfidf_result = idf_model.transform(tf_result)"
   ]
  },
  {
   "cell_type": "code",
   "execution_count": 47,
   "id": "1ab08cd7-3789-49aa-989b-a858e1f3710b",
   "metadata": {},
   "outputs": [],
   "source": [
    "model_df = tfidf_result.select(\"controversiality\",\"tf_idf_features\")\n",
    "#model_df.show(10, truncate = False)\n",
    "\n",
    "#split the data \n",
    "training_df,test_df=model_df.randomSplit([0.75,0.25])\n",
    "#training_df.show(4,truncate = False )"
   ]
  },
  {
   "cell_type": "code",
   "execution_count": 48,
   "id": "dc7cb2f6-b0ea-4787-8c43-4c9d460e4f2a",
   "metadata": {},
   "outputs": [
    {
     "name": "stderr",
     "output_type": "stream",
     "text": [
      "23/04/14 00:58:17 WARN DAGScheduler: Broadcasting large task binary with size 9.9 MiB\n",
      "23/04/14 00:58:33 WARN DAGScheduler: Broadcasting large task binary with size 9.9 MiB\n",
      "23/04/14 00:58:34 WARN DAGScheduler: Broadcasting large task binary with size 9.9 MiB\n",
      "23/04/14 00:58:35 WARN DAGScheduler: Broadcasting large task binary with size 9.9 MiB\n",
      "23/04/14 00:58:36 WARN DAGScheduler: Broadcasting large task binary with size 9.9 MiB\n",
      "23/04/14 00:58:38 WARN DAGScheduler: Broadcasting large task binary with size 9.9 MiB\n",
      "23/04/14 00:58:39 WARN DAGScheduler: Broadcasting large task binary with size 9.9 MiB\n",
      "23/04/14 00:58:41 WARN DAGScheduler: Broadcasting large task binary with size 9.9 MiB\n",
      "23/04/14 00:58:41 WARN DAGScheduler: Broadcasting large task binary with size 9.9 MiB\n",
      "23/04/14 00:58:43 WARN DAGScheduler: Broadcasting large task binary with size 9.9 MiB\n",
      "23/04/14 00:58:44 WARN DAGScheduler: Broadcasting large task binary with size 9.9 MiB\n",
      "23/04/14 00:58:46 WARN DAGScheduler: Broadcasting large task binary with size 9.9 MiB\n",
      "23/04/14 00:58:46 WARN DAGScheduler: Broadcasting large task binary with size 9.9 MiB\n",
      "23/04/14 00:58:48 WARN DAGScheduler: Broadcasting large task binary with size 9.9 MiB\n",
      "23/04/14 00:58:49 WARN DAGScheduler: Broadcasting large task binary with size 9.9 MiB\n",
      "23/04/14 00:58:51 WARN DAGScheduler: Broadcasting large task binary with size 9.9 MiB\n",
      "23/04/14 00:58:53 WARN DAGScheduler: Broadcasting large task binary with size 11.9 MiB\n",
      "23/04/14 00:59:16 WARN DAGScheduler: Broadcasting large task binary with size 11.9 MiB\n",
      "23/04/14 00:59:31 WARN DAGScheduler: Broadcasting large task binary with size 9.8 MiB\n",
      "                                                                                \r"
     ]
    },
    {
     "name": "stdout",
     "output_type": "stream",
     "text": [
      "LogisticRegression Accuracy :  0.6039280651173163\n"
     ]
    },
    {
     "name": "stderr",
     "output_type": "stream",
     "text": [
      "23/04/14 00:59:46 WARN DAGScheduler: Broadcasting large task binary with size 9.9 MiB\n",
      "23/04/14 01:00:03 WARN DAGScheduler: Broadcasting large task binary with size 9.9 MiB\n",
      "23/04/14 01:00:03 WARN DAGScheduler: Broadcasting large task binary with size 9.9 MiB\n",
      "23/04/14 01:00:05 WARN DAGScheduler: Broadcasting large task binary with size 9.9 MiB\n",
      "23/04/14 01:00:06 WARN DAGScheduler: Broadcasting large task binary with size 9.9 MiB\n",
      "23/04/14 01:00:08 WARN DAGScheduler: Broadcasting large task binary with size 9.9 MiB\n",
      "23/04/14 01:00:08 WARN DAGScheduler: Broadcasting large task binary with size 9.9 MiB\n",
      "23/04/14 01:00:10 WARN DAGScheduler: Broadcasting large task binary with size 9.9 MiB\n",
      "23/04/14 01:00:11 WARN DAGScheduler: Broadcasting large task binary with size 9.9 MiB\n",
      "23/04/14 01:00:12 WARN DAGScheduler: Broadcasting large task binary with size 9.9 MiB\n",
      "23/04/14 01:00:13 WARN DAGScheduler: Broadcasting large task binary with size 9.9 MiB\n",
      "23/04/14 01:00:15 WARN DAGScheduler: Broadcasting large task binary with size 9.9 MiB\n",
      "23/04/14 01:00:16 WARN DAGScheduler: Broadcasting large task binary with size 9.9 MiB\n",
      "23/04/14 01:00:18 WARN DAGScheduler: Broadcasting large task binary with size 9.9 MiB\n",
      "23/04/14 01:00:19 WARN DAGScheduler: Broadcasting large task binary with size 9.9 MiB\n",
      "23/04/14 01:00:20 WARN DAGScheduler: Broadcasting large task binary with size 9.9 MiB\n",
      "23/04/14 01:00:21 WARN DAGScheduler: Broadcasting large task binary with size 9.9 MiB\n",
      "23/04/14 01:00:23 WARN DAGScheduler: Broadcasting large task binary with size 9.9 MiB\n",
      "23/04/14 01:00:23 WARN DAGScheduler: Broadcasting large task binary with size 9.9 MiB\n",
      "23/04/14 01:00:25 WARN DAGScheduler: Broadcasting large task binary with size 9.9 MiB\n",
      "23/04/14 01:00:26 WARN DAGScheduler: Broadcasting large task binary with size 9.9 MiB\n",
      "23/04/14 01:00:28 WARN DAGScheduler: Broadcasting large task binary with size 9.9 MiB\n",
      "23/04/14 01:00:29 WARN DAGScheduler: Broadcasting large task binary with size 9.9 MiB\n",
      "23/04/14 01:00:30 WARN DAGScheduler: Broadcasting large task binary with size 9.9 MiB\n",
      "23/04/14 01:00:31 WARN DAGScheduler: Broadcasting large task binary with size 9.9 MiB\n",
      "23/04/14 01:00:33 WARN DAGScheduler: Broadcasting large task binary with size 9.9 MiB\n",
      "23/04/14 01:00:33 WARN DAGScheduler: Broadcasting large task binary with size 9.9 MiB\n",
      "23/04/14 01:00:35 WARN DAGScheduler: Broadcasting large task binary with size 9.9 MiB\n",
      "23/04/14 01:00:36 WARN DAGScheduler: Broadcasting large task binary with size 9.9 MiB\n",
      "23/04/14 01:00:38 WARN DAGScheduler: Broadcasting large task binary with size 9.9 MiB\n",
      "23/04/14 01:00:39 WARN DAGScheduler: Broadcasting large task binary with size 9.9 MiB\n",
      "23/04/14 01:00:40 WARN DAGScheduler: Broadcasting large task binary with size 9.9 MiB\n",
      "23/04/14 01:00:41 WARN DAGScheduler: Broadcasting large task binary with size 9.9 MiB\n",
      "23/04/14 01:00:43 WARN DAGScheduler: Broadcasting large task binary with size 9.9 MiB\n",
      "23/04/14 01:00:43 WARN DAGScheduler: Broadcasting large task binary with size 9.9 MiB\n",
      "23/04/14 01:00:45 WARN DAGScheduler: Broadcasting large task binary with size 9.9 MiB\n",
      "23/04/14 01:00:46 WARN DAGScheduler: Broadcasting large task binary with size 9.9 MiB\n",
      "23/04/14 01:00:48 WARN DAGScheduler: Broadcasting large task binary with size 9.9 MiB\n",
      "23/04/14 01:00:49 WARN DAGScheduler: Broadcasting large task binary with size 9.9 MiB\n",
      "23/04/14 01:00:51 WARN DAGScheduler: Broadcasting large task binary with size 9.9 MiB\n",
      "23/04/14 01:00:51 WARN DAGScheduler: Broadcasting large task binary with size 9.9 MiB\n",
      "23/04/14 01:00:53 WARN DAGScheduler: Broadcasting large task binary with size 9.9 MiB\n",
      "23/04/14 01:00:54 WARN DAGScheduler: Broadcasting large task binary with size 9.9 MiB\n",
      "23/04/14 01:00:56 WARN DAGScheduler: Broadcasting large task binary with size 9.9 MiB\n",
      "23/04/14 01:00:56 WARN DAGScheduler: Broadcasting large task binary with size 9.9 MiB\n",
      "23/04/14 01:00:58 WARN DAGScheduler: Broadcasting large task binary with size 9.9 MiB\n",
      "23/04/14 01:00:59 WARN DAGScheduler: Broadcasting large task binary with size 9.9 MiB\n",
      "23/04/14 01:01:00 WARN DAGScheduler: Broadcasting large task binary with size 9.9 MiB\n",
      "23/04/14 01:01:01 WARN DAGScheduler: Broadcasting large task binary with size 9.9 MiB\n",
      "23/04/14 01:01:03 WARN DAGScheduler: Broadcasting large task binary with size 9.9 MiB\n",
      "23/04/14 01:01:03 WARN DAGScheduler: Broadcasting large task binary with size 9.9 MiB\n",
      "23/04/14 01:01:05 WARN DAGScheduler: Broadcasting large task binary with size 9.9 MiB\n",
      "23/04/14 01:01:06 WARN DAGScheduler: Broadcasting large task binary with size 9.9 MiB\n",
      "23/04/14 01:01:08 WARN DAGScheduler: Broadcasting large task binary with size 9.9 MiB\n",
      "23/04/14 01:01:08 WARN DAGScheduler: Broadcasting large task binary with size 9.9 MiB\n",
      "23/04/14 01:01:11 WARN DAGScheduler: Broadcasting large task binary with size 9.9 MiB\n",
      "23/04/14 01:01:11 WARN DAGScheduler: Broadcasting large task binary with size 9.9 MiB\n",
      "23/04/14 01:01:13 WARN DAGScheduler: Broadcasting large task binary with size 9.9 MiB\n",
      "23/04/14 01:01:14 WARN DAGScheduler: Broadcasting large task binary with size 9.9 MiB\n",
      "23/04/14 01:01:15 WARN DAGScheduler: Broadcasting large task binary with size 9.9 MiB\n",
      "23/04/14 01:01:16 WARN DAGScheduler: Broadcasting large task binary with size 9.9 MiB\n",
      "23/04/14 01:01:18 WARN DAGScheduler: Broadcasting large task binary with size 9.9 MiB\n",
      "23/04/14 01:01:19 WARN DAGScheduler: Broadcasting large task binary with size 9.9 MiB\n",
      "23/04/14 01:01:21 WARN DAGScheduler: Broadcasting large task binary with size 9.9 MiB\n",
      "23/04/14 01:01:21 WARN DAGScheduler: Broadcasting large task binary with size 9.9 MiB\n",
      "23/04/14 01:01:23 WARN DAGScheduler: Broadcasting large task binary with size 9.9 MiB\n",
      "23/04/14 01:01:24 WARN DAGScheduler: Broadcasting large task binary with size 9.9 MiB\n",
      "23/04/14 01:01:26 WARN DAGScheduler: Broadcasting large task binary with size 9.9 MiB\n",
      "23/04/14 01:01:27 WARN DAGScheduler: Broadcasting large task binary with size 9.9 MiB\n",
      "23/04/14 01:01:28 WARN DAGScheduler: Broadcasting large task binary with size 9.9 MiB\n",
      "23/04/14 01:01:29 WARN DAGScheduler: Broadcasting large task binary with size 9.9 MiB\n",
      "23/04/14 01:01:31 WARN DAGScheduler: Broadcasting large task binary with size 9.9 MiB\n",
      "23/04/14 01:01:31 WARN DAGScheduler: Broadcasting large task binary with size 9.9 MiB\n",
      "23/04/14 01:01:33 WARN DAGScheduler: Broadcasting large task binary with size 9.9 MiB\n",
      "23/04/14 01:01:34 WARN DAGScheduler: Broadcasting large task binary with size 9.9 MiB\n",
      "23/04/14 01:01:36 WARN DAGScheduler: Broadcasting large task binary with size 9.9 MiB\n",
      "23/04/14 01:01:37 WARN DAGScheduler: Broadcasting large task binary with size 9.9 MiB\n",
      "23/04/14 01:01:40 WARN DAGScheduler: Broadcasting large task binary with size 9.9 MiB\n",
      "23/04/14 01:01:40 WARN DAGScheduler: Broadcasting large task binary with size 9.9 MiB\n",
      "23/04/14 01:01:42 WARN DAGScheduler: Broadcasting large task binary with size 9.9 MiB\n",
      "23/04/14 01:01:43 WARN DAGScheduler: Broadcasting large task binary with size 9.9 MiB\n",
      "23/04/14 01:01:45 WARN DAGScheduler: Broadcasting large task binary with size 9.9 MiB\n",
      "23/04/14 01:01:45 WARN DAGScheduler: Broadcasting large task binary with size 9.9 MiB\n",
      "23/04/14 01:01:47 WARN DAGScheduler: Broadcasting large task binary with size 9.9 MiB\n",
      "23/04/14 01:01:48 WARN DAGScheduler: Broadcasting large task binary with size 9.9 MiB\n",
      "23/04/14 01:01:50 WARN DAGScheduler: Broadcasting large task binary with size 9.9 MiB\n",
      "23/04/14 01:01:51 WARN DAGScheduler: Broadcasting large task binary with size 9.9 MiB\n",
      "23/04/14 01:01:53 WARN DAGScheduler: Broadcasting large task binary with size 9.9 MiB\n",
      "23/04/14 01:01:53 WARN DAGScheduler: Broadcasting large task binary with size 9.9 MiB\n",
      "23/04/14 01:01:56 WARN DAGScheduler: Broadcasting large task binary with size 9.9 MiB\n",
      "23/04/14 01:01:56 WARN DAGScheduler: Broadcasting large task binary with size 9.9 MiB\n",
      "23/04/14 01:01:58 WARN DAGScheduler: Broadcasting large task binary with size 9.9 MiB\n",
      "23/04/14 01:01:59 WARN DAGScheduler: Broadcasting large task binary with size 9.9 MiB\n",
      "23/04/14 01:02:01 WARN DAGScheduler: Broadcasting large task binary with size 9.9 MiB\n",
      "23/04/14 01:02:02 WARN DAGScheduler: Broadcasting large task binary with size 9.9 MiB\n",
      "23/04/14 01:02:03 WARN DAGScheduler: Broadcasting large task binary with size 9.9 MiB\n",
      "23/04/14 01:02:04 WARN DAGScheduler: Broadcasting large task binary with size 9.9 MiB\n",
      "23/04/14 01:02:06 WARN DAGScheduler: Broadcasting large task binary with size 9.9 MiB\n",
      "23/04/14 01:02:07 WARN DAGScheduler: Broadcasting large task binary with size 9.9 MiB\n",
      "23/04/14 01:02:09 WARN DAGScheduler: Broadcasting large task binary with size 9.9 MiB\n",
      "23/04/14 01:02:09 WARN DAGScheduler: Broadcasting large task binary with size 9.9 MiB\n",
      "23/04/14 01:02:11 WARN DAGScheduler: Broadcasting large task binary with size 9.9 MiB\n",
      "23/04/14 01:02:12 WARN DAGScheduler: Broadcasting large task binary with size 9.9 MiB\n",
      "23/04/14 01:02:14 WARN DAGScheduler: Broadcasting large task binary with size 9.9 MiB\n",
      "23/04/14 01:02:15 WARN DAGScheduler: Broadcasting large task binary with size 9.9 MiB\n",
      "23/04/14 01:02:17 WARN DAGScheduler: Broadcasting large task binary with size 9.9 MiB\n",
      "23/04/14 01:02:17 WARN DAGScheduler: Broadcasting large task binary with size 9.9 MiB\n",
      "23/04/14 01:02:19 WARN DAGScheduler: Broadcasting large task binary with size 9.9 MiB\n",
      "23/04/14 01:02:20 WARN DAGScheduler: Broadcasting large task binary with size 9.9 MiB\n",
      "23/04/14 01:02:22 WARN DAGScheduler: Broadcasting large task binary with size 9.9 MiB\n",
      "23/04/14 01:02:22 WARN DAGScheduler: Broadcasting large task binary with size 9.9 MiB\n",
      "23/04/14 01:02:24 WARN DAGScheduler: Broadcasting large task binary with size 9.9 MiB\n",
      "23/04/14 01:02:25 WARN DAGScheduler: Broadcasting large task binary with size 9.9 MiB\n",
      "23/04/14 01:02:26 WARN DAGScheduler: Broadcasting large task binary with size 9.9 MiB\n",
      "23/04/14 01:02:27 WARN DAGScheduler: Broadcasting large task binary with size 9.9 MiB\n",
      "23/04/14 01:02:29 WARN DAGScheduler: Broadcasting large task binary with size 9.9 MiB\n",
      "23/04/14 01:02:30 WARN DAGScheduler: Broadcasting large task binary with size 9.9 MiB\n",
      "23/04/14 01:02:32 WARN DAGScheduler: Broadcasting large task binary with size 9.9 MiB\n",
      "23/04/14 01:02:33 WARN DAGScheduler: Broadcasting large task binary with size 9.9 MiB\n",
      "23/04/14 01:02:34 WARN DAGScheduler: Broadcasting large task binary with size 9.9 MiB\n",
      "23/04/14 01:02:35 WARN DAGScheduler: Broadcasting large task binary with size 9.9 MiB\n",
      "23/04/14 01:02:37 WARN DAGScheduler: Broadcasting large task binary with size 9.9 MiB\n",
      "23/04/14 01:02:37 WARN DAGScheduler: Broadcasting large task binary with size 9.9 MiB\n",
      "23/04/14 01:02:39 WARN DAGScheduler: Broadcasting large task binary with size 9.9 MiB\n",
      "23/04/14 01:02:40 WARN DAGScheduler: Broadcasting large task binary with size 9.9 MiB\n",
      "23/04/14 01:02:42 WARN DAGScheduler: Broadcasting large task binary with size 9.9 MiB\n",
      "23/04/14 01:02:42 WARN DAGScheduler: Broadcasting large task binary with size 9.9 MiB\n",
      "23/04/14 01:02:44 WARN DAGScheduler: Broadcasting large task binary with size 9.9 MiB\n",
      "23/04/14 01:02:45 WARN DAGScheduler: Broadcasting large task binary with size 9.9 MiB\n",
      "23/04/14 01:02:47 WARN DAGScheduler: Broadcasting large task binary with size 9.9 MiB\n",
      "23/04/14 01:02:47 WARN DAGScheduler: Broadcasting large task binary with size 9.9 MiB\n",
      "23/04/14 01:02:50 WARN DAGScheduler: Broadcasting large task binary with size 9.9 MiB\n",
      "23/04/14 01:02:50 WARN DAGScheduler: Broadcasting large task binary with size 9.9 MiB\n",
      "23/04/14 01:02:52 WARN DAGScheduler: Broadcasting large task binary with size 9.9 MiB\n",
      "23/04/14 01:02:52 WARN DAGScheduler: Broadcasting large task binary with size 9.9 MiB\n",
      "23/04/14 01:02:54 WARN DAGScheduler: Broadcasting large task binary with size 9.9 MiB\n",
      "23/04/14 01:02:55 WARN DAGScheduler: Broadcasting large task binary with size 9.9 MiB\n",
      "23/04/14 01:02:57 WARN DAGScheduler: Broadcasting large task binary with size 9.9 MiB\n",
      "23/04/14 01:02:57 WARN DAGScheduler: Broadcasting large task binary with size 9.9 MiB\n",
      "23/04/14 01:02:59 WARN DAGScheduler: Broadcasting large task binary with size 9.9 MiB\n",
      "23/04/14 01:03:00 WARN DAGScheduler: Broadcasting large task binary with size 9.9 MiB\n",
      "23/04/14 01:03:02 WARN DAGScheduler: Broadcasting large task binary with size 9.9 MiB\n",
      "23/04/14 01:03:02 WARN DAGScheduler: Broadcasting large task binary with size 9.9 MiB\n",
      "23/04/14 01:03:04 WARN DAGScheduler: Broadcasting large task binary with size 9.9 MiB\n",
      "23/04/14 01:03:05 WARN DAGScheduler: Broadcasting large task binary with size 9.9 MiB\n",
      "23/04/14 01:03:07 WARN DAGScheduler: Broadcasting large task binary with size 9.9 MiB\n",
      "23/04/14 01:03:08 WARN DAGScheduler: Broadcasting large task binary with size 9.9 MiB\n",
      "23/04/14 01:03:10 WARN DAGScheduler: Broadcasting large task binary with size 9.9 MiB\n",
      "23/04/14 01:03:10 WARN DAGScheduler: Broadcasting large task binary with size 9.9 MiB\n",
      "23/04/14 01:03:12 WARN DAGScheduler: Broadcasting large task binary with size 9.9 MiB\n",
      "23/04/14 01:03:13 WARN DAGScheduler: Broadcasting large task binary with size 9.9 MiB\n",
      "23/04/14 01:03:15 WARN DAGScheduler: Broadcasting large task binary with size 9.9 MiB\n",
      "23/04/14 01:03:16 WARN DAGScheduler: Broadcasting large task binary with size 9.9 MiB\n",
      "23/04/14 01:03:18 WARN DAGScheduler: Broadcasting large task binary with size 9.9 MiB\n",
      "23/04/14 01:03:18 WARN DAGScheduler: Broadcasting large task binary with size 9.9 MiB\n",
      "23/04/14 01:03:20 WARN DAGScheduler: Broadcasting large task binary with size 9.9 MiB\n",
      "23/04/14 01:03:21 WARN DAGScheduler: Broadcasting large task binary with size 9.9 MiB\n",
      "23/04/14 01:03:23 WARN DAGScheduler: Broadcasting large task binary with size 9.9 MiB\n",
      "23/04/14 01:03:23 WARN DAGScheduler: Broadcasting large task binary with size 9.9 MiB\n",
      "23/04/14 01:03:25 WARN DAGScheduler: Broadcasting large task binary with size 9.9 MiB\n",
      "23/04/14 01:03:26 WARN DAGScheduler: Broadcasting large task binary with size 9.9 MiB\n",
      "23/04/14 01:03:28 WARN DAGScheduler: Broadcasting large task binary with size 9.9 MiB\n",
      "23/04/14 01:03:29 WARN DAGScheduler: Broadcasting large task binary with size 9.9 MiB\n",
      "23/04/14 01:03:31 WARN DAGScheduler: Broadcasting large task binary with size 9.9 MiB\n",
      "23/04/14 01:03:31 WARN DAGScheduler: Broadcasting large task binary with size 9.9 MiB\n",
      "23/04/14 01:03:33 WARN DAGScheduler: Broadcasting large task binary with size 9.9 MiB\n",
      "23/04/14 01:03:34 WARN DAGScheduler: Broadcasting large task binary with size 9.9 MiB\n",
      "23/04/14 01:03:36 WARN DAGScheduler: Broadcasting large task binary with size 9.9 MiB\n",
      "23/04/14 01:03:37 WARN DAGScheduler: Broadcasting large task binary with size 9.9 MiB\n",
      "23/04/14 01:03:39 WARN DAGScheduler: Broadcasting large task binary with size 9.9 MiB\n",
      "23/04/14 01:03:40 WARN DAGScheduler: Broadcasting large task binary with size 9.9 MiB\n",
      "23/04/14 01:03:42 WARN DAGScheduler: Broadcasting large task binary with size 9.9 MiB\n",
      "23/04/14 01:03:42 WARN DAGScheduler: Broadcasting large task binary with size 9.9 MiB\n",
      "23/04/14 01:03:44 WARN DAGScheduler: Broadcasting large task binary with size 9.9 MiB\n",
      "23/04/14 01:03:45 WARN DAGScheduler: Broadcasting large task binary with size 9.9 MiB\n",
      "23/04/14 01:03:47 WARN DAGScheduler: Broadcasting large task binary with size 9.9 MiB\n",
      "23/04/14 01:03:47 WARN DAGScheduler: Broadcasting large task binary with size 9.9 MiB\n",
      "23/04/14 01:03:49 WARN DAGScheduler: Broadcasting large task binary with size 9.9 MiB\n",
      "23/04/14 01:03:50 WARN DAGScheduler: Broadcasting large task binary with size 9.9 MiB\n",
      "23/04/14 01:03:52 WARN DAGScheduler: Broadcasting large task binary with size 9.9 MiB\n",
      "23/04/14 01:03:52 WARN DAGScheduler: Broadcasting large task binary with size 9.9 MiB\n",
      "23/04/14 01:03:54 WARN DAGScheduler: Broadcasting large task binary with size 9.9 MiB\n",
      "23/04/14 01:03:55 WARN DAGScheduler: Broadcasting large task binary with size 9.9 MiB\n",
      "23/04/14 01:03:57 WARN DAGScheduler: Broadcasting large task binary with size 9.9 MiB\n",
      "23/04/14 01:03:58 WARN DAGScheduler: Broadcasting large task binary with size 9.9 MiB\n",
      "23/04/14 01:04:00 WARN DAGScheduler: Broadcasting large task binary with size 9.9 MiB\n",
      "23/04/14 01:04:00 WARN DAGScheduler: Broadcasting large task binary with size 9.9 MiB\n",
      "23/04/14 01:04:02 WARN DAGScheduler: Broadcasting large task binary with size 9.9 MiB\n",
      "23/04/14 01:04:03 WARN DAGScheduler: Broadcasting large task binary with size 9.9 MiB\n",
      "23/04/14 01:04:05 WARN DAGScheduler: Broadcasting large task binary with size 9.9 MiB\n",
      "23/04/14 01:04:06 WARN DAGScheduler: Broadcasting large task binary with size 9.9 MiB\n",
      "23/04/14 01:04:07 WARN DAGScheduler: Broadcasting large task binary with size 9.9 MiB\n",
      "23/04/14 01:04:08 WARN DAGScheduler: Broadcasting large task binary with size 9.9 MiB\n",
      "23/04/14 01:04:10 WARN DAGScheduler: Broadcasting large task binary with size 9.9 MiB\n",
      "23/04/14 01:04:11 WARN DAGScheduler: Broadcasting large task binary with size 9.9 MiB\n",
      "23/04/14 01:04:13 WARN DAGScheduler: Broadcasting large task binary with size 9.9 MiB\n",
      "23/04/14 01:04:13 WARN DAGScheduler: Broadcasting large task binary with size 9.9 MiB\n",
      "23/04/14 01:04:15 WARN DAGScheduler: Broadcasting large task binary with size 9.9 MiB\n",
      "23/04/14 01:04:16 WARN DAGScheduler: Broadcasting large task binary with size 9.9 MiB\n",
      "23/04/14 01:04:17 WARN DAGScheduler: Broadcasting large task binary with size 9.9 MiB\n",
      "23/04/14 01:04:18 WARN DAGScheduler: Broadcasting large task binary with size 9.9 MiB\n",
      "23/04/14 01:04:20 WARN DAGScheduler: Broadcasting large task binary with size 9.9 MiB\n",
      "23/04/14 01:04:21 WARN DAGScheduler: Broadcasting large task binary with size 9.9 MiB\n",
      "23/04/14 01:04:23 WARN DAGScheduler: Broadcasting large task binary with size 9.9 MiB\n",
      "23/04/14 01:04:24 WARN DAGScheduler: Broadcasting large task binary with size 11.8 MiB\n",
      "23/04/14 01:04:39 WARN DAGScheduler: Broadcasting large task binary with size 9.8 MiB\n",
      "                                                                                \r"
     ]
    },
    {
     "name": "stdout",
     "output_type": "stream",
     "text": [
      "LinearSVC Accuracy :  0.5948941069921015\n"
     ]
    },
    {
     "name": "stderr",
     "output_type": "stream",
     "text": [
      "23/04/14 01:04:55 WARN DAGScheduler: Broadcasting large task binary with size 9.8 MiB\n",
      "23/04/14 01:05:11 WARN DAGScheduler: Broadcasting large task binary with size 9.8 MiB\n",
      "23/04/14 01:05:12 WARN DAGScheduler: Broadcasting large task binary with size 13.8 MiB\n",
      "23/04/14 01:05:28 WARN DAGScheduler: Broadcasting large task binary with size 9.8 MiB\n",
      "[Stage 1057:====================================================> (72 + 2) / 74]\r"
     ]
    },
    {
     "name": "stdout",
     "output_type": "stream",
     "text": [
      "NaiveBayes Accuracy :  0.599579477213718\n"
     ]
    },
    {
     "name": "stderr",
     "output_type": "stream",
     "text": [
      "                                                                                \r"
     ]
    }
   ],
   "source": [
    "#Apply the logistic regression model\n",
    "log_reg=LogisticRegression(featuresCol = \"tf_idf_features\",labelCol='controversiality',maxIter=5)\n",
    "trmodel = log_reg.fit(training_df)\n",
    "predictions = trmodel.transform(test_df)\n",
    "predictions.select('controversiality','prediction','probability').toPandas().head(5)\n",
    "accuracy = predictions.filter(predictions.controversiality == predictions.prediction).count() / float(predictions.count())\n",
    "print(\"LogisticRegression Accuracy : \",accuracy)\n",
    "\n",
    "#Apply the LinearSVC regression model\n",
    "lsvc = LinearSVC(featuresCol = \"tf_idf_features\",labelCol='controversiality', maxIter=50)\n",
    "lsvc = lsvc.fit(training_df)\n",
    "pred = lsvc.transform(test_df)\n",
    "accuracy_LinearSVC = pred.filter(pred.controversiality == pred.prediction).count() / float(pred.count())\n",
    "print(\"LinearSVC Accuracy : \",accuracy_LinearSVC)\n",
    "\n",
    "nb = NaiveBayes(featuresCol = \"tf_idf_features\",labelCol='controversiality',modelType=\"multinomial\")\n",
    "nbmodel = nb.fit(training_df)\n",
    "predictions_df = nbmodel.transform(test_df)\n",
    "accuracy_NaiveBayes = predictions_df.filter(predictions_df.controversiality == predictions_df.prediction).count() / float(predictions_df.count())\n",
    "print(\"NaiveBayes Accuracy : \",accuracy_NaiveBayes)"
   ]
  },
  {
   "cell_type": "code",
   "execution_count": null,
   "id": "6d7ba7f0-5f13-41ca-90a6-f5e9aa07dab6",
   "metadata": {},
   "outputs": [],
   "source": [
    "spark.stop()"
   ]
  },
  {
   "cell_type": "code",
   "execution_count": null,
   "id": "d7a9e7e3-9847-421d-800f-6483b321388b",
   "metadata": {},
   "outputs": [],
   "source": []
  }
 ],
 "metadata": {
  "kernelspec": {
   "display_name": "Python 3 (ipykernel)",
   "language": "python",
   "name": "python3"
  },
  "language_info": {
   "codemirror_mode": {
    "name": "ipython",
    "version": 3
   },
   "file_extension": ".py",
   "mimetype": "text/x-python",
   "name": "python",
   "nbconvert_exporter": "python",
   "pygments_lexer": "ipython3",
   "version": "3.7.11"
  }
 },
 "nbformat": 4,
 "nbformat_minor": 5
}
