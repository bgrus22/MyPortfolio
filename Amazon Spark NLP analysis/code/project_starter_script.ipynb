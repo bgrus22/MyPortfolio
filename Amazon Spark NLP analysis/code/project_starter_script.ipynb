{
 "cells": [
  {
   "cell_type": "markdown",
   "id": "e57d995d-7818-4182-8c29-0e12054a96ed",
   "metadata": {
    "tags": []
   },
   "source": [
    "# Introduction to the pushshift dataset\n",
    "\n",
    "***This notebook works best an EMR 6.1.0 (Haddop 3.2.1, Spark 3.0.0) cluster with 1 master-node (m5.xlarge) and 3 core-nodes (m5.xlarge)***.\n",
    "\n",
    "---\n",
    "\n",
    "The pushshift dataset is available in the `s3://bigdatateaching` under the `/reddit/parquet/` prefix. This notebook provides code to read this data so that you can identify the subreddits that are of interest to you and start working with the data.\n",
    "\n",
    "In this notebook we do the following:\n",
    "\n",
    "1. Setup a SparkSession.\n",
    "\n",
    "1. Read the `submissions` and `comments` data into Pyspark dataframes and do so basic exploratory analysis.\n",
    "\n",
    "1. Filter the subreddits of interest into new PySpark dataframes, save them into an S3 bucket in your account.\n",
    "\n",
    "That's it, you are ready to work with reddit data for your project!"
   ]
  },
  {
   "cell_type": "markdown",
   "id": "11a4e3ba-50ee-4328-803c-5fb207f5631f",
   "metadata": {},
   "source": [
    "## Setup SparkSession"
   ]
  },
  {
   "cell_type": "code",
   "execution_count": 1,
   "id": "2d38f70c-1619-458d-9697-9bde51a853f4",
   "metadata": {
    "tags": []
   },
   "outputs": [
    {
     "name": "stderr",
     "output_type": "stream",
     "text": [
      "Setting default log level to \"WARN\".\n",
      "To adjust logging level use sc.setLogLevel(newLevel). For SparkR, use setLogLevel(newLevel).\n",
      "23/03/22 23:32:47 WARN Client: Neither spark.yarn.jars nor spark.yarn.archive is set, falling back to uploading libraries under SPARK_HOME.\n",
      "23/03/22 23:32:56 WARN YarnSchedulerBackend$YarnSchedulerEndpoint: Attempted to request executors before the AM has registered!\n"
     ]
    }
   ],
   "source": [
    "import findspark\n",
    "findspark.init()\n",
    "from pyspark.sql import SparkSession\n",
    "import pyspark.sql.functions as f\n",
    "from pyspark.sql.functions import isnan, when, count, col, lit\n",
    "spark = SparkSession.builder.appName(\"reddit-bigdata-project\").getOrCreate()\n"
   ]
  },
  {
   "cell_type": "code",
   "execution_count": 2,
   "id": "fb1eab5f-2cae-4ea9-ab94-58212346134f",
   "metadata": {},
   "outputs": [
    {
     "data": {
      "text/html": [
       "\n",
       "            <div>\n",
       "                <p><b>SparkSession - in-memory</b></p>\n",
       "                \n",
       "        <div>\n",
       "            <p><b>SparkContext</b></p>\n",
       "\n",
       "            <p><a href=\"http://ip-172-31-81-215.ec2.internal:4040\">Spark UI</a></p>\n",
       "\n",
       "            <dl>\n",
       "              <dt>Version</dt>\n",
       "                <dd><code>v3.0.0-amzn-0</code></dd>\n",
       "              <dt>Master</dt>\n",
       "                <dd><code>yarn</code></dd>\n",
       "              <dt>AppName</dt>\n",
       "                <dd><code>reddit-bigdata-project</code></dd>\n",
       "            </dl>\n",
       "        </div>\n",
       "        \n",
       "            </div>\n",
       "        "
      ],
      "text/plain": [
       "<pyspark.sql.session.SparkSession at 0x7fc23902c750>"
      ]
     },
     "execution_count": 2,
     "metadata": {},
     "output_type": "execute_result"
    }
   ],
   "source": [
    "spark"
   ]
  },
  {
   "cell_type": "markdown",
   "id": "f457d3c5-dc8c-4758-98b1-ba537a80f13c",
   "metadata": {},
   "source": [
    "## Read the `submissions` and `comments` data"
   ]
  },
  {
   "cell_type": "code",
   "execution_count": 3,
   "id": "9412496f-6234-4e02-aa77-4cff5baf4773",
   "metadata": {
    "tags": []
   },
   "outputs": [
    {
     "name": "stderr",
     "output_type": "stream",
     "text": [
      "[Stage 2:>                                                          (0 + 1) / 1]\r"
     ]
    },
    {
     "name": "stdout",
     "output_type": "stream",
     "text": [
      "+-------------------+----------------------+--------------------+--------------------+----------------+-----------+-------------+------+------+-------+---------+----------+------------+-----+--------+--------------------+------------+\n",
      "|             author|author_flair_css_class|   author_flair_text|                body|controversiality|created_utc|distinguished|edited|gilded|     id|  link_id| parent_id|retrieved_on|score|stickied|           subreddit|subreddit_id|\n",
      "+-------------------+----------------------+--------------------+--------------------+----------------+-----------+-------------+------+------+-------+---------+----------+------------+-----+--------+--------------------+------------+\n",
      "|          y26404986|                  null|                null|Mmmmm ... is this...|               0| 1641098735|         null|  null|     0|hqwcail|t3_rtzn1c| t3_rtzn1c|  1645567209|    1|   false|          RedditSets|   t5_3psukr|\n",
      "|            iTwango|                  null|                null|\"Aren't you a lit...|               0| 1641098735|         null|  null|     0|hqwcaim|t3_rtwci2|t1_hqvbwwp|  1645567209|    2|   false|   NoStupidQuestions|    t5_2w844|\n",
      "|       SandiegoJack|                  null|                null|“Full”\n",
      "\n",
      "Also if I...|               0| 1641098735|         null|  null|     0|hqwcain|t3_rsu2gf|t1_hqp04wj|  1645567209|    1|   false|WarhammerCompetitive|    t5_3mrre|\n",
      "|        Happy-Kevin|                  null|                null|Could possibly be...|               0| 1641098735|         null|  null|     0|hqwcaio|t3_rop938|t1_hq3sq1e|  1645567209|    1|   false|          OculusLink|   t5_25gzcy|\n",
      "|         branden110|  oklahoma-sheet1-r...|:oklahoma: :wyomi...|YOURE GONNA DIE I...|               0| 1641098735|         null|  null|     0|hqwcaip|t3_rtx6ev|t1_hqwc6yz|  1645567209|    2|   false|                 CFB|    t5_2qm9d|\n",
      "|         imsexytoby|                  null|                null|My husband once n...|               0| 1641098735|         null|  null|     0|hqwcaiq|t3_rtfail|t1_hqst17e|  1645567209|    1|   false|       breastfeeding|    t5_2rdj4|\n",
      "|      tryantsupermo|                  null|        Kleptomaniac|Only in time Ochacko|               0| 1641098735|         null|  null|     0|hqwcair|t3_rtja2w| t3_rtja2w|  1645567209|    5|   false|  BokuNoMetaAcademia|    t5_9mbir|\n",
      "|        jstoltpojke|                  null|                null|Where do we get t...|               0| 1641098735|         null|  null|     0|hqwcais|t3_ru1hre| t3_ru1hre|  1645567209|    1|   false|           jerkbudss|   t5_3b1ay1|\n",
      "|          ManaMonoR|                  null|                null|ate some hot dogs...|               0| 1641098735|         null|  null|     0|hqwcait|t3_ru1km9|t1_hqwc6za|  1645567209|    2|   false|              delta8|   t5_2kpdau|\n",
      "|         cassity282|                  null|    Partassipant [4]|why would you ass...|               0| 1641098735|         null|  null|     0|hqwcaiu|t3_rtugjy|t1_hqw4xt7|  1645567209|   37|   false|       AmItheAsshole|    t5_2xhvq|\n",
      "|     BalanceMaestro|                  null|Moron, son of Mor...|Yes.  some people...|               0| 1641098735|         null|  null|     0|hqwcaiv|t3_rtq1hj| t3_rtq1hj|  1645567209|    2|   false|            exmormon|    t5_2r0gj|\n",
      "|      MrVictor01010|                  null|OU - Computer Eng...|       Did you pass?|               0| 1641098735|         null|  null|     0|hqwcaiw|t3_kwimro|t1_gj7ws35|  1645567209|    1|   false| EngineeringStudents|    t5_2sh0b|\n",
      "|            inminit|                  null|                null|I saw this.\n",
      "\n",
      "&amp...|               0| 1641098735|         null|  null|     0|hqwcaix|t3_ru0q6u|t1_hqw9lpw|  1645567209|    5|   false|    AlgorandOfficial|    t5_wm2x2|\n",
      "|       xxxC0Y0T3xxx|                  null|                null|They were a bit s...|               0| 1641098735|         null|  null|     0|hqwcaiy|t3_rpzvm5|t1_hqwc3gs|  1645567209|    2|   false|     WorldCrossovers|   t5_2i51nq|\n",
      "| SharedZoneBeyMoist|                  null|                null|Dry Herb Vape, I'...|               0| 1641098735|         null|  null|     0|hqwcaiz|t3_rti5m6|t1_hqsvwbw|  1645567209|    0|   false|             uktrees|    t5_2si9d|\n",
      "|          [deleted]|                  null|                null|           [removed]|               0| 1641098735|         null|  null|     0|hqwcaj0|t3_rtx6ev| t3_rtx6ev|  1645567209|    7|   false|                 CFB|    t5_2qm9d|\n",
      "|     twinnedcalcite|                  null|                null|No a single place...|               0| 1641098735|         null|  null|     0|hqwcaj1|t3_rt95xd|t1_hquwpnt|  1645567209|    1|   false|          iceskating|    t5_2rguz|\n",
      "|             FE4R3D|                  null|                null|I was just prescr...|               0| 1641098735|         null|  null|     0|hqwcaj2|t3_rtptnx| t3_rtptnx|  1645567209|    1|   false|              Asthma|    t5_2s8vp|\n",
      "|Dazzling_Ostrich606|                  null|                null|I never realized ...|               0| 1641098735|         null|  null|     0|hqwcaj3|t3_rtx1lp|t1_hqw1zmm|  1645567209|    3|   false|       marvelstudios|    t5_2uii8|\n",
      "|  Every_Thought5834|                  null|                null|Been in your shoe...|               0| 1641098735|         null|  null|     0|hqwcaj4|t3_ru0mzq| t3_ru0mzq|  1645567209|    5|   false|            Marriage|    t5_2reak|\n",
      "+-------------------+----------------------+--------------------+--------------------+----------------+-----------+-------------+------+------+-------+---------+----------+------------+-----+--------+--------------------+------------+\n",
      "only showing top 20 rows\n",
      "\n"
     ]
    },
    {
     "name": "stderr",
     "output_type": "stream",
     "text": [
      "                                                                                \r"
     ]
    }
   ],
   "source": [
    "comments = spark.read.parquet(\n",
    "    \"s3a://bigdatateaching/reddit/parquet/comments/yyyy=*/mm=*/*comments*.parquet\",\n",
    "    header=True\n",
    ")\n",
    "comments.show()"
   ]
  },
  {
   "cell_type": "code",
   "execution_count": 4,
   "id": "242ad2a0-5e48-4957-85bc-00f64e5d37d0",
   "metadata": {
    "tags": []
   },
   "outputs": [
    {
     "name": "stderr",
     "output_type": "stream",
     "text": [
      "[Stage 5:>                                                          (0 + 1) / 1]\r"
     ]
    },
    {
     "name": "stdout",
     "output_type": "stream",
     "text": [
      "+------------------+----------------------+--------------------+-----------+-------------+--------------------+-------------+------+-------+------+------------+-------+----------+------------+-----+--------------------+--------+--------------------+------------+--------------------+--------------------+\n",
      "|            author|author_flair_css_class|   author_flair_text|created_utc|distinguished|              domain|       edited|    id|is_self|locked|num_comments|over_18|quarantine|retrieved_on|score|            selftext|stickied|           subreddit|subreddit_id|               title|                 url|\n",
      "+------------------+----------------------+--------------------+-----------+-------------+--------------------+-------------+------+-------+------+------------+-------+----------+------------+-----+--------------------+--------+--------------------+------------+--------------------+--------------------+\n",
      "|         [deleted]|                  null|                null| 1640997058|         null|           i.redd.it|         null|rkrds9|  false| false|           0|  false|     false|  1656064284|    3|           [deleted]|   false|antitheistcheesecake|   t5_56ml5q|           straw man|https://i.redd.it...|\n",
      "|         [deleted]|                  null|                null| 1640997058|         null|self.antitheistch...|         null|rkrhyh|   true| false|           1|  false|     false|  1656064280|    1|           [removed]|   false|antitheistcheesecake|   t5_56ml5q|   [deleted by user]|https://www.reddi...|\n",
      "|         [deleted]|                  null|                null| 1640997058|         null|           i.redd.it|         null|rkrjf5|  false| false|          12|  false|     false|  1656064278|   55|                    |   false|antitheistcheesecake|   t5_56ml5q|The sexual revolu...|https://i.redd.it...|\n",
      "|         [deleted]|                  null|                null| 1640997058|         null|self.antitheistch...|         null|rkrk3b|   true| false|           1|  false|     false|  1656064278|    2|           [removed]|   false|antitheistcheesecake|   t5_56ml5q|   [deleted by user]|https://www.reddi...|\n",
      "|         [deleted]|                  null|                null| 1640997058|         null|           i.redd.it|         null|rkrlu7|  false| false|           6|  false|     false|  1656064276|   41|                    |   false|antitheistcheesecake|   t5_56ml5q|in reality is the...|https://i.redd.it...|\n",
      "|         [deleted]|                  null|                null| 1640997058|         null|self.antitheistch...|         null|rkrmkl|   true| false|           1|  false|     false|  1656064276|    1|           [removed]|   false|antitheistcheesecake|   t5_56ml5q|   [deleted by user]|https://www.reddi...|\n",
      "|            qatlrn|                  null|                null| 1640996362|    moderator|  self.ProjectListen|1.640996737E9|rt0ohv|   true| false|          28|  false|     false|  1654200024|   14|As we bring in th...|   false|       ProjectListen|   t5_4ie55f|Introducing The P...|https://www.reddi...|\n",
      "|           NBA_MOD|                   NBA|  [NBA] Scott Foster| 1640995200|         null|            self.nba|1.641006311E9|rt6ogv|   true| false|          21|  false|     false|  1654199632|    9|##General Informa...|   false|                 nba|    t5_2qo4s|GAME THREAD: New ...|https://www.reddi...|\n",
      "|      FPPenSwapBot|                  null|                 Bot| 1640995200|         null|       self.Pen_Swap|         null|rt6ogw|   true| false|        1884|  false|     false|  1654199632|   22|Post your confirm...|   false|            Pen_Swap|    t5_2tyn2|January 2022 Conf...|https://www.reddi...|\n",
      "|    Donald_Filimon|                  null|        🎨 Artist 🎨| 1640995200|         null|          opensea.io|         null|rt6ogx|  false| false|           2|  false|     false|  1654199632|    1|                    |   false|     NFTsMarketplace|   t5_4147ke|CryptoCoinBank – ...|https://opensea.i...|\n",
      "|       YarnSwapBot|                  null|                 Bot| 1640995200|         null|       self.Yarnswap|         null|rt6ogy|   true| false|          16|  false|     false|  1654199632|    2|Post your confirm...|   false|            Yarnswap|    t5_2rx58|January 2022 Conf...|https://www.reddi...|\n",
      "|           NBA_MOD|                   NBA|  [NBA] Scott Foster| 1640995200|         null|            self.nba|1.641007038E9|rt6ogz|   true| false|          26|  false|     false|  1654199632|   11|##General Informa...|   false|                 nba|    t5_2qo4s|GAME THREAD: San ...|https://www.reddi...|\n",
      "|         [deleted]|                  null|                null| 1640995200|         null|    self.isthislegal|         null|rt6oh0|   true| false|           2|  false|     false|  1654199632|    3|           [removed]|   false|         isthislegal|    t5_2t5h4|   [deleted by user]|https://www.reddi...|\n",
      "|          OtterSou|                  null|                null| 1640995200|         null|        self.ISO8601|         null|rt6oh1|   true| false|          13|  false|     false|  1654199632|  404|Here's to another...|   false|             ISO8601|    t5_2tez4|Happy 2022-01-01T...|https://www.reddi...|\n",
      "|       nearbyareas|                  null|                null| 1640995200|         null|           self.COPD|         null|rt6oh2|   true| false|          13|  false|     false|  1654199632|    3|Also can PFT test...|   false|                COPD|    t5_2wk9n|Copd life expectancy|https://www.reddi...|\n",
      "|           Tokyono|                  null|                null| 1640995200|         null|           i.redd.it|         null|rt6oh5|  false| false|           0|  false|     false|  1654199632|   32|                    |   false|              museum|    t5_2rti0|Briton Riviere - ...|https://i.redd.it...|\n",
      "|Ok-Assignment-6458|                  null|                null| 1640995200|         null|         redgifs.com|         null|rt6oh6|  false| false|           0|   true|     false|  1654199632|    6|                    |   false|       HaveToHaveHer|    t5_3brmn|Blonde With A Nic...|https://www.redgi...|\n",
      "|        Ok-Fly1879|                  null|                null| 1640995200|         null|           i.redd.it|         null|rt6oh7|  false| false|           9|  false|     false|  1654199632|  125|                    |   false|       DannyGonzalez|    t5_mljgb|      Danny GONzalez|https://i.redd.it...|\n",
      "|    Shimmering-Sky|                      |:AMQ::STAR::MAL:h...| 1640995200|         null|          self.anime|         null|rt6oh8|   true| false|          44|  false|     false|  1654199632|   32|#***[Hajimari wa ...|   false|               anime|    t5_2qh22|REMINDER - Cross ...|https://www.reddi...|\n",
      "|          Abyss002|                  null|                null| 1640995200|         null|     self.allthemods|         null|rt6oha|   true| false|           0|  false|     false|  1654199632|    1|           [removed]|   false|          allthemods|    t5_32q4b|[Modded Server | ...|https://www.reddi...|\n",
      "+------------------+----------------------+--------------------+-----------+-------------+--------------------+-------------+------+-------+------+------------+-------+----------+------------+-----+--------------------+--------+--------------------+------------+--------------------+--------------------+\n",
      "only showing top 20 rows\n",
      "\n"
     ]
    },
    {
     "name": "stderr",
     "output_type": "stream",
     "text": [
      "                                                                                \r"
     ]
    }
   ],
   "source": [
    "submissions = spark.read.parquet(\n",
    "    \"s3a://bigdatateaching/reddit/parquet/submissions/yyyy=*/mm=*/*submissions*.parquet\",\n",
    "    header=True\n",
    ")\n",
    "submissions.show()"
   ]
  },
  {
   "cell_type": "code",
   "execution_count": 5,
   "id": "3c0e9275-66da-495e-8441-d728cebed543",
   "metadata": {
    "tags": []
   },
   "outputs": [
    {
     "name": "stderr",
     "output_type": "stream",
     "text": [
      "[Stage 6:======================================================>(449 + 2) / 451]\r"
     ]
    },
    {
     "name": "stdout",
     "output_type": "stream",
     "text": [
      "shape of the submissions dataframe is 313,972,841x21\n",
      "CPU times: user 11.3 ms, sys: 12.4 ms, total: 23.7 ms\n",
      "Wall time: 9.16 s\n"
     ]
    },
    {
     "name": "stderr",
     "output_type": "stream",
     "text": [
      "                                                                                \r"
     ]
    }
   ],
   "source": [
    "%%time\n",
    "print(f\"shape of the submissions dataframe is {submissions.count():,}x{len(submissions.columns)}\") "
   ]
  },
  {
   "cell_type": "code",
   "execution_count": 6,
   "id": "b87ad1b2-e038-418c-80ca-b83948d75bdb",
   "metadata": {
    "tags": []
   },
   "outputs": [
    {
     "name": "stderr",
     "output_type": "stream",
     "text": [
      "[Stage 9:====================================================>(3502 + 1) / 3503]\r"
     ]
    },
    {
     "name": "stdout",
     "output_type": "stream",
     "text": [
      "shape of the comments dataframe is 3,076,907,105x17\n",
      "CPU times: user 130 ms, sys: 18.6 ms, total: 149 ms\n",
      "Wall time: 57.4 s\n"
     ]
    },
    {
     "name": "stderr",
     "output_type": "stream",
     "text": [
      "                                                                                \r"
     ]
    }
   ],
   "source": [
    "%%time\n",
    "print(f\"shape of the comments dataframe is {comments.count():,}x{len(comments.columns)}\") "
   ]
  },
  {
   "cell_type": "markdown",
   "id": "92cd5f3d-02fd-47a8-b0f1-5d1e1ea23d2f",
   "metadata": {},
   "source": [
    "## Exploratory data analysis\n",
    "\n",
    "Let us find the number of submissions and comments per subreddit. We will use SparkSQL for this."
   ]
  },
  {
   "cell_type": "code",
   "execution_count": 7,
   "id": "3449426e-c820-4ed6-8cbe-46ff98f2a758",
   "metadata": {
    "tags": []
   },
   "outputs": [],
   "source": [
    "submissions.createOrReplaceTempView(\"submissions\")\n",
    "comments.createOrReplaceTempView(\"comments\")"
   ]
  },
  {
   "cell_type": "code",
   "execution_count": 8,
   "id": "84d610dc-b72d-414d-8fdd-bf1329d80497",
   "metadata": {
    "tags": []
   },
   "outputs": [
    {
     "name": "stderr",
     "output_type": "stream",
     "text": [
      "[Stage 14:===============================================>        (22 + 4) / 26]\r"
     ]
    },
    {
     "name": "stdout",
     "output_type": "stream",
     "text": [
      "+-------------------+-------+\n",
      "|          subreddit|  count|\n",
      "+-------------------+-------+\n",
      "|          AskReddit|2820312|\n",
      "|       dirtykikpals|1797324|\n",
      "|           dirtyr4r|1645658|\n",
      "|        GaySnapchat|1294169|\n",
      "|          jerkbudss|1226116|\n",
      "|          teenagers| 992427|\n",
      "|      DirtySnapchat| 924343|\n",
      "|      FreeKarma4You| 740495|\n",
      "|relationship_advice| 714845|\n",
      "|      AutoNewspaper| 701442|\n",
      "|        MassiveCock| 694869|\n",
      "|            FemBoys| 653319|\n",
      "|               cock| 642364|\n",
      "|              memes| 631451|\n",
      "|     wifepictrading| 621277|\n",
      "|          Eldenring| 616378|\n",
      "|           gonewild| 607159|\n",
      "|         needysluts| 584244|\n",
      "|     PokemonGoRaids| 575693|\n",
      "|      Roleplaybuddy| 555313|\n",
      "+-------------------+-------+\n",
      "only showing top 20 rows\n",
      "\n",
      "CPU times: user 56.7 ms, sys: 15.5 ms, total: 72.2 ms\n",
      "Wall time: 35.2 s\n"
     ]
    },
    {
     "name": "stderr",
     "output_type": "stream",
     "text": [
      "                                                                                \r"
     ]
    }
   ],
   "source": [
    "%%time\n",
    "\n",
    "sql_str=\"select subreddit, count(id) as count from submissions group by subreddit order by count desc\"\n",
    "submissions_subreddit_count = spark.sql(sql_str)\n",
    "submissions_subreddit_count.show()"
   ]
  },
  {
   "cell_type": "markdown",
   "id": "c6d2544a-501e-4600-9acf-c3827ced158b",
   "metadata": {},
   "source": [
    "Save it to a file"
   ]
  },
  {
   "cell_type": "code",
   "execution_count": 9,
   "id": "4aa27658-7f4e-4370-b359-d243329914b9",
   "metadata": {
    "tags": []
   },
   "outputs": [
    {
     "name": "stderr",
     "output_type": "stream",
     "text": [
      "                                                                                \r"
     ]
    },
    {
     "name": "stdout",
     "output_type": "stream",
     "text": [
      "CPU times: user 5.05 s, sys: 522 ms, total: 5.58 s\n",
      "Wall time: 56.3 s\n"
     ]
    }
   ],
   "source": [
    "%%time\n",
    "submissions_subreddit_count.toPandas().to_csv(\"submissions_per_subreddit.csv\", index=None)"
   ]
  },
  {
   "cell_type": "code",
   "execution_count": 10,
   "id": "db6b2b36-cf79-48a7-9f32-84eeb76f5ee3",
   "metadata": {
    "tags": []
   },
   "outputs": [
    {
     "name": "stderr",
     "output_type": "stream",
     "text": [
      "[Stage 25:==================================================>     (68 + 8) / 76]\r"
     ]
    },
    {
     "name": "stdout",
     "output_type": "stream",
     "text": [
      "+-------------------+--------+\n",
      "|          subreddit|   count|\n",
      "+-------------------+--------+\n",
      "|          AskReddit|77932752|\n",
      "|      AmItheAsshole|27773841|\n",
      "|          teenagers|23794403|\n",
      "|          worldnews|18548934|\n",
      "|      FreeKarma4You|16380561|\n",
      "|        FreeKarma4U|16204497|\n",
      "|     wallstreetbets|15137889|\n",
      "|           politics|13371145|\n",
      "|                nfl|13305635|\n",
      "|              memes|12549874|\n",
      "|                nba|12302911|\n",
      "|             soccer|12286831|\n",
      "|            TrueFMK|12103484|\n",
      "|           antiwork|11165889|\n",
      "|     PublicFreakout|10774101|\n",
      "|relationship_advice|10238985|\n",
      "|          Eldenring|10238395|\n",
      "|           facepalm|10060271|\n",
      "|               news|10013591|\n",
      "|  interestingasfuck| 9479187|\n",
      "+-------------------+--------+\n",
      "only showing top 20 rows\n",
      "\n",
      "CPU times: user 428 ms, sys: 92.6 ms, total: 520 ms\n",
      "Wall time: 3min 29s\n"
     ]
    },
    {
     "name": "stderr",
     "output_type": "stream",
     "text": [
      "                                                                                \r"
     ]
    }
   ],
   "source": [
    "%%time\n",
    "\n",
    "sql_str=\"select subreddit, count(id) as count from comments group by subreddit order by count desc\"\n",
    "comment_subreddit_count = spark.sql(sql_str)\n",
    "comment_subreddit_count.show()"
   ]
  },
  {
   "cell_type": "markdown",
   "id": "66167d34-eb77-4470-b170-e022d43a3e8a",
   "metadata": {},
   "source": [
    "Save it to a file"
   ]
  },
  {
   "cell_type": "code",
   "execution_count": 11,
   "id": "2f386511-90bd-4c9f-a27a-bdd062808921",
   "metadata": {
    "tags": []
   },
   "outputs": [
    {
     "name": "stderr",
     "output_type": "stream",
     "text": [
      "                                                                                \r"
     ]
    },
    {
     "name": "stdout",
     "output_type": "stream",
     "text": [
      "CPU times: user 2.61 s, sys: 363 ms, total: 2.98 s\n",
      "Wall time: 5min 51s\n"
     ]
    }
   ],
   "source": [
    "%%time\n",
    "comment_subreddit_count.toPandas().to_csv(\"comments_per_subreddit.csv\", index=None)"
   ]
  },
  {
   "cell_type": "markdown",
   "id": "a64063ed-a089-4e36-bd2d-3f66df17e74c",
   "metadata": {},
   "source": [
    "## Filter for a subreddit of interest"
   ]
  },
  {
   "cell_type": "code",
   "execution_count": 11,
   "id": "b9c4374b-36d8-4eb0-8d12-37b0c376be15",
   "metadata": {
    "tags": []
   },
   "outputs": [],
   "source": [
    "subreddit = 'worldnews' # replace this with something that is of interest to you"
   ]
  },
  {
   "cell_type": "code",
   "execution_count": 12,
   "id": "c54f82f9-79f1-4271-a3f0-e5cec283056a",
   "metadata": {
    "tags": []
   },
   "outputs": [
    {
     "name": "stderr",
     "output_type": "stream",
     "text": [
      "[Stage 26:>                                                         (0 + 1) / 1]\r"
     ]
    },
    {
     "name": "stdout",
     "output_type": "stream",
     "text": [
      "+------------------+----------------------+-----------------+-----------+-------------+--------------------+------+------+-------+------+------------+-------+----------+------------+-----+---------+--------+---------+------------+--------------------+--------------------+\n",
      "|            author|author_flair_css_class|author_flair_text|created_utc|distinguished|              domain|edited|    id|is_self|locked|num_comments|over_18|quarantine|retrieved_on|score| selftext|stickied|subreddit|subreddit_id|               title|                 url|\n",
      "+------------------+----------------------+-----------------+-----------+-------------+--------------------+------+------+-------+------+------------+-------+----------+------------+-----+---------+--------+---------+------------+--------------------+--------------------+\n",
      "|           legmeta|                  null|             null| 1640995268|         null|uk.finance.yahoo.com|  null|rt6pjn|  false| false|          25|  false|     false|  1654199630|   72|         |   false|worldnews|    t5_2qh13|BlackBerry phones...|https://uk.financ...|\n",
      "|        siliconeer|                  null|             null| 1640995402|         null|      siliconeer.com|  null|rt6r9i|  false| false|           1|  false|     false|  1654199627|    1|         |   false|worldnews|    t5_2qh13|After months of i...|https://siliconee...|\n",
      "|          Vandalsk|                  null|             null| 1640996041|         null|         youtube.com|  null|rt6ynw|  false| false|           1|  false|     false|  1654199614|    1|         |   false|worldnews|    t5_2qh13|Breaking News! Is...|https://www.youtu...|\n",
      "|          SetMau92|                  null|             null| 1640996278|         null|              dw.com|  null|rt719d|  false| false|         694|  false|     false|  1654199608|14801|         |   false|worldnews|    t5_2qh13|France to make bi...|https://www.dw.co...|\n",
      "|         [deleted]|                  null|             null| 1640996468|         null|      self.worldnews|  null|rt73ks|   true| false|          45|  false|     false|  1654199604|  160|[removed]|   false|worldnews|    t5_2qh13|   [deleted by user]|https://www.reddi...|\n",
      "|         [deleted]|                  null|             null| 1640996550|         null|      self.worldnews|  null|rt74k7|   true| false|           5|  false|     false|  1654199603|   27|[removed]|   false|worldnews|    t5_2qh13|   [deleted by user]|https://www.reddi...|\n",
      "|  BurstYourBubbles|                  null|             null| 1640997179|         null|     asia.nikkei.com|  null|rt7bfy|  false| false|         215|  false|     false|  1654199591| 1654|         |   false|worldnews|    t5_2qh13|18-year-olds now ...|https://asia.nikk...|\n",
      "|         [deleted]|                  null|             null| 1640997986|         null|      self.worldnews|  null|rt7k2c|   true| false|           0|  false|     false|  1654199576|    0|[removed]|   false|worldnews|    t5_2qh13|   [deleted by user]|https://www.reddi...|\n",
      "|         [deleted]|                  null|             null| 1640998024|         null|      self.worldnews|  null|rt7kfx|   true| false|           7|  false|     false|  1654199575|    6|[removed]|   false|worldnews|    t5_2qh13|   [deleted by user]|https://www.reddi...|\n",
      "|    WineConnosewer|                  null|             null| 1640998965|         null|           salon.com|  null|rt7uxn|  false| false|           0|  false|     false|  1654199557|    1|         |   false|worldnews|    t5_2qh13|If America really...|https://www.salon...|\n",
      "|      DegnarOskold|                  null|             null| 1640999368|         null|      tribune.com.pk|  null|rt7z8k|  false| false|           2|  false|     false|  1654199549|   11|         |   false|worldnews|    t5_2qh13|200 Hindu pilgrim...|https://tribune.c...|\n",
      "|        chonker200|                  null|             null| 1640999658|         null|         reuters.com|  null|rt82ju|  false| false|           0|  false|     false|  1654199542|   41|         |   false|worldnews|    t5_2qh13|Mexico disbands m...|https://www.reute...|\n",
      "|         [deleted]|                  null|             null| 1640999776|         null|            scmp.com|  null|rt83tw|  false| false|           0|  false|     false|  1654199541|    0|[deleted]|   false|worldnews|    t5_2qh13|China’s Winter Ol...|https://www.scmp....|\n",
      "|         SoozeeQew|                  null|             null| 1641000012|         null|       aljazeera.com|  null|rt86ej|  false| false|          59|  false|     false|  1654199537|   74|         |   false|worldnews|    t5_2qh13|Germany shuts dow...|https://www.aljaz...|\n",
      "|         [deleted]|                  null|             null| 1641000043|         null|       aljazeera.com|  null|rt86s2|  false| false|           0|  false|     false|  1654199536|    1|[deleted]|   false|worldnews|    t5_2qh13|China accuses Wal...|https://www.aljaz...|\n",
      "|Useful-Carpet-6737|                  null|             null| 1641000574|         null|         youtube.com|  null|rt8cil|  false| false|           1|  false|     false|  1654199526|    1|         |   false|worldnews|    t5_2qh13|confusion all abo...|https://youtube.c...|\n",
      "|         [deleted]|                  null|             null| 1641000801|         null|      self.worldnews|  null|rt8fbh|   true| false|           9|  false|     false|  1654199520|    9|[removed]|   false|worldnews|    t5_2qh13|   [deleted by user]|https://www.reddi...|\n",
      "|         [deleted]|                  null|             null| 1641001321|         null|      self.worldnews|  null|rt8kw9|   true| false|          21|  false|     false|  1654199511|    0|[removed]|   false|worldnews|    t5_2qh13|   [deleted by user]|https://www.reddi...|\n",
      "|       vincent_713|                  null|             null| 1641002099|         null|            scmp.com|  null|rt8t0b|  false| false|          28|  false|     false|  1654199497|   74|         |   false|worldnews|    t5_2qh13|RCEP, the world’s...|https://www.scmp....|\n",
      "|         DrRobert0|                  null|             null| 1641002310|         null|      japantoday.com|  null|rt8v61|  false| false|          11|  false|     false|  1654199493|  128|         |   false|worldnews|    t5_2qh13|All U.S. forces' ...|https://japantoda...|\n",
      "+------------------+----------------------+-----------------+-----------+-------------+--------------------+------+------+-------+------+------------+-------+----------+------------+-----+---------+--------+---------+------------+--------------------+--------------------+\n",
      "only showing top 20 rows\n",
      "\n",
      "CPU times: user 6.2 ms, sys: 0 ns, total: 6.2 ms\n",
      "Wall time: 11.7 s\n"
     ]
    },
    {
     "name": "stderr",
     "output_type": "stream",
     "text": [
      "                                                                                \r"
     ]
    }
   ],
   "source": [
    "%%time\n",
    "\n",
    "sql_str=f\"select * from submissions where subreddit='{subreddit}'\"\n",
    "submissions_filtered = spark.sql(sql_str)\n",
    "submissions_filtered.show()"
   ]
  },
  {
   "cell_type": "code",
   "execution_count": 13,
   "id": "da0feda3-1ddc-4554-a34b-13590524a27a",
   "metadata": {
    "tags": []
   },
   "outputs": [
    {
     "name": "stderr",
     "output_type": "stream",
     "text": [
      "[Stage 27:>                                                         (0 + 1) / 1]\r"
     ]
    },
    {
     "name": "stdout",
     "output_type": "stream",
     "text": [
      "+--------------------+----------------------+-----------------+--------------------+----------------+-----------+-------------+-------------+------+-------+---------+----------+------------+-----+--------+---------+------------+\n",
      "|              author|author_flair_css_class|author_flair_text|                body|controversiality|created_utc|distinguished|       edited|gilded|     id|  link_id| parent_id|retrieved_on|score|stickied|subreddit|subreddit_id|\n",
      "+--------------------+----------------------+-----------------+--------------------+----------------+-----------+-------------+-------------+------+-------+---------+----------+------------+-----+--------+---------+------------+\n",
      "|           [deleted]|                  null|             null|           [removed]|               0| 1641098736|         null|         null|     0|hqwcan2|t3_rtv67k| t3_rtv67k|  1645567209|    2|   false|worldnews|    t5_2qh13|\n",
      "|      Dark_Vulture83|                  null|             null|Did Russia learn ...|               0| 1641098738|         null|         null|     0|hqwcarq|t3_rtv67k| t3_rtv67k|  1645567209|    2|   false|worldnews|    t5_2qh13|\n",
      "|            plexico_|                  null|             null|Nuclear launch de...|               0| 1641098740|         null|         null|     0|hqwcav9|t3_rtnaag|t1_hquybx1|  1645567209|   12|   false|worldnews|    t5_2qh13|\n",
      "|  Lord_Jar_Jar_Binks|                  null|             null|I remember when P...|               0| 1641098743|         null|         null|     0|hqwcb36|t3_rtv67k|t1_hqvd5o7|  1645567209|    7|   false|worldnews|    t5_2qh13|\n",
      "|           [deleted]|                  null|             null|           [removed]|               0| 1641098748|         null|         null|     0|hqwcbfp|t3_ru1mx7|t1_hqwbowm|  1645567208|    1|   false|worldnews|    t5_2qh13|\n",
      "|GullibleDirection786|                  null|             null|  Who dreams of r8s?|               1| 1641098749|         null|         null|     0|hqwcbjv|t3_rtzcl8|t1_hqw075h|  1645567208|    3|   false|worldnews|    t5_2qh13|\n",
      "|          ShonenGood|                  null|             null|        What the fu-|               0| 1641098766|         null|         null|     0|hqwccpv|t3_rto8qw| t3_rto8qw|  1645567207|    1|   false|worldnews|    t5_2qh13|\n",
      "|           [deleted]|                  null|             null|           [deleted]|               0| 1641098767|         null|1.641099041E9|     0|hqwcct3|t3_rtv67k|t1_hqw5945|  1645567207|   84|   false|worldnews|    t5_2qh13|\n",
      "|        AccidentalDM|                  null|             null|It’s 2020 two. \n",
      "\n",
      "...|               0| 1641098776|         null|         null|     0|hqwcdea|t3_rtpxhe|t1_hqvp8no|  1645567207|    5|   false|worldnews|    t5_2qh13|\n",
      "|       FriesWithThat|                  null|             null|^(*Russia agrees ...|               0| 1641098781|         null|         null|     0|hqwcdox|t3_rtv67k|t1_hqvpon1|  1645567206|    8|   false|worldnews|    t5_2qh13|\n",
      "|          DNRreturns|                  null|             null|Question: why wou...|               0| 1641098783|         null|         null|     0|hqwcduj|t3_rtpxhe| t3_rtpxhe|  1645567206|    3|   false|worldnews|    t5_2qh13|\n",
      "|           [deleted]|                  null|             null|           [deleted]|               0| 1641098784|         null|         null|     0|hqwcdyc|t3_rtv67k| t3_rtv67k|  1645567205|  -21|   false|worldnews|    t5_2qh13|\n",
      "|           [deleted]|                  null|             null|           [deleted]|               0| 1641098784|         null|1.641394008E9|     0|hqwcdyz|t3_rtxhmx| t3_rtxhmx|  1645567205|  498|   false|worldnews|    t5_2qh13|\n",
      "|    PalmTreeDeprived|                  null|             null|The article says ...|               0| 1641098786|         null|         null|     0|hqwce35|t3_ru1g1a|t1_hqwby7w|  1645567205|   12|   false|worldnews|    t5_2qh13|\n",
      "|  Thick_Aardvark3185|                  null|             null|You can't do busi...|               0| 1641098788|         null|         null|     0|hqwce7j|t3_rtjz5f|t1_hqw6zg1|  1645567205|    1|   false|worldnews|    t5_2qh13|\n",
      "|       PenguinSunday|                  null|             null|Detroit begs to d...|               0| 1641098789|         null|         null|     0|hqwce9n|t3_rtpxhe|t1_hqwbe2w|  1645567205|    2|   false|worldnews|    t5_2qh13|\n",
      "|        happyscrappy|                  null|             null|Air to air heat p...|               0| 1641098789|         null|         null|     0|hqwcea0|t3_rtv67k|t1_hqvykpi|  1645567205|   14|   false|worldnews|    t5_2qh13|\n",
      "|     JustMotorcycles|                  null|             null|Russia is a POS c...|               0| 1641098789|         null|         null|     0|hqwcea3|t3_rtjz5f| t3_rtjz5f|  1645567205|    2|   false|worldnews|    t5_2qh13|\n",
      "|           [deleted]|                  null|             null|           [removed]|               0| 1641098794|         null|         null|     0|hqwcem4|t3_rtpxhe|t1_hqw8cxw|  1645567205|    1|   false|worldnews|    t5_2qh13|\n",
      "| RightClickSaveWorld|                  null|             null|It's amazing how ...|               0| 1641098798|         null|         null|     0|hqwcex3|t3_rtlffl|t1_hqw934d|  1645567205|    2|   false|worldnews|    t5_2qh13|\n",
      "+--------------------+----------------------+-----------------+--------------------+----------------+-----------+-------------+-------------+------+-------+---------+----------+------------+-----+--------+---------+------------+\n",
      "only showing top 20 rows\n",
      "\n",
      "CPU times: user 5.87 ms, sys: 0 ns, total: 5.87 ms\n",
      "Wall time: 12 s\n"
     ]
    },
    {
     "name": "stderr",
     "output_type": "stream",
     "text": [
      "                                                                                \r"
     ]
    }
   ],
   "source": [
    "%%time\n",
    "sql_str=f\"select * from comments where subreddit='{subreddit}'\"\n",
    "comments_filtered = spark.sql(sql_str)\n",
    "comments_filtered.show()\n"
   ]
  },
  {
   "cell_type": "markdown",
   "id": "817e99ba-090d-40f9-a634-e2fc1f0ef33c",
   "metadata": {},
   "source": [
    "## Save the dataset to your own S3 bucket"
   ]
  },
  {
   "cell_type": "code",
   "execution_count": 14,
   "id": "6dba2aea-c115-4a92-8cce-98e9fa99bfc6",
   "metadata": {},
   "outputs": [],
   "source": [
    "target_bucket = \"ss4608-ppol-567\""
   ]
  },
  {
   "cell_type": "code",
   "execution_count": 15,
   "id": "ddcb9755-5fb8-48e2-82e2-4f889dd2684f",
   "metadata": {},
   "outputs": [
    {
     "name": "stderr",
     "output_type": "stream",
     "text": [
      "                                                                                \r"
     ]
    },
    {
     "name": "stdout",
     "output_type": "stream",
     "text": [
      "CPU times: user 1.6 s, sys: 323 ms, total: 1.92 s\n",
      "Wall time: 23min 54s\n"
     ]
    }
   ],
   "source": [
    "%%time\n",
    "comments_filtered.write.mode(\"overwrite\").parquet(f\"s3a://{target_bucket}/{subreddit}/comments\")"
   ]
  },
  {
   "cell_type": "code",
   "execution_count": 16,
   "id": "094e9938-e469-4bfc-86d3-7e453718646f",
   "metadata": {
    "tags": []
   },
   "outputs": [
    {
     "name": "stderr",
     "output_type": "stream",
     "text": [
      "                                                                                \r"
     ]
    },
    {
     "name": "stdout",
     "output_type": "stream",
     "text": [
      "CPU times: user 160 ms, sys: 27.2 ms, total: 187 ms\n",
      "Wall time: 2min 29s\n"
     ]
    }
   ],
   "source": [
    "%%time\n",
    "submissions_filtered.write.mode(\"overwrite\").parquet(f\"s3a://{target_bucket}/{subreddit}/submissions\")"
   ]
  },
  {
   "cell_type": "markdown",
   "id": "e2463ce4-6530-4670-8da2-2743d7037039",
   "metadata": {},
   "source": [
    "#### Confirm that we can read what we just wrote"
   ]
  },
  {
   "cell_type": "code",
   "execution_count": 17,
   "id": "07ba1f33-3a3b-452d-a373-8fd260595ddf",
   "metadata": {
    "tags": []
   },
   "outputs": [
    {
     "name": "stderr",
     "output_type": "stream",
     "text": [
      "[Stage 31:>                                                         (0 + 1) / 1]\r"
     ]
    },
    {
     "name": "stdout",
     "output_type": "stream",
     "text": [
      "+------------------+----------------------+-----------------+-----------+-------------+--------------------+------+------+-------+------+------------+-------+----------+------------+-----+---------+--------+---------+------------+--------------------+--------------------+\n",
      "|            author|author_flair_css_class|author_flair_text|created_utc|distinguished|              domain|edited|    id|is_self|locked|num_comments|over_18|quarantine|retrieved_on|score| selftext|stickied|subreddit|subreddit_id|               title|                 url|\n",
      "+------------------+----------------------+-----------------+-----------+-------------+--------------------+------+------+-------+------+------------+-------+----------+------------+-----+---------+--------+---------+------------+--------------------+--------------------+\n",
      "|         Individ27|                  null|             null| 1645942501|         null|         twitter.com|  null|t2ho9l|  false| false|           1|  false|     false|  1654093542|    1|         |   false|worldnews|    t5_2qh13|Ukrainian ambassa...|https://twitter.c...|\n",
      "|         [deleted]|                  null|             null| 1645942591|         null|      self.worldnews|  null|t2hp4s|   true| false|           2|  false|     false|  1654093540|    0|[removed]|   false|worldnews|    t5_2qh13|   [deleted by user]|https://www.reddi...|\n",
      "|          stockmon|                  null|             null| 1645942691|         null|    amp.9news.com.au|  null|t2hq2d|  false| false|          17|  false|     false|  1654093539|  334|         |   false|worldnews|    t5_2qh13|Australia will no...|https://amp.9news...|\n",
      "|       GeekySuneet|                  null|             null| 1645942715|         null|bharat-swabhiman.com|  null|t2hqb8|  false| false|           1|  false|     false|  1654093539|    1|         |   false|worldnews|    t5_2qh13|Tit-For-Tat Cyber...|https://bharat-sw...|\n",
      "|       GeekySuneet|                  null|             null| 1645942751|         null|bharat-swabhiman.com|  null|t2hqne|  false| false|           1|  false|     false|  1654093538|    1|         |   false|worldnews|    t5_2qh13|Tit-For-Tat Cyber...|https://bharat-sw...|\n",
      "|     BagelzOfDeath|                  null|             null| 1645942839|         null|             npr.org|  null|t2hrji|  false| false|          53|  false|     false|  1654093537|   75|         |   false|worldnews|    t5_2qh13|In phone call, Ch...|https://www.npr.o...|\n",
      "|         [deleted]|                  null|             null| 1645942993|         null|      self.worldnews|  null|t2hszg|   true| false|           0|  false|     false|  1654093534|    1|[removed]|   false|worldnews|    t5_2qh13|   [deleted by user]|https://www.reddi...|\n",
      "|         xsader_4C|                  null|             null| 1645943028|         null|       notthebee.com|  null|t2htat|  false| false|           1|  false|     false|  1654093533|    1|         |   false|worldnews|    t5_2qh13|Elon Musk, urged ...|https://notthebee...|\n",
      "|     Donkey__Balls|                  null|             null| 1645943054|         null|            tass.com|  null|t2htiu|  false| false|           0|  false|     false|  1654093533|    1|         |   false|worldnews|    t5_2qh13|Russian foreign m...|https://tass.com/...|\n",
      "|maniacalmanicmania|                  null|             null| 1645943110|         null|    greenleft.org.au|  null|t2hu20|  false| false|           2|  false|     false|  1654093532|   47|         |   false|worldnews|    t5_2qh13|NSW gov’t attempt...|https://www.green...|\n",
      "|         [deleted]|                  null|             null| 1645943298|         null|      self.worldnews|  null|t2hvt9|   true| false|           0|  false|     false|  1654093529|    1|[removed]|   false|worldnews|    t5_2qh13|   [deleted by user]|https://www.reddi...|\n",
      "|         [deleted]|                  null|             null| 1645943329|         null|      self.worldnews|  null|t2hw2q|   true| false|           0|  false|     false|  1654093529|    1|[removed]|   false|worldnews|    t5_2qh13|   [deleted by user]|https://www.reddi...|\n",
      "|  WhiskeyGentleman|                  null|             null| 1645943379|         null|         reuters.com|  null|t2hwig|  false| false|          13|  false|     false|  1654093528|   42|         |   false|worldnews|    t5_2qh13|Russian troops en...|https://www.reute...|\n",
      "|     admirablegoma|                  null|             null| 1645943395|         null|   timesofisrael.com|  null|t2hwnt|  false| false|          95|  false|     false|  1654093528|  216|         |   false|worldnews|    t5_2qh13|Russian troops re...|https://www.times...|\n",
      "|       thinkration|                  null|             null| 1645943441|         null|     theguardian.com|  null|t2hx5t|  false| false|          18|  false|     false|  1654093527|  154|         |   false|worldnews|    t5_2qh13|Australia to prov...|https://www.thegu...|\n",
      "|   No-Schedule5301|                  null|             null| 1645943473|         null|       ukrinform.net|  null|t2hxgm|  false| false|         189|  false|     false|  1654093526| 2440|         |   false|worldnews|    t5_2qh13|Russian invasion ...|https://www.ukrin...|\n",
      "|       shanemarsio|                  null|             null| 1645943475|         null|            ndtv.com|  null|t2hxh8|  false| false|           8|  false|     false|  1654093526|   92|         |   false|worldnews|    t5_2qh13|Amid Ukraine Cris...|https://www.ndtv....|\n",
      "|      Natutosenpai|                  null|             null| 1645943702|         null|             msn.com|  null|t2hzk3|  false| false|           0|  false|     false|  1654093523|    1|         |   false|worldnews|    t5_2qh13|Ukraine bans all ...|https://www.msn.c...|\n",
      "|         [deleted]|                  null|             null| 1645943738|         null|      self.worldnews|  null|t2hzw3|   true| false|           1|  false|     false|  1654093522|    1|[removed]|   false|worldnews|    t5_2qh13|   [deleted by user]|https://www.reddi...|\n",
      "|         [deleted]|                  null|             null| 1645943776|         null|      self.worldnews|  null|t2i08e|   true| false|           0|  false|     false|  1654093520|    1|[removed]|   false|worldnews|    t5_2qh13|   [deleted by user]|https://www.reddi...|\n",
      "+------------------+----------------------+-----------------+-----------+-------------+--------------------+------+------+-------+------+------------+-------+----------+------------+-----+---------+--------+---------+------------+--------------------+--------------------+\n",
      "only showing top 20 rows\n",
      "\n",
      "CPU times: user 7.29 ms, sys: 446 µs, total: 7.74 ms\n",
      "Wall time: 9.77 s\n"
     ]
    },
    {
     "name": "stderr",
     "output_type": "stream",
     "text": [
      "                                                                                \r"
     ]
    }
   ],
   "source": [
    "%%time\n",
    "submissions = spark.read.parquet(\n",
    "    f\"s3a://{target_bucket}/{subreddit}/submissions\",\n",
    "    header=True\n",
    ")\n",
    "submissions.show()"
   ]
  },
  {
   "cell_type": "code",
   "execution_count": 22,
   "id": "197d4d29-1755-4d78-8cac-10664dae2a7b",
   "metadata": {
    "tags": []
   },
   "outputs": [
    {
     "name": "stderr",
     "output_type": "stream",
     "text": [
      "[Stage 44:=====================================================>  (38 + 2) / 40]\r"
     ]
    },
    {
     "name": "stdout",
     "output_type": "stream",
     "text": [
      "CPU times: user 4.16 ms, sys: 3.11 ms, total: 7.27 ms\n",
      "Wall time: 3.07 s\n"
     ]
    },
    {
     "name": "stderr",
     "output_type": "stream",
     "text": [
      "                                                                                \r"
     ]
    },
    {
     "data": {
      "text/plain": [
       "170144"
      ]
     },
     "execution_count": 22,
     "metadata": {},
     "output_type": "execute_result"
    }
   ],
   "source": [
    "%%time\n",
    "submissions.count()"
   ]
  },
  {
   "cell_type": "code",
   "execution_count": 20,
   "id": "c8f53e34-7bff-4791-b8a9-2a53ff79acd8",
   "metadata": {
    "tags": []
   },
   "outputs": [
    {
     "name": "stdout",
     "output_type": "stream",
     "text": [
      "+-------------------+----------------------+-----------------+--------------------+----------------+-----------+-------------+------+------+-------+---------+----------+------------+-----+--------+----------+------------+\n",
      "|             author|author_flair_css_class|author_flair_text|                body|controversiality|created_utc|distinguished|edited|gilded|     id|  link_id| parent_id|retrieved_on|score|stickied| subreddit|subreddit_id|\n",
      "+-------------------+----------------------+-----------------+--------------------+----------------+-----------+-------------+------+------+-------+---------+----------+------------+-----+--------+----------+------------+\n",
      "|  a_simple_creature|                  null|             null|He wouldn’t be el...|               0| 1650888877|         null|  null|     0|i64d10c|t3_ub4gtq|t1_i63c4et|  1655550748|    1|   false|technology|    t5_2qh16|\n",
      "|          cutestain|                  null|             null|I don't know. I w...|               0| 1650888880|         null|  null|     0|i64d162|t3_ubh8ww|t1_i6425ht|  1655550748|    1|   false|technology|    t5_2qh16|\n",
      "|          [deleted]|                  null|             null|   I agree with this|               0| 1650888881|         null|  null|     0|i64d18c|t3_ubj2pg|t1_i64bqad|  1655550748|    2|   false|technology|    t5_2qh16|\n",
      "|      JukeboxpunkOi|                  null|             null|Time to oust Netf...|               0| 1650888882|         null|  null|     0|i64d1au|t3_ubh8ww| t3_ubh8ww|  1655550748|    1|   false|technology|    t5_2qh16|\n",
      "|          Akabander|                  null|             null|Username checks out.|               1| 1650888882|         null|  null|     0|i64d1bm|t3_ubh8ww|t1_i647dv4|  1655550748|    1|   false|technology|    t5_2qh16|\n",
      "|             kautau|                  null|             null|Wat\n",
      "\n",
      "https://www....|               0| 1650888894|         null|  null|     0|i64d21t|t3_ub4gtq|t1_i64cv9o|  1655550748|    1|   false|technology|    t5_2qh16|\n",
      "|              ADHDK|                  null|             null|Take satisfaction...|               0| 1650888897|         null|  null|     0|i64d28v|t3_ubbqzx|t1_i640hqx|  1655550748|   64|   false|technology|    t5_2qh16|\n",
      "|         iamgeekusa|                  null|             null|Flee?  Run for yo...|               0| 1650888901|         null|  null|     0|i64d2ik|t3_ubicmp| t3_ubicmp|  1655550747|    6|   false|technology|    t5_2qh16|\n",
      "|PartyAllTheTime3113|                  null|             null|Hit the nail on t...|               0| 1650888904|         null|  null|     0|i64d2ot|t3_ubh8ww|t1_i645uwx|  1655550747|   24|   false|technology|    t5_2qh16|\n",
      "|             Omny87|                  null|             null|The main reason p...|               0| 1650888904|         null|  null|     0|i64d2pc|t3_ubbqzx|t1_i639h80|  1655550747|    1|   false|technology|    t5_2qh16|\n",
      "|       hot4belgians|                  null|             null|ISPs track you do...|               0| 1650888906|         null|  null|     0|i64d2v0|t3_ubbqzx|t1_i6386rj|  1655550747|    1|   false|technology|    t5_2qh16|\n",
      "|          [deleted]|                  null|             null|           [deleted]|               0| 1650888909|         null|  null|     0|i64d31v|t3_ubbqzx|t1_i64b1im|  1655550747|    1|   false|technology|    t5_2qh16|\n",
      "|     AppleNerdyGirl|                  null|             null|The best part is ...|               0| 1650888914|         null|  null|     0|i64d3de|t3_ubj41r| t3_ubj41r|  1655550747|   12|   false|technology|    t5_2qh16|\n",
      "|          [deleted]|                  null|             null|           [deleted]|               0| 1650888918|         null|  null|     0|i64d3o0|t3_ub4gtq| t3_ub4gtq|  1655550747|    0|   false|technology|    t5_2qh16|\n",
      "|       sweetfeet009|                  null|             null|Because right win...|               0| 1650888927|         null|  null|     0|i64d47k|t3_ubj2pg|t1_i64c6fm|  1655550747|    4|   false|technology|    t5_2qh16|\n",
      "|          [deleted]|                  null|             null|           [removed]|               0| 1650888928|         null|  null|     0|i64d4am|t3_ubbqzx|t1_i63udxv|  1655550746|    1|   false|technology|    t5_2qh16|\n",
      "|          [deleted]|                  null|             null|           [removed]|               1| 1650888930|         null|  null|     0|i64d4e6|t3_ubj2pg|t1_i649cof|  1655550746|   -7|   false|technology|    t5_2qh16|\n",
      "|       reddy-or-not|                  null|             null|(Still to sounds ...|               0| 1650888938|         null|  null|     0|i64d4wo|t3_ubh8ww|t1_i6435q2|  1655550746|    4|   false|technology|    t5_2qh16|\n",
      "|          [deleted]|                  null|             null|           [deleted]|               0| 1650888938|         null|  null|     0|i64d4xu|t3_ub4gtq|t1_i630cxv|  1655550746|    1|   false|technology|    t5_2qh16|\n",
      "|        QuitClearly|                  null|             null|What are you on a...|               1| 1650888939|         null|  null|     0|i64d501|t3_ubh8ww|t1_i646bzx|  1655550746|    0|   false|technology|    t5_2qh16|\n",
      "+-------------------+----------------------+-----------------+--------------------+----------------+-----------+-------------+------+------+-------+---------+----------+------------+-----+--------+----------+------------+\n",
      "only showing top 20 rows\n",
      "\n",
      "CPU times: user 0 ns, sys: 4.36 ms, total: 4.36 ms\n",
      "Wall time: 1.28 s\n"
     ]
    }
   ],
   "source": [
    "%%time\n",
    "comments = spark.read.parquet(\n",
    "    f\"s3a://{target_bucket}/{subreddit}/comments\",\n",
    "    header=True\n",
    ")\n",
    "comments.show()"
   ]
  },
  {
   "cell_type": "code",
   "execution_count": 18,
   "id": "4176a9fd-2daf-4102-9e45-107ddcc07c22",
   "metadata": {
    "tags": []
   },
   "outputs": [
    {
     "name": "stdout",
     "output_type": "stream",
     "text": [
      "CPU times: user 3 µs, sys: 0 ns, total: 3 µs\n",
      "Wall time: 5.96 µs\n"
     ]
    },
    {
     "name": "stderr",
     "output_type": "stream",
     "text": [
      "                                                                                \r"
     ]
    },
    {
     "data": {
      "text/plain": [
       "3076907105"
      ]
     },
     "execution_count": 18,
     "metadata": {},
     "output_type": "execute_result"
    }
   ],
   "source": [
    "%time\n",
    "comments.count()"
   ]
  },
  {
   "cell_type": "code",
   "execution_count": null,
   "id": "a5703570-5a1c-49b9-a083-86c1cf2ccb0b",
   "metadata": {},
   "outputs": [],
   "source": []
  },
  {
   "cell_type": "code",
   "execution_count": null,
   "id": "60763245-81c3-48d7-8e31-b5628719c628",
   "metadata": {},
   "outputs": [],
   "source": []
  }
 ],
 "metadata": {
  "availableInstances": [
   {
    "_defaultOrder": 0,
    "_isFastLaunch": true,
    "category": "General purpose",
    "gpuNum": 0,
    "memoryGiB": 4,
    "name": "ml.t3.medium",
    "vcpuNum": 2
   },
   {
    "_defaultOrder": 1,
    "_isFastLaunch": false,
    "category": "General purpose",
    "gpuNum": 0,
    "memoryGiB": 8,
    "name": "ml.t3.large",
    "vcpuNum": 2
   },
   {
    "_defaultOrder": 2,
    "_isFastLaunch": false,
    "category": "General purpose",
    "gpuNum": 0,
    "memoryGiB": 16,
    "name": "ml.t3.xlarge",
    "vcpuNum": 4
   },
   {
    "_defaultOrder": 3,
    "_isFastLaunch": false,
    "category": "General purpose",
    "gpuNum": 0,
    "memoryGiB": 32,
    "name": "ml.t3.2xlarge",
    "vcpuNum": 8
   },
   {
    "_defaultOrder": 4,
    "_isFastLaunch": true,
    "category": "General purpose",
    "gpuNum": 0,
    "memoryGiB": 8,
    "name": "ml.m5.large",
    "vcpuNum": 2
   },
   {
    "_defaultOrder": 5,
    "_isFastLaunch": false,
    "category": "General purpose",
    "gpuNum": 0,
    "memoryGiB": 16,
    "name": "ml.m5.xlarge",
    "vcpuNum": 4
   },
   {
    "_defaultOrder": 6,
    "_isFastLaunch": false,
    "category": "General purpose",
    "gpuNum": 0,
    "memoryGiB": 32,
    "name": "ml.m5.2xlarge",
    "vcpuNum": 8
   },
   {
    "_defaultOrder": 7,
    "_isFastLaunch": false,
    "category": "General purpose",
    "gpuNum": 0,
    "memoryGiB": 64,
    "name": "ml.m5.4xlarge",
    "vcpuNum": 16
   },
   {
    "_defaultOrder": 8,
    "_isFastLaunch": false,
    "category": "General purpose",
    "gpuNum": 0,
    "memoryGiB": 128,
    "name": "ml.m5.8xlarge",
    "vcpuNum": 32
   },
   {
    "_defaultOrder": 9,
    "_isFastLaunch": false,
    "category": "General purpose",
    "gpuNum": 0,
    "memoryGiB": 192,
    "name": "ml.m5.12xlarge",
    "vcpuNum": 48
   },
   {
    "_defaultOrder": 10,
    "_isFastLaunch": false,
    "category": "General purpose",
    "gpuNum": 0,
    "memoryGiB": 256,
    "name": "ml.m5.16xlarge",
    "vcpuNum": 64
   },
   {
    "_defaultOrder": 11,
    "_isFastLaunch": false,
    "category": "General purpose",
    "gpuNum": 0,
    "memoryGiB": 384,
    "name": "ml.m5.24xlarge",
    "vcpuNum": 96
   },
   {
    "_defaultOrder": 12,
    "_isFastLaunch": false,
    "category": "General purpose",
    "gpuNum": 0,
    "memoryGiB": 8,
    "name": "ml.m5d.large",
    "vcpuNum": 2
   },
   {
    "_defaultOrder": 13,
    "_isFastLaunch": false,
    "category": "General purpose",
    "gpuNum": 0,
    "memoryGiB": 16,
    "name": "ml.m5d.xlarge",
    "vcpuNum": 4
   },
   {
    "_defaultOrder": 14,
    "_isFastLaunch": false,
    "category": "General purpose",
    "gpuNum": 0,
    "memoryGiB": 32,
    "name": "ml.m5d.2xlarge",
    "vcpuNum": 8
   },
   {
    "_defaultOrder": 15,
    "_isFastLaunch": false,
    "category": "General purpose",
    "gpuNum": 0,
    "memoryGiB": 64,
    "name": "ml.m5d.4xlarge",
    "vcpuNum": 16
   },
   {
    "_defaultOrder": 16,
    "_isFastLaunch": false,
    "category": "General purpose",
    "gpuNum": 0,
    "memoryGiB": 128,
    "name": "ml.m5d.8xlarge",
    "vcpuNum": 32
   },
   {
    "_defaultOrder": 17,
    "_isFastLaunch": false,
    "category": "General purpose",
    "gpuNum": 0,
    "memoryGiB": 192,
    "name": "ml.m5d.12xlarge",
    "vcpuNum": 48
   },
   {
    "_defaultOrder": 18,
    "_isFastLaunch": false,
    "category": "General purpose",
    "gpuNum": 0,
    "memoryGiB": 256,
    "name": "ml.m5d.16xlarge",
    "vcpuNum": 64
   },
   {
    "_defaultOrder": 19,
    "_isFastLaunch": false,
    "category": "General purpose",
    "gpuNum": 0,
    "memoryGiB": 384,
    "name": "ml.m5d.24xlarge",
    "vcpuNum": 96
   },
   {
    "_defaultOrder": 20,
    "_isFastLaunch": true,
    "category": "Compute optimized",
    "gpuNum": 0,
    "memoryGiB": 4,
    "name": "ml.c5.large",
    "vcpuNum": 2
   },
   {
    "_defaultOrder": 21,
    "_isFastLaunch": false,
    "category": "Compute optimized",
    "gpuNum": 0,
    "memoryGiB": 8,
    "name": "ml.c5.xlarge",
    "vcpuNum": 4
   },
   {
    "_defaultOrder": 22,
    "_isFastLaunch": false,
    "category": "Compute optimized",
    "gpuNum": 0,
    "memoryGiB": 16,
    "name": "ml.c5.2xlarge",
    "vcpuNum": 8
   },
   {
    "_defaultOrder": 23,
    "_isFastLaunch": false,
    "category": "Compute optimized",
    "gpuNum": 0,
    "memoryGiB": 32,
    "name": "ml.c5.4xlarge",
    "vcpuNum": 16
   },
   {
    "_defaultOrder": 24,
    "_isFastLaunch": false,
    "category": "Compute optimized",
    "gpuNum": 0,
    "memoryGiB": 72,
    "name": "ml.c5.9xlarge",
    "vcpuNum": 36
   },
   {
    "_defaultOrder": 25,
    "_isFastLaunch": false,
    "category": "Compute optimized",
    "gpuNum": 0,
    "memoryGiB": 96,
    "name": "ml.c5.12xlarge",
    "vcpuNum": 48
   },
   {
    "_defaultOrder": 26,
    "_isFastLaunch": false,
    "category": "Compute optimized",
    "gpuNum": 0,
    "memoryGiB": 144,
    "name": "ml.c5.18xlarge",
    "vcpuNum": 72
   },
   {
    "_defaultOrder": 27,
    "_isFastLaunch": false,
    "category": "Compute optimized",
    "gpuNum": 0,
    "memoryGiB": 192,
    "name": "ml.c5.24xlarge",
    "vcpuNum": 96
   },
   {
    "_defaultOrder": 28,
    "_isFastLaunch": true,
    "category": "Accelerated computing",
    "gpuNum": 1,
    "memoryGiB": 16,
    "name": "ml.g4dn.xlarge",
    "vcpuNum": 4
   },
   {
    "_defaultOrder": 29,
    "_isFastLaunch": false,
    "category": "Accelerated computing",
    "gpuNum": 1,
    "memoryGiB": 32,
    "name": "ml.g4dn.2xlarge",
    "vcpuNum": 8
   },
   {
    "_defaultOrder": 30,
    "_isFastLaunch": false,
    "category": "Accelerated computing",
    "gpuNum": 1,
    "memoryGiB": 64,
    "name": "ml.g4dn.4xlarge",
    "vcpuNum": 16
   },
   {
    "_defaultOrder": 31,
    "_isFastLaunch": false,
    "category": "Accelerated computing",
    "gpuNum": 1,
    "memoryGiB": 128,
    "name": "ml.g4dn.8xlarge",
    "vcpuNum": 32
   },
   {
    "_defaultOrder": 32,
    "_isFastLaunch": false,
    "category": "Accelerated computing",
    "gpuNum": 4,
    "memoryGiB": 192,
    "name": "ml.g4dn.12xlarge",
    "vcpuNum": 48
   },
   {
    "_defaultOrder": 33,
    "_isFastLaunch": false,
    "category": "Accelerated computing",
    "gpuNum": 1,
    "memoryGiB": 256,
    "name": "ml.g4dn.16xlarge",
    "vcpuNum": 64
   },
   {
    "_defaultOrder": 34,
    "_isFastLaunch": false,
    "category": "Accelerated computing",
    "gpuNum": 1,
    "memoryGiB": 61,
    "name": "ml.p3.2xlarge",
    "vcpuNum": 8
   },
   {
    "_defaultOrder": 35,
    "_isFastLaunch": false,
    "category": "Accelerated computing",
    "gpuNum": 4,
    "memoryGiB": 244,
    "name": "ml.p3.8xlarge",
    "vcpuNum": 32
   },
   {
    "_defaultOrder": 36,
    "_isFastLaunch": false,
    "category": "Accelerated computing",
    "gpuNum": 8,
    "memoryGiB": 488,
    "name": "ml.p3.16xlarge",
    "vcpuNum": 64
   },
   {
    "_defaultOrder": 37,
    "_isFastLaunch": false,
    "category": "Accelerated computing",
    "gpuNum": 8,
    "memoryGiB": 768,
    "name": "ml.p3dn.24xlarge",
    "vcpuNum": 96
   },
   {
    "_defaultOrder": 38,
    "_isFastLaunch": false,
    "category": "Memory Optimized",
    "gpuNum": 0,
    "memoryGiB": 16,
    "name": "ml.r5.large",
    "vcpuNum": 2
   },
   {
    "_defaultOrder": 39,
    "_isFastLaunch": false,
    "category": "Memory Optimized",
    "gpuNum": 0,
    "memoryGiB": 32,
    "name": "ml.r5.xlarge",
    "vcpuNum": 4
   },
   {
    "_defaultOrder": 40,
    "_isFastLaunch": false,
    "category": "Memory Optimized",
    "gpuNum": 0,
    "memoryGiB": 64,
    "name": "ml.r5.2xlarge",
    "vcpuNum": 8
   },
   {
    "_defaultOrder": 41,
    "_isFastLaunch": false,
    "category": "Memory Optimized",
    "gpuNum": 0,
    "memoryGiB": 128,
    "name": "ml.r5.4xlarge",
    "vcpuNum": 16
   },
   {
    "_defaultOrder": 42,
    "_isFastLaunch": false,
    "category": "Memory Optimized",
    "gpuNum": 0,
    "memoryGiB": 256,
    "name": "ml.r5.8xlarge",
    "vcpuNum": 32
   },
   {
    "_defaultOrder": 43,
    "_isFastLaunch": false,
    "category": "Memory Optimized",
    "gpuNum": 0,
    "memoryGiB": 384,
    "name": "ml.r5.12xlarge",
    "vcpuNum": 48
   },
   {
    "_defaultOrder": 44,
    "_isFastLaunch": false,
    "category": "Memory Optimized",
    "gpuNum": 0,
    "memoryGiB": 512,
    "name": "ml.r5.16xlarge",
    "vcpuNum": 64
   },
   {
    "_defaultOrder": 45,
    "_isFastLaunch": false,
    "category": "Memory Optimized",
    "gpuNum": 0,
    "memoryGiB": 768,
    "name": "ml.r5.24xlarge",
    "vcpuNum": 96
   },
   {
    "_defaultOrder": 46,
    "_isFastLaunch": false,
    "category": "Accelerated computing",
    "gpuNum": 1,
    "memoryGiB": 16,
    "name": "ml.g5.xlarge",
    "vcpuNum": 4
   },
   {
    "_defaultOrder": 47,
    "_isFastLaunch": false,
    "category": "Accelerated computing",
    "gpuNum": 1,
    "memoryGiB": 32,
    "name": "ml.g5.2xlarge",
    "vcpuNum": 8
   },
   {
    "_defaultOrder": 48,
    "_isFastLaunch": false,
    "category": "Accelerated computing",
    "gpuNum": 1,
    "memoryGiB": 64,
    "name": "ml.g5.4xlarge",
    "vcpuNum": 16
   },
   {
    "_defaultOrder": 49,
    "_isFastLaunch": false,
    "category": "Accelerated computing",
    "gpuNum": 1,
    "memoryGiB": 128,
    "name": "ml.g5.8xlarge",
    "vcpuNum": 32
   },
   {
    "_defaultOrder": 50,
    "_isFastLaunch": false,
    "category": "Accelerated computing",
    "gpuNum": 1,
    "memoryGiB": 256,
    "name": "ml.g5.16xlarge",
    "vcpuNum": 64
   },
   {
    "_defaultOrder": 51,
    "_isFastLaunch": false,
    "category": "Accelerated computing",
    "gpuNum": 4,
    "memoryGiB": 192,
    "name": "ml.g5.12xlarge",
    "vcpuNum": 48
   },
   {
    "_defaultOrder": 52,
    "_isFastLaunch": false,
    "category": "Accelerated computing",
    "gpuNum": 4,
    "memoryGiB": 384,
    "name": "ml.g5.24xlarge",
    "vcpuNum": 96
   },
   {
    "_defaultOrder": 53,
    "_isFastLaunch": false,
    "category": "Accelerated computing",
    "gpuNum": 8,
    "memoryGiB": 768,
    "name": "ml.g5.48xlarge",
    "vcpuNum": 192
   }
  ],
  "instance_type": "ml.t3.2xlarge",
  "kernelspec": {
   "display_name": "Python 3 (ipykernel)",
   "language": "python",
   "name": "python3"
  },
  "language_info": {
   "codemirror_mode": {
    "name": "ipython",
    "version": 3
   },
   "file_extension": ".py",
   "mimetype": "text/x-python",
   "name": "python",
   "nbconvert_exporter": "python",
   "pygments_lexer": "ipython3",
   "version": "3.7.11"
  }
 },
 "nbformat": 4,
 "nbformat_minor": 5
}
