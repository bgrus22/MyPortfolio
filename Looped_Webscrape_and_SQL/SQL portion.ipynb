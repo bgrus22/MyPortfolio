{
 "cells": [
  {
   "cell_type": "code",
   "execution_count": null,
   "metadata": {},
   "outputs": [],
   "source": [
    "import pandas as pd\n",
    "import sqlite3 as sql"
   ]
  },
  {
   "cell_type": "code",
   "execution_count": null,
   "metadata": {},
   "outputs": [],
   "source": [
    "conncatdf = pd.read_csv('conncatdf.csv')\n",
    "bitsdf = pd.read_csv('bitsdf.csv')"
   ]
  },
  {
   "cell_type": "code",
   "execution_count": null,
   "metadata": {},
   "outputs": [],
   "source": [
    "# had to delete original sqlite database due to errors and no can not load in proper data due to scraping issue \n",
    "\n",
    "\n",
    "# To create a new SQLITE database, just connect to a file that doesn't exist yet. \n",
    "# When you do this, sqlite3 will see that you there is no db and will create one instead \n",
    "conn = sql.connect('BIT.sqlite')\n",
    "c = conn.cursor()\n",
    "\n",
    "## upload df data to sql db as follows:\n",
    "# First argument is the table name, second is the db connection object\n",
    "# substitute df with the name of the dataframe made above\n",
    "conncatdf.to_sql(\"countries_table\",conn)\n",
    "bitsdf.to_sql(\"Bits_table\",conn)\n",
    "\n",
    "# Now we can access the data as we normally do\n",
    "#pd.read_sql(\"select * from bits_table\",conn)"
   ]
  }
 ],
 "metadata": {
  "language_info": {
   "name": "python"
  },
  "orig_nbformat": 4
 },
 "nbformat": 4,
 "nbformat_minor": 2
}
