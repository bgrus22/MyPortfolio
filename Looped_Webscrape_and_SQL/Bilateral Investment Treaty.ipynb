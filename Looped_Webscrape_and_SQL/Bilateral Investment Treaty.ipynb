{
 "cells": [
  {
   "cell_type": "code",
   "execution_count": 22,
   "metadata": {},
   "outputs": [],
   "source": [
    "import requests\n",
    "import lxml\n",
    "import html5lib\n",
    "from bs4 import BeautifulSoup\n",
    "import pandas as pd\n",
    "import sqlite3 as sql\n",
    "from time import sleep\n",
    "from random import random"
   ]
  },
  {
   "cell_type": "markdown",
   "metadata": {},
   "source": [
    "### get country names"
   ]
  },
  {
   "cell_type": "code",
   "execution_count": 8,
   "metadata": {},
   "outputs": [],
   "source": [
    "#generate country list that could be used to perform a join to clean up UN membership\n",
    "URL = \"https://www.un.org/about-us/member-states\"\n",
    "result = requests.get(URL)\n",
    "src = result.content\n",
    "soup = BeautifulSoup(src)\n",
    "\n",
    "\n",
    "#list of UN country names, some people recommend using wikipedia instead? \n",
    "countries = soup.find_all(class_=\"mb-0\")\n",
    "\n",
    "# countries is a list of html elements, h2, that contain country names as txt"
   ]
  },
  {
   "cell_type": "code",
   "execution_count": 9,
   "metadata": {},
   "outputs": [],
   "source": [
    "ctnames = []\n",
    "# drill the html in the soup list countries\n",
    "for x in countries:\n",
    "    ctnames.append(x.text)"
   ]
  },
  {
   "cell_type": "markdown",
   "metadata": {},
   "source": [
    "### 1.1"
   ]
  },
  {
   "cell_type": "code",
   "execution_count": 10,
   "metadata": {},
   "outputs": [],
   "source": [
    "#see below notations to understand each line actually means since these \n",
    "# two were formed later than the below what is operating here\n",
    "URL = \"https://investmentpolicy.unctad.org/international-investment-agreements/by-economy\"\n",
    "# make the htpps request\n",
    "result = requests.get(URL)\n",
    "# removes the meta data and makes a block\n",
    "src = result.content\n",
    "# formats the block\n",
    "soup = BeautifulSoup(src)"
   ]
  },
  {
   "cell_type": "code",
   "execution_count": 11,
   "metadata": {},
   "outputs": [
    {
     "data": {
      "text/html": [
       "<div>\n",
       "<style scoped>\n",
       "    .dataframe tbody tr th:only-of-type {\n",
       "        vertical-align: middle;\n",
       "    }\n",
       "\n",
       "    .dataframe tbody tr th {\n",
       "        vertical-align: top;\n",
       "    }\n",
       "\n",
       "    .dataframe thead th {\n",
       "        text-align: right;\n",
       "    }\n",
       "</style>\n",
       "<table border=\"1\" class=\"dataframe\">\n",
       "  <thead>\n",
       "    <tr style=\"text-align: right;\">\n",
       "      <th></th>\n",
       "      <th>No.</th>\n",
       "      <th>Name</th>\n",
       "      <th>* TOTAL BITs</th>\n",
       "      <th>* TOTAL TIPs</th>\n",
       "    </tr>\n",
       "  </thead>\n",
       "  <tbody>\n",
       "    <tr>\n",
       "      <th>0</th>\n",
       "      <td>1</td>\n",
       "      <td>Afghanistan</td>\n",
       "      <td>4 (3 in force)</td>\n",
       "      <td>5 (4 in force)</td>\n",
       "    </tr>\n",
       "    <tr>\n",
       "      <th>1</th>\n",
       "      <td>2</td>\n",
       "      <td>Albania</td>\n",
       "      <td>45 (40 in force)</td>\n",
       "      <td>6 (6 in force)</td>\n",
       "    </tr>\n",
       "    <tr>\n",
       "      <th>2</th>\n",
       "      <td>3</td>\n",
       "      <td>Algeria</td>\n",
       "      <td>45 (29 in force)</td>\n",
       "      <td>7 (5 in force)</td>\n",
       "    </tr>\n",
       "    <tr>\n",
       "      <th>3</th>\n",
       "      <td>4</td>\n",
       "      <td>Andorra</td>\n",
       "      <td>1 (1 in force)</td>\n",
       "      <td>0</td>\n",
       "    </tr>\n",
       "    <tr>\n",
       "      <th>4</th>\n",
       "      <td>5</td>\n",
       "      <td>Angola</td>\n",
       "      <td>18 (6 in force)</td>\n",
       "      <td>6 (5 in force)</td>\n",
       "    </tr>\n",
       "  </tbody>\n",
       "</table>\n",
       "</div>"
      ],
      "text/plain": [
       "   No.         Name      * TOTAL BITs    * TOTAL TIPs\n",
       "0    1  Afghanistan    4 (3 in force)  5 (4 in force)\n",
       "1    2      Albania  45 (40 in force)  6 (6 in force)\n",
       "2    3      Algeria  45 (29 in force)  7 (5 in force)\n",
       "3    4      Andorra    1 (1 in force)               0\n",
       "4    5       Angola   18 (6 in force)  6 (5 in force)"
      ]
     },
     "metadata": {},
     "output_type": "display_data"
    }
   ],
   "source": [
    "table = soup.find_all('table')\n",
    "economy_df = pd.read_html(str(table))[0]\n",
    "#print(economy_df)\n",
    "display(economy_df.head())"
   ]
  },
  {
   "cell_type": "markdown",
   "metadata": {},
   "source": [
    "### 1.2"
   ]
  },
  {
   "cell_type": "code",
   "execution_count": 49,
   "metadata": {},
   "outputs": [],
   "source": [
    "#click on each country name\n",
    "pages = []\n",
    "for link in soup.find_all('a'):\n",
    "    mylink = link.get('href')\n",
    "    #identifies the portion of the url that has country and country number\n",
    "    if '/international-investment-agreements/countries/' in mylink:\n",
    "        mylink = 'https://investmentpolicy.unctad.org' + mylink\n",
    "        if link.text in ctnames:\n",
    "            # creating a sleep break that lasts between 1 and 5 seconds\n",
    "            sleep(random()*4+1)\n",
    "            # make the request get to access the website\n",
    "            result = requests.get(mylink)\n",
    "            # append the result to pages as a tupple\n",
    "            pages.append((result,link))\n",
    "# checking tools\n",
    "#            print(link.text)\n",
    "#            print(mylink)\n",
    "            break"
   ]
  },
  {
   "cell_type": "code",
   "execution_count": 51,
   "metadata": {},
   "outputs": [
    {
     "data": {
      "text/html": [
       "<div>\n",
       "<style scoped>\n",
       "    .dataframe tbody tr th:only-of-type {\n",
       "        vertical-align: middle;\n",
       "    }\n",
       "\n",
       "    .dataframe tbody tr th {\n",
       "        vertical-align: top;\n",
       "    }\n",
       "\n",
       "    .dataframe thead th {\n",
       "        text-align: right;\n",
       "    }\n",
       "</style>\n",
       "<table border=\"1\" class=\"dataframe\">\n",
       "  <thead>\n",
       "    <tr style=\"text-align: right;\">\n",
       "      <th></th>\n",
       "      <th>No.</th>\n",
       "      <th>Full title</th>\n",
       "      <th>Short title</th>\n",
       "      <th>Type</th>\n",
       "      <th>Status</th>\n",
       "      <th>Parties</th>\n",
       "      <th>Date of signature</th>\n",
       "      <th>Date of entry into force</th>\n",
       "      <th>Termination date</th>\n",
       "      <th>Text</th>\n",
       "      <th>country</th>\n",
       "    </tr>\n",
       "  </thead>\n",
       "  <tbody>\n",
       "    <tr>\n",
       "      <th>0</th>\n",
       "      <td>1</td>\n",
       "      <td>NaN</td>\n",
       "      <td>Afghanistan - Azerbaijan BIT (2017)</td>\n",
       "      <td>BITs</td>\n",
       "      <td>Signed (not in force)</td>\n",
       "      <td>Azerbaijan</td>\n",
       "      <td>01/12/2017</td>\n",
       "      <td>NaN</td>\n",
       "      <td>NaN</td>\n",
       "      <td>NaN</td>\n",
       "      <td>Afghanistan</td>\n",
       "    </tr>\n",
       "    <tr>\n",
       "      <th>1</th>\n",
       "      <td>2</td>\n",
       "      <td>NaN</td>\n",
       "      <td>Afghanistan - Iran, Islamic Republic of BIT (2...</td>\n",
       "      <td>BITs</td>\n",
       "      <td>In force</td>\n",
       "      <td>Iran, Islamic Republic of</td>\n",
       "      <td>28/05/2006</td>\n",
       "      <td>02/02/2008</td>\n",
       "      <td>NaN</td>\n",
       "      <td>NaN</td>\n",
       "      <td>Afghanistan</td>\n",
       "    </tr>\n",
       "    <tr>\n",
       "      <th>2</th>\n",
       "      <td>3</td>\n",
       "      <td>NaN</td>\n",
       "      <td>Afghanistan - Germany BIT (2005)</td>\n",
       "      <td>BITs</td>\n",
       "      <td>In force</td>\n",
       "      <td>Germany</td>\n",
       "      <td>20/04/2005</td>\n",
       "      <td>12/10/2007</td>\n",
       "      <td>NaN</td>\n",
       "      <td>Full text: en</td>\n",
       "      <td>Afghanistan</td>\n",
       "    </tr>\n",
       "    <tr>\n",
       "      <th>3</th>\n",
       "      <td>4</td>\n",
       "      <td>NaN</td>\n",
       "      <td>Afghanistan - Turkey BIT (2004)</td>\n",
       "      <td>BITs</td>\n",
       "      <td>In force</td>\n",
       "      <td>Türkiye</td>\n",
       "      <td>10/07/2004</td>\n",
       "      <td>19/07/2005</td>\n",
       "      <td>NaN</td>\n",
       "      <td>Full text: en</td>\n",
       "      <td>Afghanistan</td>\n",
       "    </tr>\n",
       "  </tbody>\n",
       "</table>\n",
       "</div>"
      ],
      "text/plain": [
       "   No.  Full title                                        Short title  Type  \\\n",
       "0    1         NaN                Afghanistan - Azerbaijan BIT (2017)  BITs   \n",
       "1    2         NaN  Afghanistan - Iran, Islamic Republic of BIT (2...  BITs   \n",
       "2    3         NaN                   Afghanistan - Germany BIT (2005)  BITs   \n",
       "3    4         NaN                    Afghanistan - Turkey BIT (2004)  BITs   \n",
       "\n",
       "                  Status                    Parties Date of signature  \\\n",
       "0  Signed (not in force)                 Azerbaijan        01/12/2017   \n",
       "1               In force  Iran, Islamic Republic of        28/05/2006   \n",
       "2               In force                    Germany        20/04/2005   \n",
       "3               In force                    Türkiye        10/07/2004   \n",
       "\n",
       "  Date of entry into force  Termination date           Text      country  \n",
       "0                      NaN               NaN            NaN  Afghanistan  \n",
       "1               02/02/2008               NaN            NaN  Afghanistan  \n",
       "2               12/10/2007               NaN  Full text: en  Afghanistan  \n",
       "3               19/07/2005               NaN  Full text: en  Afghanistan  "
      ]
     },
     "metadata": {},
     "output_type": "display_data"
    }
   ],
   "source": [
    "# make the tuppled key to \n",
    "for page,link in pages:\n",
    "    src2 = page.content\n",
    "    soup2 = BeautifulSoup(src2)\n",
    "    # scrape tables, class = table ajax\n",
    "    tble = soup2.find_all(class_ = 'table ajax')\n",
    "    # convert the soup material to a dataframe\n",
    "    countrydf = pd.read_html(str(tble))[0]\n",
    "    # add column to the dataframe\n",
    "    countrydf['country'] = link.text\n",
    "    display(countrydf)"
   ]
  },
  {
   "cell_type": "code",
   "execution_count": null,
   "metadata": {},
   "outputs": [],
   "source": [
    "# had to delete original sqlite database due to errors and no can not load in proper data due to scraping issue \n",
    "\n",
    "\n",
    "# To create a new SQLITE database, just connect to a file that doesn't exist yet. \n",
    "# When you do this, sqlite3 will see that you there is no db and will create one instead \n",
    "conn = sql.connect('ps3_db.sqlite')\n",
    "c = conn.cursor()\n",
    "\n",
    "## upload df data to sql db as follows:\n",
    "# First argument is the table name, second is the db connection object\n",
    "# substitute df with the name of the dataframe made above\n",
    "economy_df.to_sql(\"countries_table\",conn)\n",
    "dyad_df.to_sql(\"Bits_table\",conn)\n",
    "\n",
    "# Now we can access the data as we normally do\n",
    "#pd.read_sql(\"select * from bits_table\",conn)"
   ]
  },
  {
   "cell_type": "markdown",
   "metadata": {},
   "source": [
    "### 2.1"
   ]
  },
  {
   "cell_type": "markdown",
   "metadata": {},
   "source": [
    "### 2.2"
   ]
  }
 ],
 "metadata": {
  "kernelspec": {
   "display_name": "Python 3.9.5 64-bit",
   "language": "python",
   "name": "python3"
  },
  "language_info": {
   "codemirror_mode": {
    "name": "ipython",
    "version": 3
   },
   "file_extension": ".py",
   "mimetype": "text/x-python",
   "name": "python",
   "nbconvert_exporter": "python",
   "pygments_lexer": "ipython3",
   "version": "3.9.5"
  },
  "orig_nbformat": 4,
  "vscode": {
   "interpreter": {
    "hash": "2dd4fc679aeb296f410382e176c83522a9a15fa6bb80ce026025169e18b44fcd"
   }
  }
 },
 "nbformat": 4,
 "nbformat_minor": 2
}
