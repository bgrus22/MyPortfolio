{
 "cells": [
  {
   "cell_type": "markdown",
   "id": "645105f5-fdf2-4005-9961-eab55819130e",
   "metadata": {
    "slideshow": {
     "slide_type": "slide"
    },
    "tags": []
   },
   "source": [
    "# Background\n",
    "Depression is a serious mental health concern with numerous externalities, both on an individual and societal level. It would benefit  countries to try and determine what level of depression they may expect in the future. Like other mental illnesses there are a variety of factors, both enviromental and genetic, that contribute to this crisis so a variety of variables are necessary to predict what the future may hold accurately. "
   ]
  },
  {
   "cell_type": "code",
   "execution_count": 1,
   "id": "29546985-ce49-479b-99b4-77091c86ecb5",
   "metadata": {
    "slideshow": {
     "slide_type": "skip"
    },
    "tags": []
   },
   "outputs": [],
   "source": [
    "import pandas as pd\n",
    "import numpy as np\n",
    "from plotnine import *\n",
    "import matplotlib.pyplot as plt\n",
    "import warnings\n",
    "warnings.filterwarnings(\"ignore\")\n",
    "\n",
    "# For pre-processing data \n",
    "from sklearn import preprocessing as pp \n",
    "from sklearn.compose import ColumnTransformer \n",
    "\n",
    "# For splits and CV\n",
    "from sklearn.model_selection import train_test_split\n",
    "from sklearn.model_selection import KFold # Cross validation \n",
    "from sklearn.model_selection import cross_validate # Cross validation \n",
    "from sklearn.model_selection import GridSearchCV # Cross validation + param. tuning.\n",
    "\n",
    "# Machine learning methods \n",
    "from sklearn.naive_bayes import GaussianNB as NB\n",
    "from sklearn.linear_model import LinearRegression as LM\n",
    "from sklearn.neighbors import KNeighborsRegressor as KNN\n",
    "from sklearn.tree import DecisionTreeRegressor as DTree\n",
    "from sklearn import tree # For plotting the decision tree rules\n",
    "from sklearn.ensemble import BaggingRegressor as Bag\n",
    "from sklearn.ensemble import RandomForestRegressor as RF\n",
    "\n",
    "# For evaluating our model's performance\n",
    "import sklearn.metrics as m\n",
    "\n",
    "# Pipeline to combine modeling elements\n",
    "from sklearn.pipeline import Pipeline\n",
    "\n",
    "# For model interpretation\n",
    "from sklearn.inspection import (\n",
    "    permutation_importance,\n",
    "    partial_dependence, \n",
    "    PartialDependenceDisplay, \n",
    "    plot_partial_dependence\n",
    ")"
   ]
  },
  {
   "cell_type": "markdown",
   "id": "ddfb4cfc-e507-4409-97dc-baf135a82d06",
   "metadata": {
    "slideshow": {
     "slide_type": "slide"
    },
    "tags": []
   },
   "source": [
    "# Methodology\n",
    "Using Datasets collected from the World Bank, UN, WHO, World Value Surveys, and IMF, I plan on predicting the number of depression cases in the population two years after an observed country within a given year. For this model I will be examining the years of 1988 to 2015 to train this model. The relavent variables will take into account climate factors, presently being determined by average sunshine hours per year and whether or not an el nino weather pattern was observed that year. This will be combined with economic variables like the consumer price index and dummy years for economic crashes, namely 2008, 2000, 1993, and 1988. These will be coupled with demographic infromation based on WVS results by country for each time period which will aggregate each country's average response. This combined table will then be split into training and testing groups, split 80-20. "
   ]
  },
  {
   "cell_type": "code",
   "execution_count": 2,
   "id": "ad0aa877-7e37-45c7-9e02-66c4459bdf7a",
   "metadata": {
    "slideshow": {
     "slide_type": "skip"
    },
    "tags": []
   },
   "outputs": [],
   "source": [
    "#load in data\n",
    "nino = pd.read_csv(\"nino.csv\", keep_default_na=False, na_values=[\"NaN\"])\n",
    "depress = pd.read_excel('depression.xlsx')\n",
    "clsunshine = pd.read_excel('cl_Sunshine.xlsx')\n",
    "econ = pd.read_excel('econ.xlsx')\n",
    "\n",
    "# Set seed\n",
    "np.random.seed(2)\n",
    "\n",
    "#fold generated with 6 folds\n",
    "fold_generator = KFold(n_splits=6, shuffle=True,random_state=111)"
   ]
  },
  {
   "cell_type": "code",
   "execution_count": 3,
   "id": "2bacf6aa-3bbe-4c67-9cf4-912a97820429",
   "metadata": {
    "slideshow": {
     "slide_type": "subslide"
    },
    "tags": []
   },
   "outputs": [],
   "source": [
    "#scale variable for easier use\n",
    "depress['cleaned Depression'] = depress['Total Depressive disorders']/100000\n",
    "clsunshine['clNational Annual Avg'] = clsunshine['National Annual Avg']/200\n",
    "#create polynomial\n",
    "depress['sqrCPI(% Annual)'] = depress['CPI(% Annual)'] **2\n",
    "#change names to make merging easier\n",
    "depress['Country'] = depress['Entity']\n",
    "clsunshine['Country'] = clsunshine['Country or Territory']\n",
    "#lag the depression variable\n",
    "depress['Year'] = depress['Year'] - 2\n"
   ]
  },
  {
   "cell_type": "code",
   "execution_count": 4,
   "id": "c506847b-6544-4d4c-a509-6261fc5291a9",
   "metadata": {
    "slideshow": {
     "slide_type": "skip"
    },
    "tags": []
   },
   "outputs": [],
   "source": [
    "# Left Join on the year.  We get all the rows from the left dataframe and the matching values from right.\n",
    "# if there is no matching on the right, we get Null on the left (but that is not the case in this specific example)\n",
    "dta = pd.merge(depress, nino, on='Year', how='left')\n",
    "dta = pd.merge(dta, econ, on='Year', how='left')\n",
    "dta = pd.merge(dta,clsunshine, on='Country', how='left')"
   ]
  },
  {
   "cell_type": "code",
   "execution_count": 5,
   "id": "9eea8ee9-181c-4d4c-8bdc-7ad6e6e93070",
   "metadata": {
    "slideshow": {
     "slide_type": "subslide"
    },
    "tags": []
   },
   "outputs": [
    {
     "name": "stdout",
     "output_type": "stream",
     "text": [
      "1294 5174\n",
      "341 1420\n"
     ]
    }
   ],
   "source": [
    "# break the data up into a training (80%) and test dataset (20%). \n",
    "\n",
    "# Train-Test split (using Pandas)\n",
    "train = dta.sample(frac=.8).reset_index(drop=True)\n",
    "test = dta.drop(train.index).reset_index(drop=True)\n",
    "print(test.shape[0],train.shape[0])\n",
    "dtrain = train.dropna()\n",
    "dtest = test.dropna()\n",
    "print(dtest.shape[0],dtrain.shape[0])\n"
   ]
  },
  {
   "cell_type": "markdown",
   "id": "a70c1098-00d5-4e9e-ad81-b5d2b210c125",
   "metadata": {
    "slideshow": {
     "slide_type": "slide"
    },
    "tags": []
   },
   "source": [
    "# Preliminary Results\n",
    "Thus far I have run a pipe with Linear Model, NaiveBayes, KNN, Decision Tree, Bagging, and Random forest models. With the few variables I have wrangled into the models thus far I am finding that a linear model is the best predictor with the most predictive variable being the annual average amount of sunshine hours. This may be due to endogeniety issues relating to developing countries or possibly be a result of outlier values."
   ]
  },
  {
   "cell_type": "code",
   "execution_count": 12,
   "id": "3494350e-ad1a-429f-b31c-28121ccce50f",
   "metadata": {
    "slideshow": {
     "slide_type": "subslide"
    },
    "tags": []
   },
   "outputs": [
    {
     "name": "stdout",
     "output_type": "stream",
     "text": [
      "    CPI(% Annual)  sqrCPI(% Annual) nino  Crisis  clNational Annual Avg\n",
      "2        1.182956          1.399385    0     1.0              13.607575\n",
      "5        7.850803         61.635101    0     1.0              13.644955\n",
      "9        2.227707          4.962680    0     0.0              16.569000\n",
      "10       3.483407         12.134124    1     0.0              16.329000\n",
      "15       2.358604          5.563014    0     0.0              10.112000\n"
     ]
    },
    {
     "data": {
      "text/plain": [
       "2     26.611682\n",
       "5      5.785492\n",
       "9      0.307362\n",
       "10     0.233329\n",
       "15     1.935765\n",
       "Name: cleaned Depression, dtype: float64"
      ]
     },
     "execution_count": 12,
     "metadata": {},
     "output_type": "execute_result"
    }
   ],
   "source": [
    "# generate x values\n",
    "train_x = dtrain.drop(columns=['Total Depressive disorders','Code','Entity','Year',\n",
    "'cleaned Depression','Country or Territory','Country','National Annual Avg'])\n",
    "test_x = dtest.drop(columns=['Total Depressive disorders','Code','Entity','Year',\n",
    "'cleaned Depression','Country or Territory','Country','National Annual Avg'])\n",
    "# create the y values\n",
    "train_y = dtrain['cleaned Depression']\n",
    "test_y = dtest['cleaned Depression']\n",
    "print(train_x.head())\n",
    "train_y.head()"
   ]
  },
  {
   "cell_type": "code",
   "execution_count": 7,
   "id": "f6caf739-4c8d-4ca1-af93-9e02e1b56636",
   "metadata": {
    "slideshow": {
     "slide_type": "skip"
    },
    "tags": []
   },
   "outputs": [],
   "source": [
    "#create the pipe, begining with preprocess\n",
    "preprocess = ColumnTransformer(transformers=[('num', pp.MinMaxScaler(), ['nino','Crisis','sqrCPI(% Annual)','clNational Annual Avg','CPI(% Annual)'])])\n",
    "\n",
    "pipe = Pipeline(steps=[('pre_process', preprocess),('model',None)])\n",
    "\n",
    "search_space = [\n",
    "    # Linear Model\n",
    "    {'model' : [LM()]},\n",
    "    \n",
    "    # NaiveBayes\n",
    "    {'model': [NB()]},\n",
    "\n",
    "    # KNN with K tuning param\n",
    "    {'model' : [KNN()],\n",
    "     'model__n_neighbors':[30,35,50,60,75,150,250,380]},\n",
    "    \n",
    "    # Decision Tree with the Max Depth Param\n",
    "    {'model': [DTree()],\n",
    "     'model__max_depth':[3,4,5,6,8]},\n",
    "    \n",
    "    # The Bagging decision tree model \n",
    "    {'model': [Bag()]},\n",
    "    \n",
    "    # Random forest with the N Estimators tuning param\n",
    "    {'model' : [RF()],\n",
    "     'model__max_depth':[1,2,3],\n",
    "     'model__n_estimators':[200,300,500,800,1000,1250]},\n",
    "]\n",
    "\n",
    "search = GridSearchCV(pipe, search_space, \n",
    "                      cv = fold_generator,\n",
    "                      scoring='roc_auc',\n",
    "                      n_jobs=5)"
   ]
  },
  {
   "cell_type": "code",
   "execution_count": 9,
   "id": "558eae44-f867-429e-ad25-30bfe84362c1",
   "metadata": {
    "slideshow": {
     "slide_type": "subslide"
    },
    "tags": []
   },
   "outputs": [
    {
     "data": {
      "text/plain": [
       "Pipeline(steps=[('pre_process',\n",
       "                 ColumnTransformer(transformers=[('num', MinMaxScaler(),\n",
       "                                                  ['nino', 'Crisis',\n",
       "                                                   'sqrCPI(% Annual)',\n",
       "                                                   'clNational Annual Avg',\n",
       "                                                   'CPI(% Annual)'])])),\n",
       "                ('model', LinearRegression())])"
      ]
     },
     "execution_count": 9,
     "metadata": {},
     "output_type": "execute_result"
    }
   ],
   "source": [
    "# (6) Fit the model to the training data\n",
    "search.fit(train_x,train_y)\n",
    "\n",
    "rf_mod = search.best_estimator_\n",
    "rf_mod"
   ]
  },
  {
   "cell_type": "code",
   "execution_count": 10,
   "id": "b4816c8b-d2ad-451f-b5af-0d790ccc6c32",
   "metadata": {
    "slideshow": {
     "slide_type": "skip"
    },
    "tags": []
   },
   "outputs": [
    {
     "data": {
      "text/html": [
       "<div>\n",
       "<style scoped>\n",
       "    .dataframe tbody tr th:only-of-type {\n",
       "        vertical-align: middle;\n",
       "    }\n",
       "\n",
       "    .dataframe tbody tr th {\n",
       "        vertical-align: top;\n",
       "    }\n",
       "\n",
       "    .dataframe thead th {\n",
       "        text-align: right;\n",
       "    }\n",
       "</style>\n",
       "<table border=\"1\" class=\"dataframe\">\n",
       "  <thead>\n",
       "    <tr style=\"text-align: right;\">\n",
       "      <th></th>\n",
       "      <th>variable</th>\n",
       "      <th>vi</th>\n",
       "      <th>std</th>\n",
       "      <th>low</th>\n",
       "      <th>high</th>\n",
       "    </tr>\n",
       "  </thead>\n",
       "  <tbody>\n",
       "    <tr>\n",
       "      <th>0</th>\n",
       "      <td>clNational Annual Avg</td>\n",
       "      <td>4.176116e-02</td>\n",
       "      <td>6.660918e-03</td>\n",
       "      <td>0.028439</td>\n",
       "      <td>0.055083</td>\n",
       "    </tr>\n",
       "    <tr>\n",
       "      <th>1</th>\n",
       "      <td>CPI(% Annual)</td>\n",
       "      <td>4.825533e-04</td>\n",
       "      <td>1.344142e-03</td>\n",
       "      <td>-0.002206</td>\n",
       "      <td>0.003171</td>\n",
       "    </tr>\n",
       "    <tr>\n",
       "      <th>2</th>\n",
       "      <td>sqrCPI(% Annual)</td>\n",
       "      <td>8.425477e-05</td>\n",
       "      <td>3.317626e-04</td>\n",
       "      <td>-0.000579</td>\n",
       "      <td>0.000748</td>\n",
       "    </tr>\n",
       "    <tr>\n",
       "      <th>3</th>\n",
       "      <td>Crisis</td>\n",
       "      <td>-1.294207e-08</td>\n",
       "      <td>6.309858e-07</td>\n",
       "      <td>-0.000001</td>\n",
       "      <td>0.000001</td>\n",
       "    </tr>\n",
       "    <tr>\n",
       "      <th>4</th>\n",
       "      <td>nino</td>\n",
       "      <td>-1.208600e-05</td>\n",
       "      <td>4.822832e-04</td>\n",
       "      <td>-0.000977</td>\n",
       "      <td>0.000952</td>\n",
       "    </tr>\n",
       "  </tbody>\n",
       "</table>\n",
       "</div>"
      ],
      "text/plain": [
       "                variable            vi           std       low      high\n",
       "0  clNational Annual Avg  4.176116e-02  6.660918e-03  0.028439  0.055083\n",
       "1          CPI(% Annual)  4.825533e-04  1.344142e-03 -0.002206  0.003171\n",
       "2       sqrCPI(% Annual)  8.425477e-05  3.317626e-04 -0.000579  0.000748\n",
       "3                 Crisis -1.294207e-08  6.309858e-07 -0.000001  0.000001\n",
       "4                   nino -1.208600e-05  4.822832e-04 -0.000977  0.000952"
      ]
     },
     "execution_count": 10,
     "metadata": {},
     "output_type": "execute_result"
    }
   ],
   "source": [
    "vi = permutation_importance(rf_mod,train_x,train_y,n_repeats=5)\n",
    "# Organize as a data frame \n",
    "vi_dat = pd.DataFrame(dict(variable=train_x.columns,\n",
    "                           vi = vi['importances_mean'],\n",
    "                           std = vi['importances_std']))\n",
    "\n",
    "# Generate intervals\n",
    "vi_dat['low'] = vi_dat['vi'] - 2*vi_dat['std']\n",
    "vi_dat['high'] = vi_dat['vi'] + 2*vi_dat['std']\n",
    "\n",
    "# But in order from most to least important\n",
    "vi_dat = vi_dat.sort_values(by=\"vi\",ascending=False).reset_index(drop=True)\n",
    "vi_dat"
   ]
  },
  {
   "cell_type": "code",
   "execution_count": 11,
   "id": "0a278500-b03a-4a3f-901f-35e8d9adf298",
   "metadata": {
    "slideshow": {
     "slide_type": "subslide"
    },
    "tags": []
   },
   "outputs": [
    {
     "data": {
      "image/png": "[encoded data removed]",
      "text/plain": [
       "<Figure size 640x480 with 1 Axes>"
      ]
     },
     "metadata": {},
     "output_type": "display_data"
    },
    {
     "data": {
      "text/plain": [
       "<ggplot: (167279768580)>"
      ]
     },
     "execution_count": 11,
     "metadata": {},
     "output_type": "execute_result"
    }
   ],
   "source": [
    "# Plot\n",
    "(\n",
    "    ggplot(vi_dat,\n",
    "          aes(x=\"variable\",y=\"vi\")) +\n",
    "    geom_col(alpha=.5) +\n",
    "    geom_point() +\n",
    "    geom_errorbar(aes(ymin=\"low\",ymax=\"high\"),width=.2) +\n",
    "    theme_bw() +\n",
    "    scale_x_discrete(limits=vi_dat.variable.tolist()) +\n",
    "    coord_flip() +\n",
    "    labs(y=\"Reduction in AUC ROC\",x=\"\")\n",
    ")"
   ]
  },
  {
   "cell_type": "markdown",
   "id": "aa7a6e8e-c9a0-4699-a6b3-d593a9db6255",
   "metadata": {
    "slideshow": {
     "slide_type": "slide"
    },
    "tags": []
   },
   "source": [
    "# Lessons\n",
    "Data wrangling by far is the biggest challenge this project faces, generating enough observations and formatting tables to join together is significantly more difficult than the actual predictive leg of the work."
   ]
  },
  {
   "cell_type": "markdown",
   "id": "d50cb588",
   "metadata": {
    "slideshow": {
     "slide_type": "subslide"
    }
   },
   "source": [
    "Moving forward I plan on incorporating the WVS data as well as cosidering to examine for outliers due to large variation in the y variable. Another possible solution for the y value is to create an annual change variable rather than an overall population amount. It may be worth reconsidering the scoring mechanism being used."
   ]
  },
  {
   "cell_type": "code",
   "execution_count": null,
   "id": "076ff39d",
   "metadata": {
    "slideshow": {
     "slide_type": "skip"
    }
   },
   "outputs": [],
   "source": [
    "#"
   ]
  }
 ],
 "metadata": {
  "celltoolbar": "Slideshow",
  "kernelspec": {
   "display_name": "Python 3 (ipykernel)",
   "language": "python",
   "name": "python3"
  },
  "language_info": {
   "codemirror_mode": {
    "name": "ipython",
    "version": 3
   },
   "file_extension": ".py",
   "mimetype": "text/x-python",
   "name": "python",
   "nbconvert_exporter": "python",
   "pygments_lexer": "ipython3",
   "version": "3.9.5"
  }
 },
 "nbformat": 4,
 "nbformat_minor": 5
}
